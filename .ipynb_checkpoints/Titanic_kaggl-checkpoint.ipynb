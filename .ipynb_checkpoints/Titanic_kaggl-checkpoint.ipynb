{
 "cells": [
  {
   "cell_type": "markdown",
   "metadata": {
    "colab_type": "text",
    "id": "083LOyNpOYtd"
   },
   "source": [
    " ## Table of Contents\n",
    "1. [Introduction](#introduction)\n",
    "2. [Getting Started](#start) <br>\n",
    "    2.1 [Importing Libraries](#library) <br>\n",
    "    2.2 [Import Datasets](#data) <br>\n",
    "    2.3 [Take a Peek at the Dataset](#data1)<br>\n",
    "3. [Pre-data cleaning, Pre-EDA](#plot)<br>\n",
    "    3.1 [Plotting Some Counts for each variable](#count) <br>\n",
    "    3.2 [Compare Independent Variables with our output - Survived](#survive)<br>\n",
    "    3.2.1 [Gender vs Survived](#gender) <br>\n",
    "    3.2.2 [Pclass vs Survived](#pclass) <br>\n",
    "    3.2.3 [Embarked vs Survived](#embarked)<br>\n",
    "    3.2.4 [Age vs Survived](#age)<br>\n",
    "    3.2.5 [Fare vs Survived](#fare)<br>\n",
    "    3.3 [Correlation Matrix](#corr) <br>\n",
    "4. [Feature Engineering](#eng) <br>\n",
    "    4.1 [Imputation](#imp) <br>\n",
    "    4.1.1 [Missing Fares](#fare)<br>\n",
    "    4.1.2 [Missing Embarked](#emb)<br>\n",
    "    4.1.3 [Missing Age](#age)<br>\n",
    "    4.2 [Outliers](#out) <br>\n",
    "    4.3 [Drop Features](#drop)<br>\n",
    "    4.3.1 [Passenger ID](#id)<br>\n",
    "    4.3.2 [Ticket](#ticket)<br>\n",
    "    4.3.3 [Name](#name)<br>\n",
    "    4.3.4 [Cabin](#cab)<br>\n",
    "    4.4 [Binning?](#bin) <br>\n",
    "    4.5 [Encoding](#enc) <br>\n",
    "    4.6 [Feature Scaling](#scale) <br>\n",
    "5. [Machine Learning Modelling](#model)<br>\n",
    "    5.0 [Pre-Modeling Final Touch Up](#pre)<br>\n",
    "    5.0.1 [Dropping Useless Features](#drop)<br>\n",
    "    5.0.2 [Separating dependent and independent variables](#sep)<br>\n",
    "    5.0.3 [Train Test Split VS Cross Validation](#split)<br>\n",
    "    5.0.4 [Feature Scaling](#scale)<br>\n",
    "    5.0.5 [Using Train Test Split for Logistic Regression](#logreg)<br>\n",
    "    5.1 [Logistic Regression](#log) <br>\n",
    "    5.1.1 [Choose CV method](#cv) <br>\n",
    "    5.1.2 [Model Accuracy](#Accuracy)<br>\n",
    "    5.1.3 [ROC and AUC](#roc)<br>\n",
    "    5.1.4 [Stratified Cross Validation](#stratified)<br>\n",
    "6. [Other Machine Learning Models](#classifications)<br>\n",
    "    6.1 [KNN](#knn)<br>\n",
    "    6.2 [Support Vector Machine](#SVM) <br>\n",
    "    6.3 [Decision Tree](#dt)<br>\n",
    "    6.4 [Random Forest](#rf) <br>\n",
    "7. [Part 1: Intuitive explanation of Logistic Regression](#ls)\n",
    "8. [Part 2: Maximum Likelihood](#ls2)\n",
    "    "
   ]
  },
  {
   "cell_type": "markdown",
   "metadata": {
    "colab_type": "text",
    "id": "OV3XnAoiOYtg"
   },
   "source": [
    "**13/10/2019: Update on algorithm in random forest**\n",
    "\n",
    "**20/10/2019: Improved methods on EDA with some explanation on the code. It may be useful for some who wants neater presentation.**\n",
    "\n",
    "**27/10/2019: Logistic Regression Part II: Understanding how a model works is no trivial matter, spend some time to understand it will bring you a long way.**"
   ]
  },
  {
   "cell_type": "markdown",
   "metadata": {
    "colab_type": "text",
    "id": "Py4rOk82OYth"
   },
   "source": [
    "## 1) **Introduction** <a id=\"introduction\">Introduction</a> <a id=\"Introduction\"></a>\n",
    "\n",
    "I am beginer and learning data analysis and machine learnin . I will mainly focus on Logistic Regression. In particular, I will write an **intuitive** derivation of logistic regression and what are the necessary assumptions that one should fulfill before choosing this model. I believe that many new data analyst/scientists often fall into the traps of blindly using different models without understanding them fully. The major problems in data analysis are  overfitting/underfitting, which can be costly especially if your model is used to determine some real world problems.\n",
    "\n",
    "<br>\n",
    "Also, since I did not have any programming experience, I had a difficult time picking the language up at first - and therefore annotated codes with explanation beside. I will include those annotations in my Notebook.\n",
    "\n",
    "<br>\n",
    "\n",
    "Please help and guide me if something is not satisfying or can be done in better way\n",
    "\n",
    "<br>\n",
    "\n",
    "### krishdb38@gmail.com\n",
    "\n",
    "\n"
   ]
  },
  {
   "cell_type": "markdown",
   "metadata": {
    "colab_type": "text",
    "id": "siCDjUZfOYti"
   },
   "source": [
    "## 2) **Getting Started** <a id=\"start\"></a>"
   ]
  },
  {
   "cell_type": "markdown",
   "metadata": {
    "colab_type": "text",
    "id": "YtrTtACdOYtj"
   },
   "source": [
    "### 2.1) Importing Libraries <a id=\"library\"></a>\n",
    "\n",
    "This is our very first step, we shall import the necessary libraries that we want into python. We can add libraries along the way. Always import the basic libraries first."
   ]
  },
  {
   "cell_type": "code",
   "execution_count": 73,
   "metadata": {
    "colab": {},
    "colab_type": "code",
    "id": "gEg2VEurOYts"
   },
   "outputs": [],
   "source": [
    "%matplotlib inline \n",
    "import numpy as np                          #data matrix calcualtion\n",
    "import scipy as sp \n",
    "import matplotlib as mpl             \n",
    "import matplotlib.cm as cm \n",
    "import matplotlib.pyplot as plt             # Visual display\n",
    "import pandas as pd                         # to edit data\n",
    "\n",
    "#from pandas.tools.plotting import scatter_matrix\n",
    "#pd.set_option('display.width', 500)\n",
    "#pd.set_option('display.max_columns', 100)\n",
    "#pd.set_option('display.notebook_repr_html', True)\n",
    "\n",
    "import seaborn as sns                      #Visual presentaion\n",
    "sns.set(style=\"whitegrid\")\n",
    "\n",
    "#import warnings                            # Recommend to use these at last when complete project\n",
    "#warnings.filterwarnings('ignore')         #if you dont want to see ignore warning\n",
    "\n",
    "import sklearn\n",
    "from sklearn.preprocessing import LabelEncoder\n",
    "from sklearn.preprocessing import OneHotEncoder\n",
    "\n",
    "from IPython.core.interactiveshell import InteractiveShell\n",
    "\n",
    "InteractiveShell.ast_node_interactivity = \"all\""
   ]
  },
  {
   "cell_type": "code",
   "execution_count": 2,
   "metadata": {},
   "outputs": [],
   "source": [
    "import string\n",
    "import math\n",
    "import sys"
   ]
  },
  {
   "cell_type": "markdown",
   "metadata": {
    "colab_type": "text",
    "id": "FL1vDPPqOYtw"
   },
   "source": [
    "### 2.2) Import Datasets <a id=\"data\"></a>\n",
    "\n",
    "we import train and test datasets. There are various ways to import your datasets. I love pandas\n",
    "<br>\n",
    "\n",
    "**Training and Testing Sets**\n",
    "\n",
    "   a) **Training data:** Training data is the information <b> used to train an algorithm.</b> The training data includes both input data and the corresponding expected output. We can train different machine learning algorithms on the training data, in the hopes of finding one best algorithm for a particular problem that predicts well. Bear in mind that even if our algorithm performs extremely well on the training data, it may be a result of overfitting, and may not replicate the same accuracy when the algorithm is applied to some unseen (test) data. \n",
    "\n",
    "   b) **Testing data:** On the other hand, includes only input data, not the corresponding expected output. The testing data is used to assess how well Our algorithm was trained, and to estimate model properties.\n",
    "   \n",
    "<br>\n",
    "     \n",
    "So in our training data, we see that our second column says whether the passenger survived or not. The survived column is our output.  And in our test data, the output is not there, it is for us to TEST if our model developed based on the training set is accurate. However the preceding sentence seems to have a problem, IF, in the real world, we do not have the 'answers' for the test data, how then, would we be able to tell how well the training algorithm is performing on the test set. To resolve that issue, we usually perform train test split/cross validation method on the given training set first. See section 5.03 for more details."
   ]
  },
  {
   "cell_type": "code",
   "execution_count": 74,
   "metadata": {
    "colab": {
     "base_uri": "https://localhost:8080/",
     "height": 466
    },
    "colab_type": "code",
    "id": "Nn5_U2c5OYtx",
    "outputId": "f806d1f2-8373-4b44-d594-2d27e14accba"
   },
   "outputs": [],
   "source": [
    "train = pd.read_csv('datas/train.csv')  #data in datas folder in same directory\n",
    "test = pd.read_csv(\"datas/test.csv\")\n",
    "\n",
    "combine = [train, Test]\n",
    "combined = pd.concat(combine)\n"
   ]
  },
  {
   "cell_type": "markdown",
   "metadata": {},
   "source": [
    "### 2.3)  checking the data loded properly or not<br> Peeking at Datasets <a id=\"data1\"></a>"
   ]
  },
  {
   "cell_type": "code",
   "execution_count": 33,
   "metadata": {},
   "outputs": [
    {
     "data": {
      "text/html": [
       "<div>\n",
       "<style scoped>\n",
       "    .dataframe tbody tr th:only-of-type {\n",
       "        vertical-align: middle;\n",
       "    }\n",
       "\n",
       "    .dataframe tbody tr th {\n",
       "        vertical-align: top;\n",
       "    }\n",
       "\n",
       "    .dataframe thead th {\n",
       "        text-align: right;\n",
       "    }\n",
       "</style>\n",
       "<table border=\"1\" class=\"dataframe\">\n",
       "  <thead>\n",
       "    <tr style=\"text-align: right;\">\n",
       "      <th></th>\n",
       "      <th>PassengerId</th>\n",
       "      <th>Survived</th>\n",
       "      <th>Pclass</th>\n",
       "      <th>Name</th>\n",
       "      <th>Sex</th>\n",
       "      <th>Age</th>\n",
       "      <th>SibSp</th>\n",
       "      <th>Parch</th>\n",
       "      <th>Ticket</th>\n",
       "      <th>Fare</th>\n",
       "      <th>Cabin</th>\n",
       "      <th>Embarked</th>\n",
       "    </tr>\n",
       "  </thead>\n",
       "  <tbody>\n",
       "    <tr>\n",
       "      <th>0</th>\n",
       "      <td>1</td>\n",
       "      <td>0</td>\n",
       "      <td>3</td>\n",
       "      <td>Braund, Mr. Owen Harris</td>\n",
       "      <td>male</td>\n",
       "      <td>22.0</td>\n",
       "      <td>1</td>\n",
       "      <td>0</td>\n",
       "      <td>A/5 21171</td>\n",
       "      <td>7.2500</td>\n",
       "      <td>NaN</td>\n",
       "      <td>S</td>\n",
       "    </tr>\n",
       "    <tr>\n",
       "      <th>1</th>\n",
       "      <td>2</td>\n",
       "      <td>1</td>\n",
       "      <td>1</td>\n",
       "      <td>Cumings, Mrs. John Bradley (Florence Briggs Th...</td>\n",
       "      <td>female</td>\n",
       "      <td>38.0</td>\n",
       "      <td>1</td>\n",
       "      <td>0</td>\n",
       "      <td>PC 17599</td>\n",
       "      <td>71.2833</td>\n",
       "      <td>C85</td>\n",
       "      <td>C</td>\n",
       "    </tr>\n",
       "  </tbody>\n",
       "</table>\n",
       "</div>"
      ],
      "text/plain": [
       "   PassengerId  Survived  Pclass  \\\n",
       "0            1         0       3   \n",
       "1            2         1       1   \n",
       "\n",
       "                                                Name     Sex   Age  SibSp  \\\n",
       "0                            Braund, Mr. Owen Harris    male  22.0      1   \n",
       "1  Cumings, Mrs. John Bradley (Florence Briggs Th...  female  38.0      1   \n",
       "\n",
       "   Parch     Ticket     Fare Cabin Embarked  \n",
       "0      0  A/5 21171   7.2500   NaN        S  \n",
       "1      0   PC 17599  71.2833   C85        C  "
      ]
     },
     "execution_count": 33,
     "metadata": {},
     "output_type": "execute_result"
    }
   ],
   "source": [
    "train.head(2) #Only 2 rows"
   ]
  },
  {
   "cell_type": "code",
   "execution_count": 9,
   "metadata": {},
   "outputs": [
    {
     "data": {
      "text/html": [
       "<div>\n",
       "<style scoped>\n",
       "    .dataframe tbody tr th:only-of-type {\n",
       "        vertical-align: middle;\n",
       "    }\n",
       "\n",
       "    .dataframe tbody tr th {\n",
       "        vertical-align: top;\n",
       "    }\n",
       "\n",
       "    .dataframe thead th {\n",
       "        text-align: right;\n",
       "    }\n",
       "</style>\n",
       "<table border=\"1\" class=\"dataframe\">\n",
       "  <thead>\n",
       "    <tr style=\"text-align: right;\">\n",
       "      <th></th>\n",
       "      <th>PassengerId</th>\n",
       "      <th>Pclass</th>\n",
       "      <th>Name</th>\n",
       "      <th>Sex</th>\n",
       "      <th>Age</th>\n",
       "      <th>SibSp</th>\n",
       "      <th>Parch</th>\n",
       "      <th>Ticket</th>\n",
       "      <th>Fare</th>\n",
       "      <th>Cabin</th>\n",
       "      <th>Embarked</th>\n",
       "    </tr>\n",
       "  </thead>\n",
       "  <tbody>\n",
       "    <tr>\n",
       "      <th>416</th>\n",
       "      <td>1308</td>\n",
       "      <td>3</td>\n",
       "      <td>Ware, Mr. Frederick</td>\n",
       "      <td>male</td>\n",
       "      <td>NaN</td>\n",
       "      <td>0</td>\n",
       "      <td>0</td>\n",
       "      <td>359309</td>\n",
       "      <td>8.0500</td>\n",
       "      <td>NaN</td>\n",
       "      <td>S</td>\n",
       "    </tr>\n",
       "    <tr>\n",
       "      <th>417</th>\n",
       "      <td>1309</td>\n",
       "      <td>3</td>\n",
       "      <td>Peter, Master. Michael J</td>\n",
       "      <td>male</td>\n",
       "      <td>NaN</td>\n",
       "      <td>1</td>\n",
       "      <td>1</td>\n",
       "      <td>2668</td>\n",
       "      <td>22.3583</td>\n",
       "      <td>NaN</td>\n",
       "      <td>C</td>\n",
       "    </tr>\n",
       "  </tbody>\n",
       "</table>\n",
       "</div>"
      ],
      "text/plain": [
       "     PassengerId  Pclass                      Name   Sex  Age  SibSp  Parch  \\\n",
       "416         1308       3       Ware, Mr. Frederick  male  NaN      0      0   \n",
       "417         1309       3  Peter, Master. Michael J  male  NaN      1      1   \n",
       "\n",
       "     Ticket     Fare Cabin Embarked  \n",
       "416  359309   8.0500   NaN        S  \n",
       "417    2668  22.3583   NaN        C  "
      ]
     },
     "execution_count": 9,
     "metadata": {},
     "output_type": "execute_result"
    }
   ],
   "source": [
    "test.tail(2)   #Only 2 rows"
   ]
  },
  {
   "cell_type": "markdown",
   "metadata": {},
   "source": [
    "#### Info of test table"
   ]
  },
  {
   "cell_type": "code",
   "execution_count": 10,
   "metadata": {
    "colab": {},
    "colab_type": "code",
    "id": "Usa11rGSOYt2",
    "outputId": "313d6c13-7995-4bf0-91f6-7a0ad62685bb"
   },
   "outputs": [
    {
     "name": "stdout",
     "output_type": "stream",
     "text": [
      "<class 'pandas.core.frame.DataFrame'>\n",
      "RangeIndex: 418 entries, 0 to 417\n",
      "Data columns (total 11 columns):\n",
      "PassengerId    418 non-null int64\n",
      "Pclass         418 non-null int64\n",
      "Name           418 non-null object\n",
      "Sex            418 non-null object\n",
      "Age            332 non-null float64\n",
      "SibSp          418 non-null int64\n",
      "Parch          418 non-null int64\n",
      "Ticket         418 non-null object\n",
      "Fare           417 non-null float64\n",
      "Cabin          91 non-null object\n",
      "Embarked       418 non-null object\n",
      "dtypes: float64(2), int64(4), object(5)\n",
      "memory usage: 36.0+ KB\n"
     ]
    }
   ],
   "source": [
    "test.info()"
   ]
  },
  {
   "cell_type": "markdown",
   "metadata": {},
   "source": [
    "#### **Data Types are Important for EDA** \n",
    "\n",
    "From the above:\n",
    "\n",
    "There are 5 <b> object </b> features(Columns) : Name, Sex, Ticket, Cabin and Embarked.\n",
    "\n",
    "- Two of them: Cabin and Ticket are mixed type (numbers+ string)\n",
    "- Sex is binary category\n",
    "- Embarked is category\n",
    "- Name is text\n",
    "\n",
    "There are 6 numeric features: Pclass, Age, PassengerID, SibSp, Parch, Fare. <b> int 64 or float 64 </b>\n",
    "\n",
    "- Age and Fare are continuous\n",
    "- Pclass is ordinal category\n",
    "- SibSp and Parch are discrete ordinal\n",
    "- Target: Survived is binary categorical\n",
    "\n",
    "Refer: https://towardsdatascience.com/data-types-in-statistics-347e152e8bee\n"
   ]
  },
  {
   "cell_type": "markdown",
   "metadata": {},
   "source": [
    "### Description of train table"
   ]
  },
  {
   "cell_type": "code",
   "execution_count": 11,
   "metadata": {},
   "outputs": [
    {
     "data": {
      "text/html": [
       "<div>\n",
       "<style scoped>\n",
       "    .dataframe tbody tr th:only-of-type {\n",
       "        vertical-align: middle;\n",
       "    }\n",
       "\n",
       "    .dataframe tbody tr th {\n",
       "        vertical-align: top;\n",
       "    }\n",
       "\n",
       "    .dataframe thead th {\n",
       "        text-align: right;\n",
       "    }\n",
       "</style>\n",
       "<table border=\"1\" class=\"dataframe\">\n",
       "  <thead>\n",
       "    <tr style=\"text-align: right;\">\n",
       "      <th></th>\n",
       "      <th>PassengerId</th>\n",
       "      <th>Survived</th>\n",
       "      <th>Pclass</th>\n",
       "      <th>Age</th>\n",
       "      <th>SibSp</th>\n",
       "      <th>Parch</th>\n",
       "      <th>Fare</th>\n",
       "    </tr>\n",
       "  </thead>\n",
       "  <tbody>\n",
       "    <tr>\n",
       "      <th>count</th>\n",
       "      <td>891.000000</td>\n",
       "      <td>891.000000</td>\n",
       "      <td>891.000000</td>\n",
       "      <td>714.000000</td>\n",
       "      <td>891.000000</td>\n",
       "      <td>891.000000</td>\n",
       "      <td>891.000000</td>\n",
       "    </tr>\n",
       "    <tr>\n",
       "      <th>mean</th>\n",
       "      <td>446.000000</td>\n",
       "      <td>0.383838</td>\n",
       "      <td>2.308642</td>\n",
       "      <td>29.699118</td>\n",
       "      <td>0.523008</td>\n",
       "      <td>0.381594</td>\n",
       "      <td>32.204208</td>\n",
       "    </tr>\n",
       "    <tr>\n",
       "      <th>std</th>\n",
       "      <td>257.353842</td>\n",
       "      <td>0.486592</td>\n",
       "      <td>0.836071</td>\n",
       "      <td>14.526497</td>\n",
       "      <td>1.102743</td>\n",
       "      <td>0.806057</td>\n",
       "      <td>49.693429</td>\n",
       "    </tr>\n",
       "    <tr>\n",
       "      <th>min</th>\n",
       "      <td>1.000000</td>\n",
       "      <td>0.000000</td>\n",
       "      <td>1.000000</td>\n",
       "      <td>0.420000</td>\n",
       "      <td>0.000000</td>\n",
       "      <td>0.000000</td>\n",
       "      <td>0.000000</td>\n",
       "    </tr>\n",
       "    <tr>\n",
       "      <th>25%</th>\n",
       "      <td>223.500000</td>\n",
       "      <td>0.000000</td>\n",
       "      <td>2.000000</td>\n",
       "      <td>20.125000</td>\n",
       "      <td>0.000000</td>\n",
       "      <td>0.000000</td>\n",
       "      <td>7.910400</td>\n",
       "    </tr>\n",
       "    <tr>\n",
       "      <th>50%</th>\n",
       "      <td>446.000000</td>\n",
       "      <td>0.000000</td>\n",
       "      <td>3.000000</td>\n",
       "      <td>28.000000</td>\n",
       "      <td>0.000000</td>\n",
       "      <td>0.000000</td>\n",
       "      <td>14.454200</td>\n",
       "    </tr>\n",
       "    <tr>\n",
       "      <th>75%</th>\n",
       "      <td>668.500000</td>\n",
       "      <td>1.000000</td>\n",
       "      <td>3.000000</td>\n",
       "      <td>38.000000</td>\n",
       "      <td>1.000000</td>\n",
       "      <td>0.000000</td>\n",
       "      <td>31.000000</td>\n",
       "    </tr>\n",
       "    <tr>\n",
       "      <th>max</th>\n",
       "      <td>891.000000</td>\n",
       "      <td>1.000000</td>\n",
       "      <td>3.000000</td>\n",
       "      <td>80.000000</td>\n",
       "      <td>8.000000</td>\n",
       "      <td>6.000000</td>\n",
       "      <td>512.329200</td>\n",
       "    </tr>\n",
       "  </tbody>\n",
       "</table>\n",
       "</div>"
      ],
      "text/plain": [
       "       PassengerId    Survived      Pclass         Age       SibSp  \\\n",
       "count   891.000000  891.000000  891.000000  714.000000  891.000000   \n",
       "mean    446.000000    0.383838    2.308642   29.699118    0.523008   \n",
       "std     257.353842    0.486592    0.836071   14.526497    1.102743   \n",
       "min       1.000000    0.000000    1.000000    0.420000    0.000000   \n",
       "25%     223.500000    0.000000    2.000000   20.125000    0.000000   \n",
       "50%     446.000000    0.000000    3.000000   28.000000    0.000000   \n",
       "75%     668.500000    1.000000    3.000000   38.000000    1.000000   \n",
       "max     891.000000    1.000000    3.000000   80.000000    8.000000   \n",
       "\n",
       "            Parch        Fare  \n",
       "count  891.000000  891.000000  \n",
       "mean     0.381594   32.204208  \n",
       "std      0.806057   49.693429  \n",
       "min      0.000000    0.000000  \n",
       "25%      0.000000    7.910400  \n",
       "50%      0.000000   14.454200  \n",
       "75%      0.000000   31.000000  \n",
       "max      6.000000  512.329200  "
      ]
     },
     "execution_count": 11,
     "metadata": {},
     "output_type": "execute_result"
    }
   ],
   "source": [
    "train.describe()"
   ]
  },
  {
   "cell_type": "code",
   "execution_count": 0,
   "metadata": {
    "colab": {},
    "colab_type": "code",
    "id": "ppP-zWdlOYt5",
    "outputId": "c419f945-a54a-493e-abd5-07487f48f6a5"
   },
   "outputs": [
    {
     "data": {
      "text/plain": [
       "PassengerId    891\n",
       "Survived       891\n",
       "Pclass         891\n",
       "Name           891\n",
       "Sex            891\n",
       "Age            714\n",
       "SibSp          891\n",
       "Parch          891\n",
       "Ticket         891\n",
       "Fare           891\n",
       "Cabin          204\n",
       "Embarked       889\n",
       "dtype: int64"
      ]
     },
     "execution_count": 9,
     "metadata": {
      "tags": []
     },
     "output_type": "execute_result"
    }
   ],
   "source": [
    "train.count() #Count the numbers of rows in train table"
   ]
  },
  {
   "cell_type": "markdown",
   "metadata": {
    "colab_type": "text",
    "id": "XbOXqmMgOYt8"
   },
   "source": [
    ".info() function gives you alot of informations about table in single table.<br>We also must check null nan value in table and manage these values seprately.<br> There are various techniques of handling missing values, but we must be aware of the limitations of the different methods.\n",
    "<br> \n",
    "A neat way to present the number of missing value is coded as below."
   ]
  },
  {
   "cell_type": "code",
   "execution_count": 22,
   "metadata": {},
   "outputs": [
    {
     "data": {
      "text/plain": [
       "PassengerId      0\n",
       "Survived         0\n",
       "Pclass           0\n",
       "Name             0\n",
       "Sex              0\n",
       "Age            177\n",
       "SibSp            0\n",
       "Parch            0\n",
       "Ticket           0\n",
       "Fare             0\n",
       "Cabin          687\n",
       "Embarked         2\n",
       "dtype: int64"
      ]
     },
     "execution_count": 22,
     "metadata": {},
     "output_type": "execute_result"
    }
   ],
   "source": [
    "#train.isnull() # complete boolean output\n",
    "#train.isna()   #not availiable data \n",
    "train.isnull().sum()"
   ]
  },
  {
   "cell_type": "code",
   "execution_count": 29,
   "metadata": {
    "colab": {},
    "colab_type": "code",
    "id": "pbIeU69qOYt8"
   },
   "outputs": [
    {
     "name": "stdout",
     "output_type": "stream",
     "text": [
      "**************************************************\n",
      "test table rows with null values Column wise:\n",
      " PassengerId      0\n",
      "Pclass           0\n",
      "Name             0\n",
      "Sex              0\n",
      "Age             86\n",
      "SibSp            0\n",
      "Parch            0\n",
      "Ticket           0\n",
      "Fare             1\n",
      "Cabin          327\n",
      "Embarked         0\n",
      "dtype: int64\n",
      "**************************************************\n"
     ]
    }
   ],
   "source": [
    "print(\"*\"*50)\n",
    "print('test table rows with null values Column wise:\\n',test.isnull().sum())\n",
    "print(\"*\"*50)"
   ]
  },
  {
   "cell_type": "markdown",
   "metadata": {
    "colab_type": "text",
    "id": "lGh3ELCaOYt_"
   },
   "source": [
    "train.describe(include='all') describes the whole data set in terms of count, the unique values, mean and etc. But it may not be very meaningful now since there are a lot of missing values."
   ]
  },
  {
   "cell_type": "code",
   "execution_count": 30,
   "metadata": {
    "colab": {},
    "colab_type": "code",
    "id": "bgfAPfF5OYuA"
   },
   "outputs": [
    {
     "data": {
      "text/html": [
       "<div>\n",
       "<style scoped>\n",
       "    .dataframe tbody tr th:only-of-type {\n",
       "        vertical-align: middle;\n",
       "    }\n",
       "\n",
       "    .dataframe tbody tr th {\n",
       "        vertical-align: top;\n",
       "    }\n",
       "\n",
       "    .dataframe thead th {\n",
       "        text-align: right;\n",
       "    }\n",
       "</style>\n",
       "<table border=\"1\" class=\"dataframe\">\n",
       "  <thead>\n",
       "    <tr style=\"text-align: right;\">\n",
       "      <th></th>\n",
       "      <th>PassengerId</th>\n",
       "      <th>Survived</th>\n",
       "      <th>Pclass</th>\n",
       "      <th>Name</th>\n",
       "      <th>Sex</th>\n",
       "      <th>Age</th>\n",
       "      <th>SibSp</th>\n",
       "      <th>Parch</th>\n",
       "      <th>Ticket</th>\n",
       "      <th>Fare</th>\n",
       "      <th>Cabin</th>\n",
       "      <th>Embarked</th>\n",
       "    </tr>\n",
       "  </thead>\n",
       "  <tbody>\n",
       "    <tr>\n",
       "      <th>count</th>\n",
       "      <td>891.000000</td>\n",
       "      <td>891.000000</td>\n",
       "      <td>891.000000</td>\n",
       "      <td>891</td>\n",
       "      <td>891</td>\n",
       "      <td>714.000000</td>\n",
       "      <td>891.000000</td>\n",
       "      <td>891.000000</td>\n",
       "      <td>891</td>\n",
       "      <td>891.000000</td>\n",
       "      <td>204</td>\n",
       "      <td>889</td>\n",
       "    </tr>\n",
       "    <tr>\n",
       "      <th>unique</th>\n",
       "      <td>NaN</td>\n",
       "      <td>NaN</td>\n",
       "      <td>NaN</td>\n",
       "      <td>891</td>\n",
       "      <td>2</td>\n",
       "      <td>NaN</td>\n",
       "      <td>NaN</td>\n",
       "      <td>NaN</td>\n",
       "      <td>681</td>\n",
       "      <td>NaN</td>\n",
       "      <td>147</td>\n",
       "      <td>3</td>\n",
       "    </tr>\n",
       "    <tr>\n",
       "      <th>top</th>\n",
       "      <td>NaN</td>\n",
       "      <td>NaN</td>\n",
       "      <td>NaN</td>\n",
       "      <td>Lovell, Mr. John Hall (\"Henry\")</td>\n",
       "      <td>male</td>\n",
       "      <td>NaN</td>\n",
       "      <td>NaN</td>\n",
       "      <td>NaN</td>\n",
       "      <td>1601</td>\n",
       "      <td>NaN</td>\n",
       "      <td>G6</td>\n",
       "      <td>S</td>\n",
       "    </tr>\n",
       "    <tr>\n",
       "      <th>freq</th>\n",
       "      <td>NaN</td>\n",
       "      <td>NaN</td>\n",
       "      <td>NaN</td>\n",
       "      <td>1</td>\n",
       "      <td>577</td>\n",
       "      <td>NaN</td>\n",
       "      <td>NaN</td>\n",
       "      <td>NaN</td>\n",
       "      <td>7</td>\n",
       "      <td>NaN</td>\n",
       "      <td>4</td>\n",
       "      <td>644</td>\n",
       "    </tr>\n",
       "    <tr>\n",
       "      <th>mean</th>\n",
       "      <td>446.000000</td>\n",
       "      <td>0.383838</td>\n",
       "      <td>2.308642</td>\n",
       "      <td>NaN</td>\n",
       "      <td>NaN</td>\n",
       "      <td>29.699118</td>\n",
       "      <td>0.523008</td>\n",
       "      <td>0.381594</td>\n",
       "      <td>NaN</td>\n",
       "      <td>32.204208</td>\n",
       "      <td>NaN</td>\n",
       "      <td>NaN</td>\n",
       "    </tr>\n",
       "    <tr>\n",
       "      <th>std</th>\n",
       "      <td>257.353842</td>\n",
       "      <td>0.486592</td>\n",
       "      <td>0.836071</td>\n",
       "      <td>NaN</td>\n",
       "      <td>NaN</td>\n",
       "      <td>14.526497</td>\n",
       "      <td>1.102743</td>\n",
       "      <td>0.806057</td>\n",
       "      <td>NaN</td>\n",
       "      <td>49.693429</td>\n",
       "      <td>NaN</td>\n",
       "      <td>NaN</td>\n",
       "    </tr>\n",
       "    <tr>\n",
       "      <th>min</th>\n",
       "      <td>1.000000</td>\n",
       "      <td>0.000000</td>\n",
       "      <td>1.000000</td>\n",
       "      <td>NaN</td>\n",
       "      <td>NaN</td>\n",
       "      <td>0.420000</td>\n",
       "      <td>0.000000</td>\n",
       "      <td>0.000000</td>\n",
       "      <td>NaN</td>\n",
       "      <td>0.000000</td>\n",
       "      <td>NaN</td>\n",
       "      <td>NaN</td>\n",
       "    </tr>\n",
       "    <tr>\n",
       "      <th>25%</th>\n",
       "      <td>223.500000</td>\n",
       "      <td>0.000000</td>\n",
       "      <td>2.000000</td>\n",
       "      <td>NaN</td>\n",
       "      <td>NaN</td>\n",
       "      <td>20.125000</td>\n",
       "      <td>0.000000</td>\n",
       "      <td>0.000000</td>\n",
       "      <td>NaN</td>\n",
       "      <td>7.910400</td>\n",
       "      <td>NaN</td>\n",
       "      <td>NaN</td>\n",
       "    </tr>\n",
       "    <tr>\n",
       "      <th>50%</th>\n",
       "      <td>446.000000</td>\n",
       "      <td>0.000000</td>\n",
       "      <td>3.000000</td>\n",
       "      <td>NaN</td>\n",
       "      <td>NaN</td>\n",
       "      <td>28.000000</td>\n",
       "      <td>0.000000</td>\n",
       "      <td>0.000000</td>\n",
       "      <td>NaN</td>\n",
       "      <td>14.454200</td>\n",
       "      <td>NaN</td>\n",
       "      <td>NaN</td>\n",
       "    </tr>\n",
       "    <tr>\n",
       "      <th>75%</th>\n",
       "      <td>668.500000</td>\n",
       "      <td>1.000000</td>\n",
       "      <td>3.000000</td>\n",
       "      <td>NaN</td>\n",
       "      <td>NaN</td>\n",
       "      <td>38.000000</td>\n",
       "      <td>1.000000</td>\n",
       "      <td>0.000000</td>\n",
       "      <td>NaN</td>\n",
       "      <td>31.000000</td>\n",
       "      <td>NaN</td>\n",
       "      <td>NaN</td>\n",
       "    </tr>\n",
       "    <tr>\n",
       "      <th>max</th>\n",
       "      <td>891.000000</td>\n",
       "      <td>1.000000</td>\n",
       "      <td>3.000000</td>\n",
       "      <td>NaN</td>\n",
       "      <td>NaN</td>\n",
       "      <td>80.000000</td>\n",
       "      <td>8.000000</td>\n",
       "      <td>6.000000</td>\n",
       "      <td>NaN</td>\n",
       "      <td>512.329200</td>\n",
       "      <td>NaN</td>\n",
       "      <td>NaN</td>\n",
       "    </tr>\n",
       "  </tbody>\n",
       "</table>\n",
       "</div>"
      ],
      "text/plain": [
       "        PassengerId    Survived      Pclass                             Name  \\\n",
       "count    891.000000  891.000000  891.000000                              891   \n",
       "unique          NaN         NaN         NaN                              891   \n",
       "top             NaN         NaN         NaN  Lovell, Mr. John Hall (\"Henry\")   \n",
       "freq            NaN         NaN         NaN                                1   \n",
       "mean     446.000000    0.383838    2.308642                              NaN   \n",
       "std      257.353842    0.486592    0.836071                              NaN   \n",
       "min        1.000000    0.000000    1.000000                              NaN   \n",
       "25%      223.500000    0.000000    2.000000                              NaN   \n",
       "50%      446.000000    0.000000    3.000000                              NaN   \n",
       "75%      668.500000    1.000000    3.000000                              NaN   \n",
       "max      891.000000    1.000000    3.000000                              NaN   \n",
       "\n",
       "         Sex         Age       SibSp       Parch Ticket        Fare Cabin  \\\n",
       "count    891  714.000000  891.000000  891.000000    891  891.000000   204   \n",
       "unique     2         NaN         NaN         NaN    681         NaN   147   \n",
       "top     male         NaN         NaN         NaN   1601         NaN    G6   \n",
       "freq     577         NaN         NaN         NaN      7         NaN     4   \n",
       "mean     NaN   29.699118    0.523008    0.381594    NaN   32.204208   NaN   \n",
       "std      NaN   14.526497    1.102743    0.806057    NaN   49.693429   NaN   \n",
       "min      NaN    0.420000    0.000000    0.000000    NaN    0.000000   NaN   \n",
       "25%      NaN   20.125000    0.000000    0.000000    NaN    7.910400   NaN   \n",
       "50%      NaN   28.000000    0.000000    0.000000    NaN   14.454200   NaN   \n",
       "75%      NaN   38.000000    1.000000    0.000000    NaN   31.000000   NaN   \n",
       "max      NaN   80.000000    8.000000    6.000000    NaN  512.329200   NaN   \n",
       "\n",
       "       Embarked  \n",
       "count       889  \n",
       "unique        3  \n",
       "top           S  \n",
       "freq        644  \n",
       "mean        NaN  \n",
       "std         NaN  \n",
       "min         NaN  \n",
       "25%         NaN  \n",
       "50%         NaN  \n",
       "75%         NaN  \n",
       "max         NaN  "
      ]
     },
     "execution_count": 30,
     "metadata": {},
     "output_type": "execute_result"
    }
   ],
   "source": [
    "train.describe(include='all')"
   ]
  },
  {
   "cell_type": "markdown",
   "metadata": {
    "colab_type": "text",
    "id": "_V-4NL8lOYuC"
   },
   "source": [
    "## 3) **Exploratory Data Analysis (EDA)** <a id =\"plot\"></a>\n",
    "\n",
    "\n",
    "Extracted from Ms Jean-leah Njoroge PHD (http://www.jeannjoroge.com/): At a high level, EDA is the practice of describing the data by means of statistical and visualization techniques to bring important aspects of that data into focus for further analysis. This involves looking at your data set from many angles, describing it, and summarizing it without making any assumptions about its contents. \n",
    "\n",
    "<br>\n",
    "<p style = \"background-color: gold \">\n",
    "<b> A good data exploration is a preamble to the formal analysis. It allows the data scientist to:</b><br>\n",
    "1) Verify expected relationships actually exist in the data, thus formulating and validating planned techniques of analysis.<br>\n",
    "2) To find some unexpected structure (think: outliers etc) in the data that must be taken into account, thereby suggesting some changes in the planned analysis.<br>\n",
    "3) Deliver data-driven insights to business stakeholders by confirming they are asking the right questions and not biasing the investigation with their assumptions.<br>\n",
    "4) Provide the context around the problem to make sure the potential value of the data scientist’s output can be maximized.\n",
    "</p>\n"
   ]
  },
  {
   "cell_type": "markdown",
   "metadata": {
    "colab_type": "text",
    "id": "-KmuaDXXOYuD"
   },
   "source": [
    "https://towardsdatascience.com/what-plot-why-this-plot-and-why-not-9508a0cb35ea and http://www.jeannjoroge.com/significance-of-exploratory-data-anaysis/\n",
    "\n",
    "### 1. Histograms VS Bar Charts\n",
    "\n",
    "The main difference between bar charts and histograms. With bar charts, each column represents a group defined by a <b>categorical variable</b>; and with histograms, each column represents a group defined by a <b> continuous/quantitative variable</b>.\n",
    "\n",
    "With bar charts, however, the x axis does not have a low end or a high end; because the labels on the X axis are categorical - not quantitative. As a result, it is not appropriate to comment on the skewness of a bar chart.\n",
    "    \n",
    "   <a href=\"https://www.quora.com/What-is-the-difference-between-a-histogram-and-a-bar-graph\">Details for bar and hist</a>\n",
    "    \n",
    "    <br>\n",
    "    \n",
    "### 2. Line Charts\n",
    "    \n",
    "    In a much simpler way , we can say that Line Chart’s are basically used to compare changes in one value with respect to the other values in a visual manner.\n",
    "    Line chart’s are mostly used to find trend during a particular time period but can also be used for ordinal data.\n",
    "So folk’s do remember that line chart can be used for Ordinal data, or Time series and comparison between one point to another.<br>\n",
    "      \n",
    "### 3. Scatterplots\n",
    "    Scatter plot graph is used to study the relationship between two variables. It basically shows how one variable is affected by the other.\n",
    "\n",
    "    Scatter plots usually consist of a large body of data. The closer the data points come when plotted to making a straight line, the higher the correlation between the two variables, or the stronger the relationship.\n",
    "    \n",
    "<br>\n",
    "    \n",
    "### 4. Box and Whiskers Plot\n",
    "\n",
    " Click here for more information\n",
    " <br>https://towardsdatascience.com/understanding-boxplots-5e2df7bcbd51\n",
    "    \n"
   ]
  },
  {
   "cell_type": "markdown",
   "metadata": {
    "colab_type": "text",
    "id": "0xoQ6MwXOYuE"
   },
   "source": [
    "### 3.1) Basic Plots <a id=\"count\"></a>"
   ]
  },
  {
   "cell_type": "markdown",
   "metadata": {
    "colab_type": "text",
    "id": "qFCr6jpKOYuE"
   },
   "source": [
    "This section is dedicated to know which plot to use when we only plot one variable; We will discuss what are the common plots to use for counts of one variable.\n",
    "\n",
    "<br>\n",
    "\n",
    "<b>1. Categorical Variables:</b> For categorical variables (or grouping variables). You can visualize the **count of categories** using a bar plot or using a pie chart to show the **proportion of each category**.\n",
    "<br><br>\n",
    "<b>2. Continuous Variables:</b> For continuous variable, you can visualize the distribution of the variable using <b><u> density plots, histograms and alternatives.<b><u>"
   ]
  },
  {
   "cell_type": "markdown",
   "metadata": {
    "colab_type": "text",
    "id": "wrvqH0jBOYuF"
   },
   "source": [
    "#### **Survival Count**"
   ]
  },
  {
   "cell_type": "code",
   "execution_count": 40,
   "metadata": {},
   "outputs": [
    {
     "data": {
      "text/html": [
       "<div>\n",
       "<style scoped>\n",
       "    .dataframe tbody tr th:only-of-type {\n",
       "        vertical-align: middle;\n",
       "    }\n",
       "\n",
       "    .dataframe tbody tr th {\n",
       "        vertical-align: top;\n",
       "    }\n",
       "\n",
       "    .dataframe thead th {\n",
       "        text-align: right;\n",
       "    }\n",
       "</style>\n",
       "<table border=\"1\" class=\"dataframe\">\n",
       "  <thead>\n",
       "    <tr style=\"text-align: right;\">\n",
       "      <th></th>\n",
       "      <th>PassengerId</th>\n",
       "      <th>Survived</th>\n",
       "      <th>Pclass</th>\n",
       "      <th>Name</th>\n",
       "      <th>Sex</th>\n",
       "      <th>Age</th>\n",
       "      <th>SibSp</th>\n",
       "      <th>Parch</th>\n",
       "      <th>Ticket</th>\n",
       "      <th>Fare</th>\n",
       "      <th>Cabin</th>\n",
       "      <th>Embarked</th>\n",
       "    </tr>\n",
       "  </thead>\n",
       "  <tbody>\n",
       "    <tr>\n",
       "      <th>0</th>\n",
       "      <td>1</td>\n",
       "      <td>0</td>\n",
       "      <td>3</td>\n",
       "      <td>Braund, Mr. Owen Harris</td>\n",
       "      <td>male</td>\n",
       "      <td>22.0</td>\n",
       "      <td>1</td>\n",
       "      <td>0</td>\n",
       "      <td>A/5 21171</td>\n",
       "      <td>7.25</td>\n",
       "      <td>NaN</td>\n",
       "      <td>S</td>\n",
       "    </tr>\n",
       "  </tbody>\n",
       "</table>\n",
       "</div>"
      ],
      "text/plain": [
       "   PassengerId  Survived  Pclass                     Name   Sex   Age  SibSp  \\\n",
       "0            1         0       3  Braund, Mr. Owen Harris  male  22.0      1   \n",
       "\n",
       "   Parch     Ticket  Fare Cabin Embarked  \n",
       "0      0  A/5 21171  7.25   NaN        S  "
      ]
     },
     "execution_count": 40,
     "metadata": {},
     "output_type": "execute_result"
    }
   ],
   "source": [
    "train.head(1)"
   ]
  },
  {
   "cell_type": "markdown",
   "metadata": {
    "colab_type": "text",
    "id": "PqSUKHwIOYuG"
   },
   "source": [
    "\n",
    "1. We specify the plot size in the first line and name our axis survive_bar.\n",
    "\n",
    "2. I like to use the package seaborn to plot my bar plot. \n",
    "\n",
    "3. we want to input x = train[\"Survived\"].value_counts().index, meaning that in the x axis, we have the index of the survived - which is 0 and 1. Next, y = train[\"Survived\"].value_counts() means that in the y axis input the frequency counts for 0 and 1 respectively. Lastly, ax = survive_bar just means we want to input all our graph on this axis called survive_bar where we defined a size for survive_bar earlier. Note that you can define your own axis to your likings.\n",
    "\n",
    "4. survive_bar.set_xticklabels(['Not Survived', 'Survived']) means we manually change the x axis's variable name from 0 and 1 to Not survived and Survived. survive_bar.set_ylabel('Frequency Count') just means we label the y axis as Frequency Count.\n",
    "\n",
    "5. survive_bar.set_title('Count of Survival', fontsize = 16) simply means setting the title for our graph.\n",
    "\n",
    "6. The last chunk of long codes just gives the count labels inside the graph. Sometimes it is visually pleasing to label the counts on the graph."
   ]
  },
  {
   "cell_type": "code",
   "execution_count": 41,
   "metadata": {
    "colab": {},
    "colab_type": "code",
    "id": "6GXKZWxUOYuH"
   },
   "outputs": [
    {
     "data": {
      "text/plain": [
       "<matplotlib.axes._subplots.AxesSubplot at 0x2057e831e48>"
      ]
     },
     "execution_count": 41,
     "metadata": {},
     "output_type": "execute_result"
    },
    {
     "data": {
      "text/plain": [
       "[Text(0, 0, 'Not Survived'), Text(0, 0, 'Survived')]"
      ]
     },
     "execution_count": 41,
     "metadata": {},
     "output_type": "execute_result"
    },
    {
     "data": {
      "text/plain": [
       "Text(0, 0.5, 'Frequency Count')"
      ]
     },
     "execution_count": 41,
     "metadata": {},
     "output_type": "execute_result"
    },
    {
     "data": {
      "text/plain": [
       "Text(0.5, 1.0, 'Count of Survival')"
      ]
     },
     "execution_count": 41,
     "metadata": {},
     "output_type": "execute_result"
    },
    {
     "data": {
      "text/plain": [
       "Text(0.0, 274.5, '549(62%)')"
      ]
     },
     "execution_count": 41,
     "metadata": {},
     "output_type": "execute_result"
    },
    {
     "data": {
      "text/plain": [
       "Text(1.0, 171.0, '342(38%)')"
      ]
     },
     "execution_count": 41,
     "metadata": {},
     "output_type": "execute_result"
    },
    {
     "data": {
      "image/png": "[encoded data removed]",
      "text/plain": [
       "<Figure size 720x720 with 1 Axes>"
      ]
     },
     "metadata": {},
     "output_type": "display_data"
    }
   ],
   "source": [
    "figure, survive_bar = plt.subplots(figsize=(10, 10))\n",
    "sns.barplot(x= train[\"Survived\"].value_counts().index, y = train[\"Survived\"].value_counts(), ax = survive_bar)\n",
    "survive_bar.set_xticklabels(['Not Survived', 'Survived'])\n",
    "survive_bar.set_ylabel('Frequency Count')\n",
    "survive_bar.set_title('Count of Survival', fontsize = 16)\n",
    "\n",
    "for patch in survive_bar.patches:\n",
    "    label_x = patch.get_x() + patch.get_width()/2  # find midpoint of rectangle\n",
    "    label_y = patch.get_y() + patch.get_height()/2\n",
    "    survive_bar.text(label_x, label_y,\n",
    "                #left - freq below - rel freq wrt population as a percentage\n",
    "               str(int(patch.get_height())) + '(' +\n",
    "               '{:.0%}'.format(patch.get_height()/len(train.Survived))+')',\n",
    "               horizontalalignment='center', verticalalignment='center')"
   ]
  },
  {
   "cell_type": "markdown",
   "metadata": {
    "colab_type": "text",
    "id": "veEITrV5OYuJ"
   },
   "source": [
    "The survive_bar plot gives you the information that 62% of the passengers died."
   ]
  },
  {
   "cell_type": "markdown",
   "metadata": {
    "colab_type": "text",
    "id": "vyWOJdbfOYuK"
   },
   "source": [
    "#### **Embarked Count**"
   ]
  },
  {
   "cell_type": "code",
   "execution_count": 0,
   "metadata": {
    "colab": {},
    "colab_type": "code",
    "id": "wrH0xISTOYuL"
   },
   "outputs": [],
   "source": [
    "figure, embarked_bar = plt.subplots(figsize=(7, 7))\n",
    "sns.barplot(x= train[\"Embarked\"].value_counts().index, y = train[\"Embarked\"].value_counts(), ax = embarked_bar)\n",
    "embarked_bar.set_xticklabels(['Southampton', 'Chernboug', 'Queenstown'])\n",
    "embarked_bar.set_ylabel('Frequency Count')\n",
    "embarked_bar.set_title('Where did the passengers board the Titanic?', fontsize = 16)"
   ]
  },
  {
   "cell_type": "markdown",
   "metadata": {
    "colab_type": "text",
    "id": "GchlF6IqOYuN"
   },
   "source": [
    "Some interesting observations is that most of the passengers boarded from Southampton. "
   ]
  },
  {
   "cell_type": "markdown",
   "metadata": {
    "colab_type": "text",
    "id": "dNyQz1QmOYuO"
   },
   "source": [
    "\n",
    "#### Category variables count\n",
    "\n",
    "The below plot is very useful:\n",
    "\n",
    "\n",
    "1. We first create a plot grid, with subplots on it, we define the figure size as usual, and now we pass some more conditions in it, we want to make plot multiple graphs on a grid of say 2 by 3 grid. In this way, if your code consists of repetitive graphing of a bar chart in the same fashion, we can just run a loop on this grid! \n",
    "\n",
    "2. For example, we want to plot a very simple frequency count for titanic's categorical variables, namely, survived, pclass, sex, sibsp, parch and embarked. So we can run the below code.\n",
    "\n",
    "3. Note for (u,v,z) in [[\"Survived\",0,0],[\"Pclass\",0,1],[\"Sex\",0,2], [\"SibSp\",1,0], [\"Parch\",1,1],[\"Embarked\",1,2]] just means for each element (u,v,z) in the list, we have u,v,z corresponding to each cross product in the list. Note, to say it explicitly, u is \"survived\", \"pclass\", etc.. v =0,1,2,..., z = 0,1,2,...\n",
    "\n",
    "    Now I am telling you that you need to pass 3 elements (u,v,z) in the for loop, but when you are creating the code the first time, you may not realise at first, so the computational thinking is you write out the codes like how you would manually:\n",
    "    \n",
    "    -sns.barplot(x = train[\"Survived\"].value_counts().index,y = train[\"Survived\"].value_counts(), ax  = myplot[0,0])\n",
    "    -sns.barplot(x = train[\"Pclass\"].value_counts().index,y = train[\"Pclass\"].value_counts(), ax  = myplot[0,1])\n",
    "    -sns.barplot(x = train[\"Sex\"].value_counts().index,y = train[\"Sex\"].value_counts(), ax  = myplot[0,2])\n",
    "    etc...\n",
    "    \n",
    "    So I suspect you need to loop through the categorical variables, survived, pclass, sex etc. And of course since you are plotting your graph on a 2x3 grid, we let our first graph appears in the place [0,0], second graph appears in the place [0,1], etc... So we want to loop through 3 things! So I should tell myself I need 3 elements to loop through in the for loop. And to do that it is now easy to see why I said: for (u,v,z) in [[\"Survived\",0,0],[\"Pclass\",0,1],...], However the [[..],[..],...] is hardcoded, but hey it is a good start to slowly cultivate your programming logic. \n",
    "    \n",
    "   I added on a bit of matplotlib codes, which should be relatively googlable, just want to add the same set of features onto each of my graph on myplot[v,z]. Lastly, adjust is to make some spacing between each graphs, I am very particular about visuals, although I am not very good at it yet."
   ]
  },
  {
   "cell_type": "code",
   "execution_count": 47,
   "metadata": {
    "colab": {},
    "colab_type": "code",
    "id": "gi47G7eFOYuP"
   },
   "outputs": [
    {
     "data": {
      "text/plain": [
       "<matplotlib.axes._subplots.AxesSubplot at 0x2057f5290f0>"
      ]
     },
     "execution_count": 47,
     "metadata": {},
     "output_type": "execute_result"
    },
    {
     "data": {
      "text/plain": [
       "Text(0.5, 0, '')"
      ]
     },
     "execution_count": 47,
     "metadata": {},
     "output_type": "execute_result"
    },
    {
     "data": {
      "text/plain": [
       "Text(0.5, 1.0, 'Survived Titanic')"
      ]
     },
     "execution_count": 47,
     "metadata": {},
     "output_type": "execute_result"
    },
    {
     "data": {
      "text/plain": [
       "Text(0, 0.5, 'Count')"
      ]
     },
     "execution_count": 47,
     "metadata": {},
     "output_type": "execute_result"
    },
    {
     "data": {
      "text/plain": [
       "<matplotlib.axes._subplots.AxesSubplot at 0x2057e9b3f28>"
      ]
     },
     "execution_count": 47,
     "metadata": {},
     "output_type": "execute_result"
    },
    {
     "data": {
      "text/plain": [
       "Text(0.5, 0, '')"
      ]
     },
     "execution_count": 47,
     "metadata": {},
     "output_type": "execute_result"
    },
    {
     "data": {
      "text/plain": [
       "Text(0.5, 1.0, 'Pclass Titanic')"
      ]
     },
     "execution_count": 47,
     "metadata": {},
     "output_type": "execute_result"
    },
    {
     "data": {
      "text/plain": [
       "Text(0, 0.5, 'Count')"
      ]
     },
     "execution_count": 47,
     "metadata": {},
     "output_type": "execute_result"
    },
    {
     "data": {
      "text/plain": [
       "<matplotlib.axes._subplots.AxesSubplot at 0x2057f575d68>"
      ]
     },
     "execution_count": 47,
     "metadata": {},
     "output_type": "execute_result"
    },
    {
     "data": {
      "text/plain": [
       "Text(0.5, 0, '')"
      ]
     },
     "execution_count": 47,
     "metadata": {},
     "output_type": "execute_result"
    },
    {
     "data": {
      "text/plain": [
       "Text(0.5, 1.0, 'Sex Titanic')"
      ]
     },
     "execution_count": 47,
     "metadata": {},
     "output_type": "execute_result"
    },
    {
     "data": {
      "text/plain": [
       "Text(0, 0.5, 'Count')"
      ]
     },
     "execution_count": 47,
     "metadata": {},
     "output_type": "execute_result"
    },
    {
     "data": {
      "text/plain": [
       "<matplotlib.axes._subplots.AxesSubplot at 0x2057f5ab2b0>"
      ]
     },
     "execution_count": 47,
     "metadata": {},
     "output_type": "execute_result"
    },
    {
     "data": {
      "text/plain": [
       "Text(0.5, 0, '')"
      ]
     },
     "execution_count": 47,
     "metadata": {},
     "output_type": "execute_result"
    },
    {
     "data": {
      "text/plain": [
       "Text(0.5, 1.0, 'SibSp Titanic')"
      ]
     },
     "execution_count": 47,
     "metadata": {},
     "output_type": "execute_result"
    },
    {
     "data": {
      "text/plain": [
       "Text(0, 0.5, 'Count')"
      ]
     },
     "execution_count": 47,
     "metadata": {},
     "output_type": "execute_result"
    },
    {
     "data": {
      "text/plain": [
       "<matplotlib.axes._subplots.AxesSubplot at 0x2057f5d57b8>"
      ]
     },
     "execution_count": 47,
     "metadata": {},
     "output_type": "execute_result"
    },
    {
     "data": {
      "text/plain": [
       "Text(0.5, 0, '')"
      ]
     },
     "execution_count": 47,
     "metadata": {},
     "output_type": "execute_result"
    },
    {
     "data": {
      "text/plain": [
       "Text(0.5, 1.0, 'Parch Titanic')"
      ]
     },
     "execution_count": 47,
     "metadata": {},
     "output_type": "execute_result"
    },
    {
     "data": {
      "text/plain": [
       "Text(0, 0.5, 'Count')"
      ]
     },
     "execution_count": 47,
     "metadata": {},
     "output_type": "execute_result"
    },
    {
     "data": {
      "text/plain": [
       "<matplotlib.axes._subplots.AxesSubplot at 0x2057f604cc0>"
      ]
     },
     "execution_count": 47,
     "metadata": {},
     "output_type": "execute_result"
    },
    {
     "data": {
      "text/plain": [
       "Text(0.5, 0, '')"
      ]
     },
     "execution_count": 47,
     "metadata": {},
     "output_type": "execute_result"
    },
    {
     "data": {
      "text/plain": [
       "Text(0.5, 1.0, 'Embarked Titanic')"
      ]
     },
     "execution_count": 47,
     "metadata": {},
     "output_type": "execute_result"
    },
    {
     "data": {
      "text/plain": [
       "Text(0, 0.5, 'Count')"
      ]
     },
     "execution_count": 47,
     "metadata": {},
     "output_type": "execute_result"
    },
    {
     "data": {
      "text/plain": [
       "Text(0.0, 274.5, '549(62%)')"
      ]
     },
     "execution_count": 47,
     "metadata": {},
     "output_type": "execute_result"
    },
    {
     "data": {
      "text/plain": [
       "Text(1.0, 171.0, '342(38%)')"
      ]
     },
     "execution_count": 47,
     "metadata": {},
     "output_type": "execute_result"
    },
    {
     "data": {
      "text/plain": [
       "Text(0.0, 108.0, '216(24%)')"
      ]
     },
     "execution_count": 47,
     "metadata": {},
     "output_type": "execute_result"
    },
    {
     "data": {
      "text/plain": [
       "Text(1.0, 92.0, '184(21%)')"
      ]
     },
     "execution_count": 47,
     "metadata": {},
     "output_type": "execute_result"
    },
    {
     "data": {
      "text/plain": [
       "Text(2.0, 245.5, '491(55%)')"
      ]
     },
     "execution_count": 47,
     "metadata": {},
     "output_type": "execute_result"
    },
    {
     "data": {
      "text/plain": [
       "Text(0.0, 288.5, '577(65%)')"
      ]
     },
     "execution_count": 47,
     "metadata": {},
     "output_type": "execute_result"
    },
    {
     "data": {
      "text/plain": [
       "Text(1.0, 157.0, '314(35%)')"
      ]
     },
     "execution_count": 47,
     "metadata": {},
     "output_type": "execute_result"
    },
    {
     "data": {
      "text/plain": [
       "Text(0.0, 304.0, '608(68%)')"
      ]
     },
     "execution_count": 47,
     "metadata": {},
     "output_type": "execute_result"
    },
    {
     "data": {
      "text/plain": [
       "Text(1.0, 104.5, '209(23%)')"
      ]
     },
     "execution_count": 47,
     "metadata": {},
     "output_type": "execute_result"
    },
    {
     "data": {
      "text/plain": [
       "Text(2.0, 14.0, '28(3%)')"
      ]
     },
     "execution_count": 47,
     "metadata": {},
     "output_type": "execute_result"
    },
    {
     "data": {
      "text/plain": [
       "Text(3.0, 8.0, '16(2%)')"
      ]
     },
     "execution_count": 47,
     "metadata": {},
     "output_type": "execute_result"
    },
    {
     "data": {
      "text/plain": [
       "Text(4.0, 9.0, '18(2%)')"
      ]
     },
     "execution_count": 47,
     "metadata": {},
     "output_type": "execute_result"
    },
    {
     "data": {
      "text/plain": [
       "Text(5.0, 2.5, '5(1%)')"
      ]
     },
     "execution_count": 47,
     "metadata": {},
     "output_type": "execute_result"
    },
    {
     "data": {
      "text/plain": [
       "Text(6.0, 3.5, '7(1%)')"
      ]
     },
     "execution_count": 47,
     "metadata": {},
     "output_type": "execute_result"
    },
    {
     "data": {
      "text/plain": [
       "Text(0.0, 339.0, '678(76%)')"
      ]
     },
     "execution_count": 47,
     "metadata": {},
     "output_type": "execute_result"
    },
    {
     "data": {
      "text/plain": [
       "Text(1.0, 59.0, '118(13%)')"
      ]
     },
     "execution_count": 47,
     "metadata": {},
     "output_type": "execute_result"
    },
    {
     "data": {
      "text/plain": [
       "Text(2.0, 40.0, '80(9%)')"
      ]
     },
     "execution_count": 47,
     "metadata": {},
     "output_type": "execute_result"
    },
    {
     "data": {
      "text/plain": [
       "Text(3.0, 2.5, '5(1%)')"
      ]
     },
     "execution_count": 47,
     "metadata": {},
     "output_type": "execute_result"
    },
    {
     "data": {
      "text/plain": [
       "Text(4.0, 2.0, '4(0%)')"
      ]
     },
     "execution_count": 47,
     "metadata": {},
     "output_type": "execute_result"
    },
    {
     "data": {
      "text/plain": [
       "Text(5.0, 2.5, '5(1%)')"
      ]
     },
     "execution_count": 47,
     "metadata": {},
     "output_type": "execute_result"
    },
    {
     "data": {
      "text/plain": [
       "Text(6.0, 0.5, '1(0%)')"
      ]
     },
     "execution_count": 47,
     "metadata": {},
     "output_type": "execute_result"
    },
    {
     "data": {
      "text/plain": [
       "Text(0.0, 322.0, '644(72%)')"
      ]
     },
     "execution_count": 47,
     "metadata": {},
     "output_type": "execute_result"
    },
    {
     "data": {
      "text/plain": [
       "Text(1.0, 84.0, '168(19%)')"
      ]
     },
     "execution_count": 47,
     "metadata": {},
     "output_type": "execute_result"
    },
    {
     "data": {
      "text/plain": [
       "Text(2.0, 38.5, '77(9%)')"
      ]
     },
     "execution_count": 47,
     "metadata": {},
     "output_type": "execute_result"
    },
    {
     "data": {
      "image/png": "[encoded data removed]",
      "text/plain": [
       "<Figure size 1080x432 with 6 Axes>"
      ]
     },
     "metadata": {},
     "output_type": "display_data"
    }
   ],
   "source": [
    "\n",
    "fig, myplot = plt.subplots(figsize = (15,6), nrows = 2,ncols = 3)\n",
    "\n",
    "categorical_features = [\"Survived\",\"Pclass\",\"Sex\",\"SibSp\",\"Parch\",\"Embarked\"]\n",
    "\n",
    "row, col, num_cols = 0,0,3\n",
    "\n",
    "for u in categorical_features:\n",
    "    sns.barplot(x = train[u].value_counts().index,y = train[u].value_counts(), ax  = myplot[row, col])\n",
    "    myplot[row, col].set_xlabel(\"\")\n",
    "    myplot[row, col].set_title(u + \" Titanic\", fontsize = 15)\n",
    "    myplot[row, col].set_ylabel(\"Count\")\n",
    "    col = col + 1\n",
    "    if col == 3:\n",
    "        col = 0\n",
    "        row = row + 1\n",
    "\n",
    "\n",
    "plt.subplots_adjust(hspace = 0.5)\n",
    "plt.subplots_adjust(wspace = 0.3)\n",
    "# i put roundbracket around x,y,z to make more sense. just like how x \\in [1,2,3] and if x is a tuple or bracket\n",
    "#we have   u \\in [(1,2,3),(2,3,5),...] where u = (x,y,z)\n",
    "\n",
    "#for each patch in each graph from [0,0] to [1,2], we want to do the following...\n",
    "for v in range(2):\n",
    "    for z in range(3):\n",
    "        for patch in myplot[v,z].patches:\n",
    "            label_x = patch.get_x() + patch.get_width()/2  # find midpoint of rectangle\n",
    "            label_y = patch.get_y() + patch.get_height()/2\n",
    "            myplot[v,z].text(label_x, label_y, \n",
    "                             str(int(patch.get_height())) + '('+'{:.0%}'.format(patch.get_height()/len(train.Survived))+')',\n",
    "                            horizontalalignment='center', verticalalignment='center')\n"
   ]
  },
  {
   "cell_type": "markdown",
   "metadata": {
    "colab_type": "text",
    "id": "-5zOX9INOYuR"
   },
   "source": [
    "**Age Distribution**\n",
    "\n",
    "Age is a variable that we can create bins for, but that will be another topic for another time. For now, let us look at the distribution and see what the distribution is. But be reminded, the distribution we are showing here is the training data set, whereby there are 177 missing ages supposedly. We **have not account for the missing values**. We call this plot **preimputation**. We will definitely come back to this plot later to compare when we have imputed the missing values of age."
   ]
  },
  {
   "cell_type": "code",
   "execution_count": 48,
   "metadata": {
    "colab": {},
    "colab_type": "code",
    "id": "6bphDrPvOYuS"
   },
   "outputs": [
    {
     "data": {
      "text/plain": [
       "<matplotlib.axes._subplots.AxesSubplot at 0x2057f909898>"
      ]
     },
     "execution_count": 48,
     "metadata": {},
     "output_type": "execute_result"
    },
    {
     "data": {
      "image/png": "[encoded data removed]",
      "text/plain": [
       "<Figure size 432x288 with 1 Axes>"
      ]
     },
     "metadata": {},
     "output_type": "display_data"
    }
   ],
   "source": [
    "null_ages = pd.isnull(train.Age)\n",
    "known_ages = pd.notnull(train.Age)\n",
    "preimputation = train.Age[known_ages]\n",
    "sns.distplot(preimputation)\n",
    "#here we show a distribution of ages before imputation."
   ]
  },
  {
   "cell_type": "code",
   "execution_count": 75,
   "metadata": {
    "colab": {},
    "colab_type": "code",
    "id": "Fmzk8p5LOYuU"
   },
   "outputs": [
    {
     "data": {
      "text/plain": [
       "<matplotlib.axes._subplots.AxesSubplot at 0x20501979a58>"
      ]
     },
     "execution_count": 75,
     "metadata": {},
     "output_type": "execute_result"
    },
    {
     "data": {
      "image/png": "[encoded data removed]",
      "text/plain": [
       "<Figure size 720x360 with 1 Axes>"
      ]
     },
     "metadata": {},
     "output_type": "display_data"
    }
   ],
   "source": [
    "# Explore Age distibution as a whole\n",
    "figure, myaxis = plt.subplots(figsize=(10, 5))\n",
    "\n",
    "sns.kdeplot(data=train[\"Age\"], kernel='gau', ax=myaxis, color=\"Red\", shade=True, legend=True)"
   ]
  },
  {
   "cell_type": "markdown",
   "metadata": {
    "colab_type": "text",
    "id": "l8pQbBegOYuX"
   },
   "source": [
    "#### **Correlation Heatmap**\n",
    "\n",
    "We shall do a correlation Heatmap to visualize which variables are more correlated with each other, in most context, correlation can help in predicting one attribute from another, which is a great way to impute missing values (we do have a lot of missing values and we will see some examples later). Of course, in regression wise, correlation matrix can be used to detect multi collinearity or say outliers.\n",
    "\n",
    "\n",
    "By default, sns.heatmap will not include categorical features which are not factorized. As a result, the heatmap below did not include those categorical variables, only the columns with numerical are plotted against each other.\n",
    "\n",
    "So since some categorical variables are not inside this map, we need to view their correlation with the other variables seperately. For example, our earlier plot suggests that \"sex/gender\" being female has a higher survival rate than males. Note that it is difficult to compare correlation of categorical and continuous variables and hence it brings up to the next section - where we plot more graphs to attempt to obtain an intuition between all the variables."
   ]
  },
  {
   "cell_type": "code",
   "execution_count": 52,
   "metadata": {},
   "outputs": [
    {
     "data": {
      "text/html": [
       "<div>\n",
       "<style scoped>\n",
       "    .dataframe tbody tr th:only-of-type {\n",
       "        vertical-align: middle;\n",
       "    }\n",
       "\n",
       "    .dataframe tbody tr th {\n",
       "        vertical-align: top;\n",
       "    }\n",
       "\n",
       "    .dataframe thead th {\n",
       "        text-align: right;\n",
       "    }\n",
       "</style>\n",
       "<table border=\"1\" class=\"dataframe\">\n",
       "  <thead>\n",
       "    <tr style=\"text-align: right;\">\n",
       "      <th></th>\n",
       "      <th>PassengerId</th>\n",
       "      <th>Survived</th>\n",
       "      <th>Pclass</th>\n",
       "      <th>Age</th>\n",
       "      <th>SibSp</th>\n",
       "      <th>Parch</th>\n",
       "      <th>Fare</th>\n",
       "    </tr>\n",
       "  </thead>\n",
       "  <tbody>\n",
       "    <tr>\n",
       "      <th>PassengerId</th>\n",
       "      <td>1.000000</td>\n",
       "      <td>-0.005007</td>\n",
       "      <td>-0.035144</td>\n",
       "      <td>0.036847</td>\n",
       "      <td>-0.057527</td>\n",
       "      <td>-0.001652</td>\n",
       "      <td>0.012658</td>\n",
       "    </tr>\n",
       "    <tr>\n",
       "      <th>Survived</th>\n",
       "      <td>-0.005007</td>\n",
       "      <td>1.000000</td>\n",
       "      <td>-0.338481</td>\n",
       "      <td>-0.077221</td>\n",
       "      <td>-0.035322</td>\n",
       "      <td>0.081629</td>\n",
       "      <td>0.257307</td>\n",
       "    </tr>\n",
       "    <tr>\n",
       "      <th>Pclass</th>\n",
       "      <td>-0.035144</td>\n",
       "      <td>-0.338481</td>\n",
       "      <td>1.000000</td>\n",
       "      <td>-0.369226</td>\n",
       "      <td>0.083081</td>\n",
       "      <td>0.018443</td>\n",
       "      <td>-0.549500</td>\n",
       "    </tr>\n",
       "    <tr>\n",
       "      <th>Age</th>\n",
       "      <td>0.036847</td>\n",
       "      <td>-0.077221</td>\n",
       "      <td>-0.369226</td>\n",
       "      <td>1.000000</td>\n",
       "      <td>-0.308247</td>\n",
       "      <td>-0.189119</td>\n",
       "      <td>0.096067</td>\n",
       "    </tr>\n",
       "    <tr>\n",
       "      <th>SibSp</th>\n",
       "      <td>-0.057527</td>\n",
       "      <td>-0.035322</td>\n",
       "      <td>0.083081</td>\n",
       "      <td>-0.308247</td>\n",
       "      <td>1.000000</td>\n",
       "      <td>0.414838</td>\n",
       "      <td>0.159651</td>\n",
       "    </tr>\n",
       "    <tr>\n",
       "      <th>Parch</th>\n",
       "      <td>-0.001652</td>\n",
       "      <td>0.081629</td>\n",
       "      <td>0.018443</td>\n",
       "      <td>-0.189119</td>\n",
       "      <td>0.414838</td>\n",
       "      <td>1.000000</td>\n",
       "      <td>0.216225</td>\n",
       "    </tr>\n",
       "    <tr>\n",
       "      <th>Fare</th>\n",
       "      <td>0.012658</td>\n",
       "      <td>0.257307</td>\n",
       "      <td>-0.549500</td>\n",
       "      <td>0.096067</td>\n",
       "      <td>0.159651</td>\n",
       "      <td>0.216225</td>\n",
       "      <td>1.000000</td>\n",
       "    </tr>\n",
       "  </tbody>\n",
       "</table>\n",
       "</div>"
      ],
      "text/plain": [
       "             PassengerId  Survived    Pclass       Age     SibSp     Parch  \\\n",
       "PassengerId     1.000000 -0.005007 -0.035144  0.036847 -0.057527 -0.001652   \n",
       "Survived       -0.005007  1.000000 -0.338481 -0.077221 -0.035322  0.081629   \n",
       "Pclass         -0.035144 -0.338481  1.000000 -0.369226  0.083081  0.018443   \n",
       "Age             0.036847 -0.077221 -0.369226  1.000000 -0.308247 -0.189119   \n",
       "SibSp          -0.057527 -0.035322  0.083081 -0.308247  1.000000  0.414838   \n",
       "Parch          -0.001652  0.081629  0.018443 -0.189119  0.414838  1.000000   \n",
       "Fare            0.012658  0.257307 -0.549500  0.096067  0.159651  0.216225   \n",
       "\n",
       "                 Fare  \n",
       "PassengerId  0.012658  \n",
       "Survived     0.257307  \n",
       "Pclass      -0.549500  \n",
       "Age          0.096067  \n",
       "SibSp        0.159651  \n",
       "Parch        0.216225  \n",
       "Fare         1.000000  "
      ]
     },
     "execution_count": 52,
     "metadata": {},
     "output_type": "execute_result"
    }
   ],
   "source": [
    "train.corr()"
   ]
  },
  {
   "cell_type": "code",
   "execution_count": 55,
   "metadata": {
    "colab": {},
    "colab_type": "code",
    "id": "7lxuwLcMOYuY"
   },
   "outputs": [
    {
     "data": {
      "text/plain": [
       "<matplotlib.axes._subplots.AxesSubplot at 0x205000d69b0>"
      ]
     },
     "execution_count": 55,
     "metadata": {},
     "output_type": "execute_result"
    },
    {
     "data": {
      "text/plain": [
       "(7, 0)"
      ]
     },
     "execution_count": 55,
     "metadata": {},
     "output_type": "execute_result"
    },
    {
     "data": {
      "image/png": "[encoded data removed]",
      "text/plain": [
       "<Figure size 720x720 with 2 Axes>"
      ]
     },
     "metadata": {},
     "output_type": "display_data"
    }
   ],
   "source": [
    "#Heatmap to observe correlation\n",
    "f,ax = plt.subplots(figsize=(10, 10))\n",
    "sns.heatmap(train.corr(), annot=True, linewidths=0.5, fmt='.2f',ax=ax) #try annot False\n",
    "ax.set_ylim(7, 0)"
   ]
  },
  {
   "cell_type": "code",
   "execution_count": null,
   "metadata": {},
   "outputs": [],
   "source": []
  },
  {
   "cell_type": "markdown",
   "metadata": {
    "colab_type": "text",
    "id": "kytDm4ijOYua"
   },
   "source": [
    "### 3.2) Plot variables against Survived  <a id=\"survive\"></a>\n",
    "\n",
    "Note that one should see that Name, Ticket, PassengerID will not play any crucial role in predicting the survival rate.\n",
    "Hence I do not want to analyse them, later I will drop them. However, after reviewing many kernels by other experienced data analysts, we can do some feature engineering with Name - We will mention it later. We will do some basic overview of the survival rate in different categories."
   ]
  },
  {
   "cell_type": "code",
   "execution_count": 57,
   "metadata": {
    "colab": {},
    "colab_type": "code",
    "id": "T4qSz3NGOYub"
   },
   "outputs": [],
   "source": [
    "def print_percentage(df,col_name,col_values):\n",
    "    for x in col_values:\n",
    "        group = df.loc[df[col_name]==x]\n",
    "        print ('{0} survival rate: {1:.3f}'.format(x, (group['Survived'].sum()/group.shape[0])))"
   ]
  },
  {
   "cell_type": "code",
   "execution_count": 66,
   "metadata": {},
   "outputs": [],
   "source": [
    "# Above Function work same like below\n",
    "#group = train.loc[train[\"Sex\"]==\"male\"]   #create a new data frame Sex only Male\n",
    "#group.head()\n",
    "#group[\"Survived\"].sum()/ group.shape[0]\n"
   ]
  },
  {
   "cell_type": "markdown",
   "metadata": {
    "colab_type": "text",
    "id": "DjfHdKevOYue"
   },
   "source": [
    "### 3.2.1) Plot Gender against Survived  <a name=\"gender\"></a>"
   ]
  },
  {
   "cell_type": "code",
   "execution_count": 58,
   "metadata": {
    "colab": {},
    "colab_type": "code",
    "id": "CQn9q-cJOYug"
   },
   "outputs": [
    {
     "name": "stdout",
     "output_type": "stream",
     "text": [
      "male survival rate: 0.189\n",
      "female survival rate: 0.742\n"
     ]
    }
   ],
   "source": [
    "print_percentage(train,'Sex',[\"male\",\"female\"])"
   ]
  },
  {
   "cell_type": "markdown",
   "metadata": {
    "colab_type": "text",
    "id": "iwfZk8oPOYuk"
   },
   "source": [
    "The code below is useful to understand if you want to plot a barplot using Seaborn package, you should compare and contrast that different seaborn plots use different coding methods.\n",
    "\n",
    "1. As usual we specify the plot size in the first line and name our axis myaxis.\n",
    "\n",
    "\n",
    "2. This is sns.barplot, so we look at the parameters inside.\n",
    "\n",
    "\n",
    "3. First we use our data = train and extract x = Sex column and y = Survived column. Next the underlying idea is to group the data by sex, so there are male and female. Then in each category of male and female, there are the survived or not by the \"Survived column\" represented by 0 and 1. Our estimator = np.mean = function mean and that means, for each category male and female, calculate their MEAN survived; for example there are 2 male with 0,1 and 3 females with 1,0,1, and by applying the estimator mean we have (0+1)/2 = 0.5 and (1+0+1)/3 = 2/3 which means 50% of the males survived and 66.6% of the females survived. In this case we got lucky cause survive column is only 0 and 1 ; In which case the mean of the survival rate of male and female is literally just the proportion of male, female who survived the titanic. \n",
    "\n",
    "    If I tweak the example just now to some other number like let survive = 2 and not survived = 3 then we will have (2+3)/2 = 2.5 and (3+2+3)/3 = 2.66 and those become 250% and 266% which are not meaningful. So do be careful.\n",
    "    \n",
    "\n",
    "4. It is fairly obvious that female has a much higher survival chance than men.\n",
    "\n",
    "\n",
    "5. The second count plot shows the actual distribution of male and female passengers that survived and did not survive. It shows that among all the females 233 survived and 314-233 = 81 did not survive. While among male passengers 109 survived and 577-109 = 468 did not survive. Also, male survival rate is only 18.9 percent while female survival rate is 74.2 percent. This indicates quite a correlation between gender and survival rate."
   ]
  },
  {
   "cell_type": "code",
   "execution_count": 67,
   "metadata": {
    "colab": {},
    "colab_type": "code",
    "id": "IePqWhKfOYul"
   },
   "outputs": [
    {
     "data": {
      "text/plain": [
       "<matplotlib.axes._subplots.AxesSubplot at 0x20501499748>"
      ]
     },
     "execution_count": 67,
     "metadata": {},
     "output_type": "execute_result"
    },
    {
     "data": {
      "text/plain": [
       "Text(0.5, 1.0, 'Survived/Non-Survived Passenger Gender Distribution')"
      ]
     },
     "execution_count": 67,
     "metadata": {},
     "output_type": "execute_result"
    },
    {
     "data": {
      "text/plain": [
       "Text(0.5, 0, 'Sex')"
      ]
     },
     "execution_count": 67,
     "metadata": {},
     "output_type": "execute_result"
    },
    {
     "data": {
      "text/plain": [
       "Text(0, 0.5, 'Proportion of passengers survived')"
      ]
     },
     "execution_count": 67,
     "metadata": {},
     "output_type": "execute_result"
    },
    {
     "data": {
      "text/plain": [
       "Text(0.0, 0.09445407279029462, '18.891%')"
      ]
     },
     "execution_count": 67,
     "metadata": {},
     "output_type": "execute_result"
    },
    {
     "data": {
      "text/plain": [
       "Text(1.0, 0.37101910828025475, '74.204%')"
      ]
     },
     "execution_count": 67,
     "metadata": {},
     "output_type": "execute_result"
    },
    {
     "data": {
      "image/png": "[encoded data removed]",
      "text/plain": [
       "<Figure size 720x540 with 1 Axes>"
      ]
     },
     "metadata": {},
     "output_type": "display_data"
    }
   ],
   "source": [
    "figure, myaxis = plt.subplots(figsize=(10, 7.5))\n",
    "\n",
    "\n",
    "sns.barplot(x = \"Sex\", \n",
    "            y = \"Survived\", \n",
    "            data=train, \n",
    "            ax = myaxis,\n",
    "            estimator = np.mean,\n",
    "            palette = {'male':\"green\", 'female':\"Pink\"},\n",
    "            linewidth=2)\n",
    "\n",
    "myaxis.set_title(\"Survived/Non-Survived Passenger Gender Distribution\", fontsize = 20)\n",
    "myaxis.set_xlabel(\"Sex\",fontsize = 15)\n",
    "myaxis.set_ylabel(\"Proportion of passengers survived\", fontsize = 15)\n",
    "\n",
    "for patch in myaxis.patches:\n",
    "    label_x = patch.get_x() + patch.get_width()/2  # find midpoint of rectangle\n",
    "    label_y = patch.get_y() + patch.get_height()/2\n",
    "    myaxis.text(label_x, label_y,\n",
    "                #left - freq below - rel freq wrt population as a percentage\n",
    "                '{:.3%}'.format(patch.get_height()),\n",
    "               horizontalalignment='center', verticalalignment='center')"
   ]
  },
  {
   "cell_type": "code",
   "execution_count": 68,
   "metadata": {
    "colab": {},
    "colab_type": "code",
    "id": "SbWSlMwmOYun"
   },
   "outputs": [
    {
     "data": {
      "text/plain": [
       "<matplotlib.axes._subplots.AxesSubplot at 0x205001c2ef0>"
      ]
     },
     "execution_count": 68,
     "metadata": {},
     "output_type": "execute_result"
    },
    {
     "data": {
      "text/plain": [
       "Text(0.5, 1.0, 'Passenger Gender Distribution - Survived vs Not-survived')"
      ]
     },
     "execution_count": 68,
     "metadata": {},
     "output_type": "execute_result"
    },
    {
     "data": {
      "text/plain": [
       "Text(0.5, 0, 'Sex')"
      ]
     },
     "execution_count": 68,
     "metadata": {},
     "output_type": "execute_result"
    },
    {
     "data": {
      "text/plain": [
       "Text(0, 0.5, 'Number of Passenger Survived')"
      ]
     },
     "execution_count": 68,
     "metadata": {},
     "output_type": "execute_result"
    },
    {
     "data": {
      "text/plain": [
       "<matplotlib.legend.Legend at 0x2050148ad68>"
      ]
     },
     "execution_count": 68,
     "metadata": {},
     "output_type": "execute_result"
    },
    {
     "data": {
      "image/png": "[encoded data removed]",
      "text/plain": [
       "<Figure size 720x540 with 1 Axes>"
      ]
     },
     "metadata": {},
     "output_type": "display_data"
    }
   ],
   "source": [
    "figure, myaxis = plt.subplots(figsize=(10, 7.5))\n",
    "\n",
    "sns.countplot(x = \"Sex\", \n",
    "                   hue=\"Survived\",\n",
    "                   data = train, \n",
    "                   linewidth=2, \n",
    "                   palette = {1:\"seagreen\", 0:\"gray\"}, ax = myaxis)\n",
    "\n",
    "\n",
    "## Fixing title, xlabel and ylabel\n",
    "myaxis.set_title(\"Passenger Gender Distribution - Survived vs Not-survived\", fontsize = 20)\n",
    "myaxis.set_xlabel(\"Sex\", fontsize = 15);\n",
    "myaxis.set_ylabel(\"Number of Passenger Survived\", fontsize = 15)\n",
    "myaxis.legend([\"Not Survived\", \"Survived\"], loc = 'upper right')"
   ]
  },
  {
   "cell_type": "markdown",
   "metadata": {
    "colab_type": "text",
    "id": "HscOrVp3OYup"
   },
   "source": [
    "At this step, we can actually build a **baseline model** such that we predict all women survived and all men died. Or we can predict that every time we encounter a unseen data, we predict 74% of the women survived and 18 of the men died. In both cases, we are just using the 2 hypothesized model as baselines - any other models must perform better than this. Note that if you read the Titanic overview, they gave you a excel file where the output is predicted just by assuming all women survived.\n",
    "\n",
    "<br>\n",
    "\n",
    "Also, we retrospectively knew that women and child are prioritized to board the safety boat back then and thus explains the reason that female has such a high survival rate. In reality, if we are given a real world problem, it is our job to establish some plausible explanation that female has a much more significant survival rate than men - and that needs further digging.\n"
   ]
  },
  {
   "cell_type": "markdown",
   "metadata": {
    "colab_type": "text",
    "id": "MbC5iavCOYuq"
   },
   "source": [
    "### 3.3.2) Plot Pclass against Survived  <a id=\"pclass\"></a>\n",
    "\n",
    "**https://seaborn.pydata.org/generated/seaborn.pointplot.html**"
   ]
  },
  {
   "cell_type": "code",
   "execution_count": 77,
   "metadata": {
    "colab": {},
    "colab_type": "code",
    "id": "l_fHRsV2OYur"
   },
   "outputs": [
    {
     "name": "stdout",
     "output_type": "stream",
     "text": [
      "1 survival rate: 0.630\n",
      "2 survival rate: 0.473\n",
      "3 survival rate: 0.242\n"
     ]
    }
   ],
   "source": [
    "print_percentage(train,'Pclass',[1,2,3])"
   ]
  },
  {
   "cell_type": "code",
   "execution_count": 91,
   "metadata": {
    "colab": {},
    "colab_type": "code",
    "id": "lt5VGUZbOYuu"
   },
   "outputs": [
    {
     "data": {
      "image/png": "[encoded data removed]",
      "text/plain": [
       "<Figure size 576x720 with 1 Axes>"
      ]
     },
     "metadata": {},
     "output_type": "display_data"
    }
   ],
   "source": [
    "#Plot 1: We can use a bar plot:\n",
    "\n",
    "figure, pclass_bar = plt.subplots(figsize = (8,10))\n",
    "sns.barplot(x = \"Pclass\", \n",
    "            y = \"Survived\", \n",
    "            estimator = np.mean,\n",
    "            data=train, \n",
    "            ax = pclass_bar,\n",
    "            linewidth=2)\n",
    "pclass_bar.set_title(\"Passenger Class Distribution - Survived vs Non-Survived\", fontsize = 18)\n",
    "pclass_bar.set_xlabel(\"Passenger class (Pclass)\", fontsize = 15);\n",
    "pclass_bar.set_ylabel(\"% of Passenger Survived\", fontsize = 15);\n",
    "labels = ['Upper (1)', 'Middle (2)', 'Lower (3)']\n",
    "val = sorted(train.Pclass.unique())\n",
    "#val = [0,1,2] ## this is just a temporary trick to get the label right. \n",
    "pclass_bar.set_xticklabels(labels);\n",
    "\n",
    "\n"
   ]
  },
  {
   "cell_type": "code",
   "execution_count": 92,
   "metadata": {
    "colab": {},
    "colab_type": "code",
    "id": "AezGxqzBOYuw",
    "scrolled": true
   },
   "outputs": [
    {
     "data": {
      "text/plain": [
       "<seaborn.axisgrid.FacetGrid at 0x2050126ad30>"
      ]
     },
     "execution_count": 92,
     "metadata": {},
     "output_type": "execute_result"
    },
    {
     "data": {
      "image/png": "[encoded data removed]",
      "text/plain": [
       "<Figure size 360x360 with 1 Axes>"
      ]
     },
     "metadata": {},
     "output_type": "display_data"
    }
   ],
   "source": [
    "#Plot 2: We can use a line plot:\n",
    "sns.catplot('Pclass', 'Survived', kind='point', data=train)\n"
   ]
  },
  {
   "cell_type": "code",
   "execution_count": 93,
   "metadata": {},
   "outputs": [
    {
     "data": {
      "text/plain": [
       "<seaborn.axisgrid.FacetGrid at 0x2050130d390>"
      ]
     },
     "execution_count": 93,
     "metadata": {},
     "output_type": "execute_result"
    },
    {
     "data": {
      "image/png": "[encoded data removed]",
      "text/plain": [
       "<Figure size 360x360 with 1 Axes>"
      ]
     },
     "metadata": {},
     "output_type": "display_data"
    }
   ],
   "source": [
    "sns.catplot( 'Survived','Pclass', kind='point', data=train)"
   ]
  },
  {
   "cell_type": "markdown",
   "metadata": {
    "colab_type": "text",
    "id": "BObCMFK4OYuy"
   },
   "source": [
    "Bear in mind, we can use plot 1 when our categorical pclass does not have many categories/levels. What if pclass has 30 different levels. Then our graph will look messy. This is why I also used a line plot in plot 2 to illustrate that line plot can be a useful visualization tool as well.\n",
    "\n",
    "<br>\n",
    "\n",
    "From the above 2 plots, we have the same conclusion, in Pclass 1, 63 percent of the passengers in Pclass 1 survived. In Pclass 2, 47.3 percent of passengers in Pclass 2 survived. In Pclass 3, 24.2 percent of Pclass 3 passengers survived. **So we have a feel that the the better your class, the higher your chance of survival.**\n",
    "\n",
    "<br>\n",
    "\n",
    "But do recall in our first part 3.3.1, we did see that gender DO affect one's chance of survival. We can further confirm our hypothesis by plotting Gender + Pclass vs Survival Rate.\n",
    "\n",
    "<br>\n",
    "\n",
    "**How many men and women survived grouped by their Passenger Class?**\n",
    "\n",
    "Here is a neat code from https://www.kaggle.com/poonaml/titanic-survival-prediction-end-to-end-ml-pipeline to plot this.\n",
    "\n",
    "One may ask what can we get from this plot? Well for a start, we do know that women has a much higher survival rate than men, so is this still true if we categorize them by different Pclass? Apparently, you will see later that for Pclass 1 and 2, women still maintain a very high survival rate, but in Pclass 3, we can see the women's survival rate dip down by quite a lot. This may suggest Pclass 3 is the \"poorer\" people's class - and hence they are valued less when evacuating (unfortunately life is unfair).\n",
    "\n",
    "Also note that we can see in a correlation heatmap, fare and pclass are quite strongly correlated with a value of 0.55. So we reckon higher fare corresponds to Pclass 1.\n",
    "\n",
    "\n",
    "<br>\n",
    "\n",
    "One side note on the coding part below: catplot returns you a function called g which is a FacetGrid object with the plot on it for further tweaking. So the below code is how we usually add on different plottings on the facetgrid itself. Note there is a difference between the way we did on barplot, on barplot it returns you a function called ax which is a single grid.\n"
   ]
  },
  {
   "cell_type": "code",
   "execution_count": 94,
   "metadata": {
    "colab": {},
    "colab_type": "code",
    "id": "2G0OGy3KOYuy",
    "scrolled": true
   },
   "outputs": [
    {
     "data": {
      "text/plain": [
       "<seaborn.axisgrid.FacetGrid at 0x20503975ba8>"
      ]
     },
     "execution_count": 94,
     "metadata": {},
     "output_type": "execute_result"
    },
    {
     "data": {
      "text/plain": [
       "Text(0.5, 0.98, 'How many Men and Women Survived by Passenger Class')"
      ]
     },
     "execution_count": 94,
     "metadata": {},
     "output_type": "execute_result"
    },
    {
     "data": {
      "text/plain": [
       "Text(0.0, 0.18442622950819673, '36.885%')"
      ]
     },
     "execution_count": 94,
     "metadata": {},
     "output_type": "execute_result"
    },
    {
     "data": {
      "text/plain": [
       "Text(1.0, 0.48404255319148937, '96.809%')"
      ]
     },
     "execution_count": 94,
     "metadata": {},
     "output_type": "execute_result"
    },
    {
     "data": {
      "text/plain": [
       "Text(0.0, 0.0787037037037037, '15.741%')"
      ]
     },
     "execution_count": 94,
     "metadata": {},
     "output_type": "execute_result"
    },
    {
     "data": {
      "text/plain": [
       "Text(1.0, 0.4605263157894737, '92.105%')"
      ]
     },
     "execution_count": 94,
     "metadata": {},
     "output_type": "execute_result"
    },
    {
     "data": {
      "text/plain": [
       "Text(0.0, 0.06772334293948126, '13.545%')"
      ]
     },
     "execution_count": 94,
     "metadata": {},
     "output_type": "execute_result"
    },
    {
     "data": {
      "text/plain": [
       "Text(1.0, 0.25, '50.000%')"
      ]
     },
     "execution_count": 94,
     "metadata": {},
     "output_type": "execute_result"
    },
    {
     "data": {
      "text/plain": [
       "<seaborn.axisgrid.FacetGrid at 0x2057dba02b0>"
      ]
     },
     "execution_count": 94,
     "metadata": {},
     "output_type": "execute_result"
    },
    {
     "data": {
      "text/plain": [
       "Text(-0.2, 0.18442622950819673, '36.885%')"
      ]
     },
     "execution_count": 94,
     "metadata": {},
     "output_type": "execute_result"
    },
    {
     "data": {
      "text/plain": [
       "Text(0.8, 0.0787037037037037, '15.741%')"
      ]
     },
     "execution_count": 94,
     "metadata": {},
     "output_type": "execute_result"
    },
    {
     "data": {
      "text/plain": [
       "Text(1.8, 0.06772334293948126, '13.545%')"
      ]
     },
     "execution_count": 94,
     "metadata": {},
     "output_type": "execute_result"
    },
    {
     "data": {
      "text/plain": [
       "Text(0.2, 0.48404255319148937, '96.809%')"
      ]
     },
     "execution_count": 94,
     "metadata": {},
     "output_type": "execute_result"
    },
    {
     "data": {
      "text/plain": [
       "Text(1.2, 0.4605263157894737, '92.105%')"
      ]
     },
     "execution_count": 94,
     "metadata": {},
     "output_type": "execute_result"
    },
    {
     "data": {
      "text/plain": [
       "Text(2.2, 0.25, '50.000%')"
      ]
     },
     "execution_count": 94,
     "metadata": {},
     "output_type": "execute_result"
    },
    {
     "data": {
      "image/png": "[encoded data removed]",
      "text/plain": [
       "<Figure size 648x360 with 3 Axes>"
      ]
     },
     "metadata": {},
     "output_type": "display_data"
    },
    {
     "data": {
      "image/png": "[encoded data removed]",
      "text/plain": [
       "<Figure size 504.85x432 with 1 Axes>"
      ]
     },
     "metadata": {},
     "output_type": "display_data"
    }
   ],
   "source": [
    "sns.set(font_scale=1)\n",
    "g = sns.catplot(x=\"Sex\", y=\"Survived\", col=\"Pclass\",\n",
    "                    data=train, saturation=.5,\n",
    "                    kind=\"bar\", ci=None, aspect=.6)\n",
    "(g.set_axis_labels(\"\", \"Survival Rate\")\n",
    "    .set_xticklabels([\"Men\", \"Women\"])\n",
    "    .set_titles(\"{col_name} {col_var}\")\n",
    "    .set(ylim=(0, 1))\n",
    "    .despine(left=True))  \n",
    "plt.subplots_adjust(top=0.8)\n",
    "g.fig.suptitle('How many Men and Women Survived by Passenger Class');\n",
    "\n",
    "for myaxis in g.axes[0]:\n",
    "    for patch in myaxis.patches:\n",
    "        label_x = patch.get_x() + patch.get_width()/2  # find midpoint of rectangle\n",
    "        label_y = patch.get_y() + patch.get_height()/2\n",
    "        myaxis.text(label_x, label_y,\n",
    "                    #left - freq below - rel freq wrt population as a percentage\n",
    "                    '{:.3%}'.format(patch.get_height()),\n",
    "                   horizontalalignment='center', verticalalignment='center')\n",
    "\n",
    "#Another plot that gives the exact same result is as follows: It is good to know different variations.\n",
    "\n",
    "\n",
    "g = sns.factorplot(x=\"Pclass\", y=\"Survived\", hue=\"Sex\", data=train,\n",
    "                   size=6, kind=\"bar\", palette=\"muted\")\n",
    "g.despine(left=True)\n",
    "g = g.set_ylabels(\"survival probability\")\n",
    "\n",
    "myaxis = g.ax\n",
    "for patch in myaxis.patches:\n",
    "    label_x = patch.get_x() + patch.get_width()/2  # find midpoint of rectangle\n",
    "    label_y = patch.get_y() + patch.get_height()/2\n",
    "    myaxis.text(label_x, label_y,\n",
    "                #left - freq below - rel freq wrt population as a percentage\n",
    "                '{:.3%}'.format(patch.get_height()),\n",
    "               horizontalalignment='center', verticalalignment='center')"
   ]
  },
  {
   "cell_type": "markdown",
   "metadata": {
    "colab_type": "text",
    "id": "dVWns8VlOYu0"
   },
   "source": [
    "Factor/cat Plot is quite useful for comparing multiple levels. Please explore it. The above plots can be interpreted as follows: In Pclass 1, about 38 percent of the **male** survived, for all the female passengers in Pclass 1, more than 90 percent of the **female** survived! \n",
    "\n",
    "<br>\n",
    "\n",
    "Similarly, we can find the trend for Pclass 2 and Pclass 3. \n",
    "\n",
    "<br>\n",
    "\n",
    "A good conclusion we can make is: Female in Pclass 1 and 2 have a very high survival rate of 90 percent while their male counterparts are significantly lesser. All passengers in Pclass 3 have a low survival rate. My hypothesis is that male in general has a low survival rate irregardless of their Pclass."
   ]
  },
  {
   "cell_type": "markdown",
   "metadata": {
    "colab_type": "text",
    "id": "a7BX7AtYOYu1"
   },
   "source": [
    "### 3.2.3) Plot Embarked against Survived  <a id=\"embarked\"></a>\n",
    "\n",
    "Now we do an EDA on Embarked vs Survival Rate."
   ]
  },
  {
   "cell_type": "code",
   "execution_count": 95,
   "metadata": {
    "colab": {},
    "colab_type": "code",
    "id": "Q1lCkUt8OYu1"
   },
   "outputs": [
    {
     "name": "stdout",
     "output_type": "stream",
     "text": [
      "S survival rate: 0.337\n",
      "C survival rate: 0.554\n",
      "Q survival rate: 0.390\n"
     ]
    }
   ],
   "source": [
    "print_percentage(train,'Embarked',['S','C','Q'])"
   ]
  },
  {
   "cell_type": "code",
   "execution_count": 96,
   "metadata": {
    "colab": {},
    "colab_type": "code",
    "id": "ntdjgFM1OYu3"
   },
   "outputs": [
    {
     "data": {
      "image/png": "[encoded data removed]",
      "text/plain": [
       "<Figure size 576x720 with 1 Axes>"
      ]
     },
     "metadata": {},
     "output_type": "display_data"
    }
   ],
   "source": [
    "figure, embarked_bar = plt.subplots(figsize = (8,10))\n",
    "sns.barplot(x = \"Embarked\", \n",
    "            y = \"Survived\", \n",
    "            estimator = np.mean,\n",
    "            data=train, \n",
    "            ax = embarked_bar,\n",
    "            linewidth=2)\n",
    "embarked_bar.set_title(\"Passenger Embarked Distribution - Survived vs Non-Survived\", fontsize = 15)\n",
    "embarked_bar.set_xlabel(\"Embarked Place\", fontsize = 15);\n",
    "embarked_bar.set_ylabel(\"% of Passenger Survived\", fontsize = 15);\n",
    "\n"
   ]
  },
  {
   "cell_type": "markdown",
   "metadata": {
    "colab_type": "text",
    "id": "ztcsJi_6OYu7"
   },
   "source": [
    "The above 2 plots showed that passengers boarding from Cherbourg (C) has a better chance of survival. However, one should always question what a graph gives you; In this case, it is not **immediately obvious** why a boarding place has anything to do with one's **survival rate**. A statistical visualization can only bring you this far, it is now your turn to dig out why. (Of course, it may be entirely random that the survivors embarked from Cherbourg).\n",
    "\n",
    "<br>\n",
    "\n",
    "**Hypothesis:** As far as our analysis went, it is reasonable to assume that female has a better survival rate than male. Also we have reasonable evidence to think that people with higher Pclass have a higher survival rate. So maybe Cherbourg is a **\"better\"** city than the other 2 such that most passengers boarding from Cherbourg has a higher Pclass than the rest of the city. Or it could be that Cherbourg has a higher Female:Male ratio and thus most people that embarked from Cherbourg are females? We shall test our hypothesis out.\n",
    "\n",
    "<br>\n",
    "\n"
   ]
  },
  {
   "cell_type": "markdown",
   "metadata": {
    "colab_type": "text",
    "id": "Snsq2DyDOYu8"
   },
   "source": [
    "**Pclass vs Embarked**\n"
   ]
  },
  {
   "cell_type": "code",
   "execution_count": 97,
   "metadata": {
    "colab": {},
    "colab_type": "code",
    "id": "lWtFsaIxOYu8"
   },
   "outputs": [
    {
     "data": {
      "image/png": "[encoded data removed]",
      "text/plain": [
       "<Figure size 1080x360 with 3 Axes>"
      ]
     },
     "metadata": {},
     "output_type": "display_data"
    }
   ],
   "source": [
    "sns.set(font_scale=1)\n",
    "g = sns.catplot(x=\"Pclass\", col=\"Embarked\",\n",
    "                    data=train, saturation=.5,\n",
    "                    kind=\"count\", ci=None)"
   ]
  },
  {
   "cell_type": "markdown",
   "metadata": {
    "colab_type": "text",
    "id": "QAg7c0hxOYu-"
   },
   "source": [
    "Indeed, Passengers embarked from Chersboug has a high **proportion** of Pclass 1. This may account for one of the reasons that passengers who boarded from Chersboug has a significantly higher suvival rate than the rest of the cities."
   ]
  },
  {
   "cell_type": "markdown",
   "metadata": {
    "colab_type": "text",
    "id": "y6_e59OXOYu_"
   },
   "source": [
    "**Gender vs Embarked**"
   ]
  },
  {
   "cell_type": "code",
   "execution_count": 98,
   "metadata": {
    "colab": {},
    "colab_type": "code",
    "id": "UrVJKSbtOYu_"
   },
   "outputs": [
    {
     "data": {
      "image/png": "[encoded data removed]",
      "text/plain": [
       "<Figure size 1080x360 with 3 Axes>"
      ]
     },
     "metadata": {},
     "output_type": "display_data"
    }
   ],
   "source": [
    "sns.set(font_scale=1)\n",
    "g = sns.catplot(x=\"Sex\", col=\"Embarked\",\n",
    "                    data=train, saturation=.5,\n",
    "                    kind=\"count\", ci=None)"
   ]
  },
  {
   "cell_type": "markdown",
   "metadata": {
    "colab_type": "text",
    "id": "QLrb_FiTOYvB"
   },
   "source": [
    "Although this plot did not tell us anything informative on whether females play a role in why Chersboug has a higher survival rate, it did hint to us that why Southampton has the lowest survival rate. A good reason is that there is way more males embarked from Southampton than females. "
   ]
  },
  {
   "cell_type": "markdown",
   "metadata": {
    "colab_type": "text",
    "id": "n_tuh4WaOYvB"
   },
   "source": [
    "### 3.2.4) Plot Age against Survived  <a id=\"age\"></a>\n",
    "\n",
    "Now we do an EDA on Age vs Survival Rate. Age is a continuous variable, and we should not use bar chart here. I present one of the way to plot a KDE distribution below, where you superimpose the age plot for survived and the age plot for not survived. The idea of the code is you first plot the age plot for not survived, and then you plot the age plot for survived on the same axis: ax = myaxis, then the graph will present both graphs on the same grid.  "
   ]
  },
  {
   "cell_type": "code",
   "execution_count": 99,
   "metadata": {
    "colab": {},
    "colab_type": "code",
    "id": "Hr-1S-_yOYvC"
   },
   "outputs": [
    {
     "data": {
      "text/plain": [
       "<matplotlib.axes._subplots.AxesSubplot at 0x2050388d2e8>"
      ]
     },
     "execution_count": 99,
     "metadata": {},
     "output_type": "execute_result"
    },
    {
     "data": {
      "text/plain": [
       "<matplotlib.axes._subplots.AxesSubplot at 0x2050388d2e8>"
      ]
     },
     "execution_count": 99,
     "metadata": {},
     "output_type": "execute_result"
    },
    {
     "data": {
      "text/plain": [
       "Text(0.5, 0, 'Age')"
      ]
     },
     "execution_count": 99,
     "metadata": {},
     "output_type": "execute_result"
    },
    {
     "data": {
      "text/plain": [
       "Text(0, 0.5, 'Probability Density')"
      ]
     },
     "execution_count": 99,
     "metadata": {},
     "output_type": "execute_result"
    },
    {
     "data": {
      "text/plain": [
       "<matplotlib.legend.Legend at 0x205011ec828>"
      ]
     },
     "execution_count": 99,
     "metadata": {},
     "output_type": "execute_result"
    },
    {
     "data": {
      "text/plain": [
       "Text(0.5, 1.0, 'Superimposed KDE plot for age of Survived and Not Survived')"
      ]
     },
     "execution_count": 99,
     "metadata": {},
     "output_type": "execute_result"
    },
    {
     "data": {
      "image/png": "[encoded data removed]",
      "text/plain": [
       "<Figure size 720x324 with 1 Axes>"
      ]
     },
     "metadata": {},
     "output_type": "display_data"
    }
   ],
   "source": [
    "# Explore Age distibution\n",
    "figure, myaxis = plt.subplots(figsize=(10, 4.5))\n",
    "\n",
    "sns.kdeplot(data=train[\"Age\"][(train[\"Survived\"] == 0) & (\n",
    "    train[\"Age\"].notnull())], kernel='gau', ax=myaxis, color=\"Red\", shade=True, legend=True)\n",
    "\n",
    "\n",
    "# a faster code using loc function is sns.kdeplot(train.loc[(train['Survived'] == 0),'Age'] , color='gray',shade=True,label='not survived')\n",
    "\n",
    "sns.kdeplot(data=train[\"Age\"][(train[\"Survived\"] == 1) & (\n",
    "    train[\"Age\"].notnull())], kernel='gau', ax=myaxis, color=\"Blue\", shade=True, legend=True)\n",
    "\n",
    "myaxis.set_xlabel(\"Age\")\n",
    "myaxis.set_ylabel(\"Probability Density\")\n",
    "myaxis.legend([\"Not Survived\", \"Survived\"], loc='upper right')\n",
    "myaxis.set_title(\"Superimposed KDE plot for age of Survived and Not Survived\",\n",
    "                 loc='center', fontdict={'fontsize': 16}, color='r')"
   ]
  },
  {
   "cell_type": "markdown",
   "metadata": {
    "colab_type": "text",
    "id": "Ez2ulG7zOYvE"
   },
   "source": [
    "The above plot shows the age vs survival rate, represented by a density plot; for survivors and non survivors, the distribution seems to be similar. However, for survivors we see an obvious local maximum at around 0-5 years old, indicating small children has a higher survival rate. **Reminder: This distribution is before filling in the missing values of age.**\n",
    "\n",
    "Below are some more visualizations graphs."
   ]
  },
  {
   "cell_type": "code",
   "execution_count": 100,
   "metadata": {
    "colab": {},
    "colab_type": "code",
    "id": "DnKrtagWOYvF"
   },
   "outputs": [
    {
     "data": {
      "text/plain": [
       "Text(0.5, 0.98, 'Survived by Sex and Age')"
      ]
     },
     "execution_count": 100,
     "metadata": {},
     "output_type": "execute_result"
    },
    {
     "data": {
      "image/png": "[encoded data removed]",
      "text/plain": [
       "<Figure size 720x720 with 4 Axes>"
      ]
     },
     "metadata": {},
     "output_type": "display_data"
    }
   ],
   "source": [
    "pal = {1:\"seagreen\", 0:\"gray\"}\n",
    "g = sns.FacetGrid(train,size=5, col=\"Sex\", row=\"Survived\", margin_titles=True, hue = \"Survived\",\n",
    "                  palette=pal)\n",
    "g = g.map(plt.hist, \"Age\", edgecolor = 'white');\n",
    "g.fig.suptitle(\"Survived by Sex and Age\", size = 25)\n",
    "plt.subplots_adjust(top=0.90)"
   ]
  },
  {
   "cell_type": "code",
   "execution_count": 0,
   "metadata": {
    "colab": {},
    "colab_type": "code",
    "id": "MTTGEFtAOYvG"
   },
   "outputs": [],
   "source": [
    "g = sns.FacetGrid(train,size=5, col=\"Sex\", row=\"Embarked\", margin_titles=True, hue = \"Survived\",\n",
    "                  palette = pal\n",
    "                  )\n",
    "g = g.map(plt.hist, \"Age\", edgecolor = 'white').add_legend();\n",
    "g.fig.suptitle(\"Survived by Sex and Age\", size = 25)\n",
    "plt.subplots_adjust(top=0.90)"
   ]
  },
  {
   "cell_type": "code",
   "execution_count": 101,
   "metadata": {
    "colab": {},
    "colab_type": "code",
    "id": "kuaPI5cBOYvI"
   },
   "outputs": [
    {
     "data": {
      "text/plain": [
       "<matplotlib.axes._subplots.AxesSubplot at 0x2050120e4e0>"
      ]
     },
     "execution_count": 101,
     "metadata": {},
     "output_type": "execute_result"
    },
    {
     "data": {
      "image/png": "[encoded data removed]",
      "text/plain": [
       "<Figure size 432x288 with 1 Axes>"
      ]
     },
     "metadata": {},
     "output_type": "display_data"
    }
   ],
   "source": [
    "null_ages = pd.isnull(train.Age)\n",
    "known_ages = pd.notnull(train.Age)\n",
    "preimputation = train.Age[known_ages]\n",
    "sns.distplot(preimputation)"
   ]
  },
  {
   "cell_type": "markdown",
   "metadata": {
    "colab_type": "text",
    "id": "1WJ1jN8VOYvK"
   },
   "source": [
    "### 3.2.5) Plot Fare against Survived  <a id=\"fare\"></a>\n"
   ]
  },
  {
   "cell_type": "markdown",
   "metadata": {
    "colab_type": "text",
    "id": "af5d6OzBOYvK"
   },
   "source": [
    "Fare is a continuous variable, so it is good to plot a histogram or a KDE to see the distribution."
   ]
  },
  {
   "cell_type": "code",
   "execution_count": 102,
   "metadata": {
    "colab": {},
    "colab_type": "code",
    "id": "cbvNZvzGOYvL"
   },
   "outputs": [
    {
     "data": {
      "text/plain": [
       "<matplotlib.axes._subplots.AxesSubplot at 0x20503ad39b0>"
      ]
     },
     "execution_count": 102,
     "metadata": {},
     "output_type": "execute_result"
    },
    {
     "data": {
      "text/plain": [
       "<matplotlib.axes._subplots.AxesSubplot at 0x20503ad39b0>"
      ]
     },
     "execution_count": 102,
     "metadata": {},
     "output_type": "execute_result"
    },
    {
     "data": {
      "text/plain": [
       "Text(0.5, 0, 'Fare')"
      ]
     },
     "execution_count": 102,
     "metadata": {},
     "output_type": "execute_result"
    },
    {
     "data": {
      "text/plain": [
       "Text(0, 0.5, 'Probability Density')"
      ]
     },
     "execution_count": 102,
     "metadata": {},
     "output_type": "execute_result"
    },
    {
     "data": {
      "text/plain": [
       "<matplotlib.legend.Legend at 0x20503cc24a8>"
      ]
     },
     "execution_count": 102,
     "metadata": {},
     "output_type": "execute_result"
    },
    {
     "data": {
      "text/plain": [
       "Text(0.5, 1.0, 'Superimposed KDE plot for Fare of Survived and Not Survived')"
      ]
     },
     "execution_count": 102,
     "metadata": {},
     "output_type": "execute_result"
    },
    {
     "data": {
      "image/png": "[encoded data removed]",
      "text/plain": [
       "<Figure size 720x324 with 1 Axes>"
      ]
     },
     "metadata": {},
     "output_type": "display_data"
    }
   ],
   "source": [
    "# Explore Age distibution\n",
    "figure, fare = plt.subplots(figsize=(10, 4.5))\n",
    "\n",
    "sns.kdeplot(data=train.loc[(train['Survived'] == 0),'Fare'], kernel='gau', ax=fare, color=\"Red\", shade=True, legend=True)\n",
    "\n",
    "sns.kdeplot(data=train.loc[(train['Survived'] == 1),'Fare'], kernel='gau', ax=fare, color=\"Blue\", shade=True, legend=True)\n",
    "\n",
    "fare.set_xlabel(\"Fare\")\n",
    "fare.set_ylabel(\"Probability Density\")\n",
    "fare.legend([\"Not Survived\", \"Survived\"], loc='upper right')\n",
    "fare.set_title(\"Superimposed KDE plot for Fare of Survived and Not Survived\",\n",
    "                 loc='center', fontdict={'fontsize': 16}, color='r')"
   ]
  },
  {
   "cell_type": "code",
   "execution_count": 103,
   "metadata": {
    "colab": {},
    "colab_type": "code",
    "id": "ZxmdoHl_OYvN"
   },
   "outputs": [
    {
     "data": {
      "text/plain": [
       "<matplotlib.axes._subplots.AxesSubplot at 0x20503d04400>"
      ]
     },
     "execution_count": 103,
     "metadata": {},
     "output_type": "execute_result"
    },
    {
     "data": {
      "text/plain": [
       "<matplotlib.axes._subplots.AxesSubplot at 0x20503d04400>"
      ]
     },
     "execution_count": 103,
     "metadata": {},
     "output_type": "execute_result"
    },
    {
     "data": {
      "text/plain": [
       "Text(0.5, 0, 'Fare')"
      ]
     },
     "execution_count": 103,
     "metadata": {},
     "output_type": "execute_result"
    },
    {
     "data": {
      "text/plain": [
       "Text(0, 0.5, 'Probability Density')"
      ]
     },
     "execution_count": 103,
     "metadata": {},
     "output_type": "execute_result"
    },
    {
     "data": {
      "text/plain": [
       "<matplotlib.legend.Legend at 0x205057bc128>"
      ]
     },
     "execution_count": 103,
     "metadata": {},
     "output_type": "execute_result"
    },
    {
     "data": {
      "text/plain": [
       "Text(0.5, 1.0, 'Superimposed distribution plot for Fare of Survived and Not Survived')"
      ]
     },
     "execution_count": 103,
     "metadata": {},
     "output_type": "execute_result"
    },
    {
     "data": {
      "image/png": "[encoded data removed]",
      "text/plain": [
       "<Figure size 1440x360 with 1 Axes>"
      ]
     },
     "metadata": {},
     "output_type": "display_data"
    }
   ],
   "source": [
    "figure, fare = plt.subplots(figsize=(20, 5))\n",
    "sns.distplot(train.loc[(train['Survived'] == 0),'Fare'], hist=True, color='red', ax=fare)\n",
    "sns.distplot(train.loc[(train['Survived'] == 1),'Fare'], hist=True, color='blue', ax=fare)\n",
    "\n",
    "fare.set_xlabel(\"Fare\")\n",
    "fare.set_ylabel(\"Probability Density\")\n",
    "fare.legend([\"Not Survived\", \"Survived\"], loc='upper right')\n",
    "fare.set_title(\"Superimposed distribution plot for Fare of Survived and Not Survived\",\n",
    "                 loc='center', fontdict={'fontsize': 16}, color='r')"
   ]
  },
  {
   "cell_type": "markdown",
   "metadata": {
    "colab_type": "text",
    "id": "wNaqSqmvOYvO"
   },
   "source": [
    "After a brief look at the distribution of both the age and fare plots, we do realise that the graph is not **smooth**, we can say that the graph has splitting and spiking points. In which it may be suggesting to us that if we were to apply a tree algorithm later, these 2 features will play a significant importance (henceforth we shall include them). See! EDA is useful! It gives us an intuition of what algorithms to use even before we start. Credits to https://www.kaggle.com/gunesevitan/advanced-feature-engineering-tutorial-with-titanic - a wonderfully tailored kernel for beginners."
   ]
  },
  {
   "cell_type": "markdown",
   "metadata": {
    "colab_type": "text",
    "id": "x2Xnf_PkOYvQ"
   },
   "source": [
    "### 3.2.6) Plot Parch, SibSp against Survived  <a id=\"fare\"></a>"
   ]
  },
  {
   "cell_type": "code",
   "execution_count": 0,
   "metadata": {
    "colab": {},
    "colab_type": "code",
    "id": "03HUtPguOYvQ"
   },
   "outputs": [],
   "source": [
    "train.Parch.value_counts()"
   ]
  },
  {
   "cell_type": "markdown",
   "metadata": {
    "colab_type": "text",
    "id": "2Qspw12POYvU"
   },
   "source": [
    "Notice that for Parch, people travelling with 3,4,5,6 parents/children aboard are very little. And thus, the barplot representing their survival percentage may cloud your judgement. As can be seen below, there is 0% of people who survived with 6 Parch, but this is because there is only literally 1 person who travelled on board with 6 parents/children; and 1 person is too small a sample size to conclude anything useful. Here I am open to comments on how to deal with issues like this, when some of the categorical levels have too little people to be indicate any underlying pattern. And hence to get the full picture, it is often good to plot a simple count graph so as to not get misled by mere percentages - a mistake some beginners might make."
   ]
  },
  {
   "cell_type": "code",
   "execution_count": 104,
   "metadata": {
    "colab": {},
    "colab_type": "code",
    "id": "RZPf2scxOYvV"
   },
   "outputs": [
    {
     "name": "stdout",
     "output_type": "stream",
     "text": [
      "0 survival rate: 0.344\n",
      "1 survival rate: 0.551\n",
      "2 survival rate: 0.500\n",
      "3 survival rate: 0.600\n",
      "4 survival rate: 0.000\n",
      "5 survival rate: 0.200\n",
      "6 survival rate: 0.000\n"
     ]
    }
   ],
   "source": [
    "print_percentage(train,'Parch',[0,1,2,3,4,5,6])"
   ]
  },
  {
   "cell_type": "code",
   "execution_count": 0,
   "metadata": {
    "colab": {},
    "colab_type": "code",
    "id": "ae3J6g7pOYvX"
   },
   "outputs": [],
   "source": [
    "figure, parch_bar = plt.subplots(figsize = (8,10))\n",
    "sns.barplot(x = \"Parch\", \n",
    "            y = \"Survived\", \n",
    "            estimator = np.mean,\n",
    "            data=train, \n",
    "            ax = parch_bar,\n",
    "            linewidth=2)\n",
    "parch_bar.set_title(\"Parch Distribution - Survived vs Non-Survived\", fontsize = 18)\n",
    "parch_bar.set_xlabel(\"Parch\", fontsize = 15);\n",
    "parch_bar.set_ylabel(\"% of Passenger Survived\", fontsize = 15);"
   ]
  },
  {
   "cell_type": "code",
   "execution_count": 105,
   "metadata": {
    "colab": {},
    "colab_type": "code",
    "id": "srwAV9vlOYvZ"
   },
   "outputs": [
    {
     "data": {
      "text/plain": [
       "<matplotlib.axes._subplots.AxesSubplot at 0x2050584f7b8>"
      ]
     },
     "execution_count": 105,
     "metadata": {},
     "output_type": "execute_result"
    },
    {
     "data": {
      "text/plain": [
       "Text(0.5, 1.0, 'Passenger Parch Distribution - Survived vs Not-survived')"
      ]
     },
     "execution_count": 105,
     "metadata": {},
     "output_type": "execute_result"
    },
    {
     "data": {
      "text/plain": [
       "Text(0.5, 0, 'Parch')"
      ]
     },
     "execution_count": 105,
     "metadata": {},
     "output_type": "execute_result"
    },
    {
     "data": {
      "text/plain": [
       "Text(0, 0.5, 'Number of Passenger Survived')"
      ]
     },
     "execution_count": 105,
     "metadata": {},
     "output_type": "execute_result"
    },
    {
     "data": {
      "text/plain": [
       "<matplotlib.legend.Legend at 0x20503d40668>"
      ]
     },
     "execution_count": 105,
     "metadata": {},
     "output_type": "execute_result"
    },
    {
     "data": {
      "image/png": "[encoded data removed]",
      "text/plain": [
       "<Figure size 720x540 with 1 Axes>"
      ]
     },
     "metadata": {},
     "output_type": "display_data"
    }
   ],
   "source": [
    "figure, myaxis = plt.subplots(figsize=(10, 7.5))\n",
    "\n",
    "sns.countplot(x = \"Parch\", \n",
    "                   hue=\"Survived\",\n",
    "                   data = train, \n",
    "                   linewidth=2, \n",
    "                   palette = {1:\"seagreen\", 0:\"gray\"}, ax = myaxis)\n",
    "\n",
    "\n",
    "## Fixing title, xlabel and ylabel\n",
    "myaxis.set_title(\"Passenger Parch Distribution - Survived vs Not-survived\", fontsize = 20)\n",
    "myaxis.set_xlabel(\"Parch\", fontsize = 15);\n",
    "myaxis.set_ylabel(\"Number of Passenger Survived\", fontsize = 15)\n",
    "myaxis.legend([\"Not Survived\", \"Survived\"], loc = 'upper right')"
   ]
  },
  {
   "cell_type": "code",
   "execution_count": 0,
   "metadata": {
    "colab": {},
    "colab_type": "code",
    "id": "LntslhV5OYvb"
   },
   "outputs": [],
   "source": [
    "# sns.set(font_scale=1)\n",
    "# g = sns.catplot(x=\"SibSp\", y=\"Survived\", col=\"Parch\",\n",
    "#                     data=train, saturation=.5,\n",
    "#                     kind=\"bar\", ci=None, aspect=.6)\n",
    "# (g.set_axis_labels(\"\", \"Survival Rate\")\n",
    "#     .set_xticklabels([\"Men\", \"Women\"])\n",
    "#     .set_titles(\"{col_name} {col_var}\")\n",
    "#     .set(ylim=(0, 1))\n",
    "#     .despine(left=True))  \n",
    "# plt.subplots_adjust(top=0.8)\n",
    "# g.fig.suptitle('How many Men and Women Survived by Passenger Class');\n",
    "\n"
   ]
  },
  {
   "cell_type": "code",
   "execution_count": 0,
   "metadata": {
    "colab": {},
    "colab_type": "code",
    "id": "4EPnP6OZOYvd"
   },
   "outputs": [],
   "source": [
    "train.SibSp.value_counts()"
   ]
  },
  {
   "cell_type": "code",
   "execution_count": 0,
   "metadata": {
    "colab": {},
    "colab_type": "code",
    "id": "Nan4iK6hOYvf"
   },
   "outputs": [],
   "source": [
    "print_percentage(train,'SibSp',[0,1,2,3,4,5,8])"
   ]
  },
  {
   "cell_type": "code",
   "execution_count": 0,
   "metadata": {
    "colab": {},
    "colab_type": "code",
    "id": "hkAQipyROYvi"
   },
   "outputs": [],
   "source": [
    "figure, parch_bar = plt.subplots(figsize = (8,10))\n",
    "sns.barplot(x = \"SibSp\", \n",
    "            y = \"Survived\", \n",
    "            estimator = np.mean,\n",
    "            data=train, \n",
    "            ax = parch_bar,\n",
    "            linewidth=2)\n",
    "parch_bar.set_title(\"Siblings Distribution - Survived vs Non-Survived\", fontsize = 18)\n",
    "parch_bar.set_xlabel(\"SibSp\", fontsize = 15);\n",
    "parch_bar.set_ylabel(\"% of Passenger Survived\", fontsize = 15);"
   ]
  },
  {
   "cell_type": "code",
   "execution_count": 0,
   "metadata": {
    "colab": {},
    "colab_type": "code",
    "id": "AXWsMEW_OYvk"
   },
   "outputs": [],
   "source": [
    "figure, myaxis = plt.subplots(figsize=(10, 7.5))\n",
    "\n",
    "sns.countplot(x = \"SibSp\", \n",
    "                   hue=\"Survived\",\n",
    "                   data = train, \n",
    "                   linewidth=2, \n",
    "                   palette = {1:\"seagreen\", 0:\"gray\"}, ax = myaxis)\n",
    "\n",
    "\n",
    "## Fixing title, xlabel and ylabel\n",
    "myaxis.set_title(\"Siblings Distribution - Survived vs Not-survived\", fontsize = 20)\n",
    "myaxis.set_xlabel(\"Siblings\", fontsize = 15);\n",
    "myaxis.set_ylabel(\"Number of Passenger Survived\", fontsize = 15)\n",
    "myaxis.legend([\"Not Survived\", \"Survived\"], loc = 'upper right')"
   ]
  },
  {
   "cell_type": "markdown",
   "metadata": {
    "colab_type": "text",
    "id": "XdqjMeHNOYvl"
   },
   "source": [
    "One thing is for sure when I read the above few graphs, that is passengers who travelled alone seems to have a lower survival rate than the others."
   ]
  },
  {
   "cell_type": "markdown",
   "metadata": {
    "colab_type": "text",
    "id": "DKz8B9MuOYvm"
   },
   "source": [
    "**Conclusion of EDA**\n",
    "\n",
    "Continuous Features: There are 2 continuous features Age and Fare, where we see that split points and spikes are present in the graph, unfortunately, there are only 2 of them so we cannot drop them or alter too much. They can be captured easily with a decision tree algorithm, but neural networks may not be able to spot them. (source: https://www.kaggle.com/gunesevitan/advanced-feature-engineering-tutorial-with-titanic One has to be experienced to do something like his). \n",
    "\n",
    "<br>\n",
    "\n",
    "Categorical Features: As we can see, most of the categorical feature has classes that indicates significant survival/non-survival rate. This is a tell tale sign that one-hot encoding may be quite useful here. But also, this project has little categorical variables, and thus one hot encoding usage is not put down by the possible \"curse of dimension\"."
   ]
  },
  {
   "cell_type": "markdown",
   "metadata": {
    "colab_type": "text",
    "id": "aAI0wM4ZOYvm"
   },
   "source": [
    "## 4) **Feature Engineering/Selection** <a id=\"eng\"></a>\n",
    "\n",
    "https://towardsdatascience.com/feature-engineering-for-machine-learning-3a5e293a5114\n",
    "\n",
    "**\"Garbage into Machine Learning Algorithm, Garbage out of the Algorithm!\"**\n",
    "\n",
    "<br>\n",
    "\n",
    "Machine Learning Algorithm is only as smart as it's owner can get. As the owners of the algorithms, we need to choose carefully what features (inputs) we feed into the algorithm. If we decide to feed in some irrelevant or \"noisy\" features, then our algorithm may malfunction and produce bad results. \n",
    "\n",
    "<br>\n",
    "\n",
    "For example, in our titanic dataset, we see passengerID column and decide to feed in blindly, the machine may really think there is an underlying pattern among the passengerIDs and train the algorithm to adapt to the \"non-existence pattern\". This may cause overfitting, and when we apply our algorithm to a new unseen data with passengerIDs (possibly with different passengerIDs), then our algorithm will perform badly!\n",
    "\n",
    "<br>\n",
    "\n",
    "Basically, all machine learning algorithms use some input data to create outputs. This input data comprise features, which are usually in the form of structured columns. Algorithms require features with some specific characteristic to work properly. Here, the need for feature engineering arises. I think feature engineering efforts mainly have two goals:\n",
    "\n",
    "a) Preparing the proper input dataset, compatible with the machine learning algorithm requirements.\n",
    "\n",
    "b) Improving the performance of machine learning models.\n",
    "\n",
    "<br>\n",
    "\n",
    "Here we will introduce a few feature engineering techniques, but may or may not go through all as this kernel is update in progress.\n",
    "\n"
   ]
  },
  {
   "cell_type": "markdown",
   "metadata": {
    "colab_type": "text",
    "id": "T2C7y-GeOYvn"
   },
   "source": [
    "### 4.1) Imputation <a id=\"imp\"></a>\n",
    "\n",
    "It is extremely annoying when your data sets have missing values. It is not wise to just delete them, or blindly replace them with the median/mean/mode. (Without knowing why the data is missing in the first place, we are unable to come up with a foolproof method for imputing the missing data). One could check some of the links here.\n",
    "\n",
    "http://www.stat.columbia.edu/~gelman/arm/missing.pdf\n",
    "\n",
    "https://www.kaggle.com/shashankasubrahmanya/missing-data-imputation-using-regression/notebook\n",
    "\n",
    "https://statisticsglobe.com/regression-imputation-stochastic-vs-deterministic/\n",
    "\n",
    "https://www.kaggle.com/caicell/statistical-modeling-imputation-outliers/notebook#3.-Imputation-and-Outliers\n",
    "\n",
    "And today we are going to talk about a few ways of handling missing data, however, there are a lot of methods, and we shall not be greedy and attempt to understand all in one single session.\n",
    "\n",
    "Also, bear in mind that filling in missing values may not just necessary mean filling in values that are not present. We should however be aware that certain data entries automatically convert NA/NAN values to 0. Therefore, even if you use df.isnull() to check and found that **there are no missing values**, that does not mean imputation is not needed. So a good habit is also to check if the numbers make sense or not. For example, if we are modelling the height of New York people and there are many peoplewith height 0 cm, then it does not even make sense to begin with (although if you use isnull it will not show), so sometimes you have to be sharp and spot outlier values, and either remove them or impute them.\n",
    "\n",
    "**Some users said that it is convenient to work on concatenated training and test set while dealing with missing values, otherwise the filled data may overfit to separate training or test sets. I welcome people to discuss in the comments section on this. However, note for the parts below, I will not use the concatenated set to impute missing values.**\n",
    "\n",
    "The amount of missing values in Age, Embarked and Fare features are relatively smaller compared to the total samples, but roughly 80% of the Cabin feature is missing. Missing values in Age, Embarked and Fare features can be filled with descriptive statistical measures, but that wouldn't work for Cabin feature. \n",
    "\n",
    "\n"
   ]
  },
  {
   "cell_type": "markdown",
   "metadata": {
    "colab_type": "text",
    "id": "OVELFtl6OYvn"
   },
   "source": [
    "### Good Advice\n",
    "\n",
    "I had a good read from volhaleusha's kernel regarding on imputation: https://www.kaggle.com/volhaleusha/titanic-tutorial-encoding-feature-eng-81-8. The following long wall of text is extracted from various sources/kernels.\n",
    "\n",
    "<br>\n",
    "\n",
    "In the dataset Age, Embarked, Fare and Cabin features have missing values.  \n",
    "\n",
    "There are multiple ways to deal with missing values in dataset and chosen strategy highly depends on type feature type, amount of missing values, size of dataset and etc.  \n",
    "\n",
    "\n",
    "**Missing - Data Mechanism**\n",
    "\n",
    "To decide how to handle missing data, it is helpful to know why they are missing. We consider four general “missingness mechanisms,” moving from the simplest to the most general.\n",
    "\n",
    "\n",
    "\n",
    "<br>\n",
    "\n",
    "**Suppose you are modelling weight (Y) as a function of sex (X). Some respondents wouldn't disclose their weight, so you are missing some values for Y. There are three possible mechanisms for the nondisclosure:**\n",
    "\n",
    "1. **Missingness Completely At Random ( MCAR):** Missing completely at random (MCAR) is the only missing data mechanism that can actually be verified. When we say data are missing completely at random, we mean that the missingness has nothing to do with the person being studied. For example, a questionnaire might be lost in the post, or a blood sample might be damaged in the lab. Of course, this is not **completely random**, but the underlying idea is the missing data is not related to the subject of the missing data. https://cpb-us-w2.wpmucdn.com/blog.nus.edu.sg/dist/4/6502/files/2018/06/mcartest-zlxtj7.pdf\n",
    "\n",
    "   There may be no particular reason at all why some respondents told you their weights and others didn't. That is, the probability that Y is missing may has no relationship to X or Y. In this case our data is missing completely at random (MCAR).\n",
    "\n",
    "<br>\n",
    "\n",
    "\n",
    "2. **Missing At Random (MAR):** Missing at random (MAR) means that the missingness can be explained by variables on which you have full information. It's not a testable assumption, but there are cases where it is reasonable vs. not.\n",
    "\n",
    "   For example, take political opinion polls. Many people refuse to answer. If you assume that the reasons people refuse to answer are entirely based on demographics, and if you have those demographics on each person, then the data is MAR. It is known that some of the reasons why people refuse to answer can be based on demographics (for instance, people at both low and high incomes are less likely to answer than those in the middle), but there's really no way to know if that is the full explanation.\n",
    "\n",
    "   So, the question becomes \"is it full enough?\". Often, methods like multiple imputation work better than other methods as long as the data isn't very missing not at random. https://stats.stackexchange.com/questions/23090/distinguishing-missing-at-random-mar-from-missing-completely-at-random-mcar\n",
    "\n",
    "   One sex (maybe females haha :D) may be less likely to disclose its weight. That is, the probability that Y is missing depends only on the value of X. Such data are missing at random (MAR).\n",
    "\n",
    "<br>\n",
    "\n",
    "3. **Missing Not At Random (MNAR):** Heavy (or light) people may be less likely to disclose their weight. That is, the probability that Y is missing depends on the unobserved value of Y itself. Such data are not missing at random or missing not at random (MNAR) and requires attention or else it will heavily bias your inference.\n",
    " \n",
    "\n",
    "\n",
    "\n",
    "\n",
    "\n",
    "<br>\n",
    "\n",
    "**Possible solutions to deal with missing values in Continuous Variables (Refer to https://www.kaggle.com/volhaleusha/titanic-tutorial-encoding-feature-eng-81-8#Part-4:-Explore-Target-Variable):**\n",
    "\n",
    "1. Complete Case Analysis CCA (discard observations where any value is missing in any variable) - doesn't work if there are many features missing or on small datasets. \n",
    "    <br>\n",
    "    \n",
    "2. Mean and median imputation (substitute missing values with mean feature value (for Gaussian features) and median (if a variable is not Gaussian) \n",
    "    - normally good strategy if data is missing completely at random\n",
    "    - but if there is a dependency between why data is missing and target it is better to additionally create a separate variable to capture NAs\n",
    "    - changes the original distribution of variable and can distort covariance with other variables $\\to$ if too much can influence prediction in a negative way\n",
    "    \n",
    "      <br>\n",
    "      \n",
    "3. Random sampling imputation (to fill NAs - take a random observation from available observation)\n",
    "    - preserves the original distribution of data, but can create randomness - treatment of the same sample differently or unfair\n",
    "    \n",
    "      <br>\n",
    "      \n",
    "4. Adding a separate variable to capture NAs \n",
    "    - useful in situations when data is not missing at random and there is some connection on why data is missing with a target or other variables\n",
    "    - expands feature space as creates an additional feature \n",
    "    \n",
    "      <br>\n",
    "      \n",
    "5. End of distribution imputation (replace NAs with values that are at the far end of the distribution)\n",
    "    - shows the importance of missingness\n",
    "    - but if missingness is not important can mask predictive power and distorts the original distribution\n",
    "    \n",
    "      <br>\n",
    "      \n",
    "6. Arbitrary value imputation (substitute with value away from other values in the variable -999, 999)\n",
    "    - captures the importance of missing value\n",
    "    - but creates outlier (it doesn't matter for trees)\n",
    "    \n",
    "      <br>\n",
    "      \n",
    "7. Build a model to impute missing values: KNN, linear regression, etc.\n",
    "    - a very good estimate of missing data\n",
    "    - but it can be a problem because prediction usually is too good and doesn't match reality\n",
    "\n",
    "<br>\n",
    "\n",
    "**Possible solutions to deal with missing values in categorical variables:**\n",
    "1. CCA \n",
    "    - for pros and cons refer above\n",
    "2. Random sample imputation\n",
    "3. Adding a separate variable to capture NAs\n",
    "4. Adding a separate category to capture NAs\n",
    "\n",
    "\n",
    "\n",
    "<br>\n",
    "\n",
    "1. If the data is MCAR:\n",
    "\n",
    "   i) Complete case analysis is valid.\n",
    "\n",
    "   ii) Mulitple imputation or any other imputation method is valid.\n",
    "    \n",
    "<br>\n",
    "\n",
    "2. If the data is MAR:\n",
    "\n",
    "   i) Some complete cases analyses are valid under weaker assumptions than MCAR. E.g. linear regression is unbiased if missingness is independent of the response, conditional on the predictors.\n",
    "\n",
    "   ii) Multiple imputation is valid (it is biased, but the bias is negligible).\n",
    "    \n",
    "<br>\n",
    "\n",
    "3. If the data is MNAR:\n",
    "\n",
    "   i) You must model the missingness explicitly; jointly modeling the response and missingness.\n",
    "\n",
    "   ii) In some specific cases (e.g. survival analysis), MNAR data (e.g. censored data) is handled appropriately.\n",
    "\n",
    "   iii) Generally, we assume MAR whenever possible just to avoid this situation.\n",
    "\n",
    "\n",
    "\n",
    "\n",
    "\n",
    "\n",
    "\n",
    "\n",
    "<br>\n",
    "\n",
    "Besides referencing to some very good kagglers, I also accumulated some more good links to refer to:   \n",
    "1. [Missing-data imputation](http://www.stat.columbia.edu/~gelman/arm/missing.pdf)\n",
    "2. [How to Handle Missing Data](https://towardsdatascience.com/how-to-handle-missing-data-8646b18db0d4)\n",
    "3. [Multiple Imputation](http://dept.stat.lsa.umich.edu/~jerrick/courses/stat701/notes/mi.html)\n",
    "4. [Good example](http://onbiostatistics.blogspot.com/2012/10/missingness-mechanism-mcar-mar-and-mnar.html)\n",
    "5. [A good answer](https://stats.stackexchange.com/questions/23090/distinguishing-missing-at-random-mar-from-missing-completely-at-random-mcar)\n",
    "\n",
    "<br>\n",
    "\n",
    "**LAST BUT NOT LEAST**\n",
    "\n",
    "https://stats.stackexchange.com/questions/95083/imputation-before-or-after-splitting-into-train-and-test\n",
    "\n",
    "I see quite a lot of people on Kaggle performing imputation on both the \"Training\" and \"Test\" datasets in one setting - i.e. If one wants to use the mean of the dataset to impute the missing values, instead of performing the desired imputation method on the training set first, and replicate the process to the test set, he/she combines the training and test set and perform the method on the combined set. This is confusing, to say the very least, as a newbie, I googled up and see some answers to this:\n",
    "\n",
    "<br>\n",
    "\n",
    "The division between training and test set is an attempt to replicate the situation where you have past information and are building a model which you will test on future as-yet unknown information: the training set takes the place of the past and the test set takes the place of the future, so you only get to test your trained model once.\n",
    "\n",
    "<br>\n",
    "\n",
    "Keeping the past/future analogy in mind, this means anything you do to pre-process or process your data, such as imputing missing values, you should do on the training set alone. You can then remember what you did to your training set if your test set also needs pre-processing or imputing, so that you do it the same way on both sets.\n",
    "\n",
    "<br>\n",
    "\n",
    "If you use the test data to affect the training data, then the test data is being used to build your model, so it ceases to be test data and will not provide a fair test of your model. You risk overfitting, and it was to discourage this that you separated out the test data in the first place.\n",
    "\n",
    "<br>\n",
    "\n",
    "So personally, given a situation where you want to perform, say, median imputation, I would strongly recommend to do it on the training and test set separately, instead of combining the two sets and do a median imputation on it.\n",
    "\n",
    "**Another reasonable question that follows from the above**\n",
    "\n",
    "What if the missing values only happen in the test set and not in the training set. What should we do then? Again, please have a discussion on this if you know the answer."
   ]
  },
  {
   "cell_type": "markdown",
   "metadata": {
    "colab_type": "text",
    "id": "WLGfruayOYvo"
   },
   "source": [
    "### 4.1.1) Missing Values: Fare <a id=\"fare\"></a>"
   ]
  },
  {
   "cell_type": "markdown",
   "metadata": {
    "colab_type": "text",
    "id": "eW9NdRaIOYvo"
   },
   "source": [
    "We first check the number of missing values for fare."
   ]
  },
  {
   "cell_type": "code",
   "execution_count": 0,
   "metadata": {
    "colab": {},
    "colab_type": "code",
    "id": "kQtp1kBbOYvp"
   },
   "outputs": [],
   "source": [
    "# Check variable Fare for missing values:\n",
    "print('Amount of missing data in Fare for training set:', train.Fare.isnull().sum())\n",
    "print('Amount of missing data in Fare for test set:', Test.Fare.isnull().sum())"
   ]
  },
  {
   "cell_type": "markdown",
   "metadata": {
    "colab_type": "text",
    "id": "dF0kG4nNOYvs"
   },
   "source": [
    "Since the missing data is so little, it is therefore easy and feasible to check which passenger has a missing fare value. And a common way to impute missing data when the missing amount of data is small is presented as below."
   ]
  },
  {
   "cell_type": "code",
   "execution_count": 0,
   "metadata": {
    "colab": {},
    "colab_type": "code",
    "id": "Lg7CfYAKOYvt"
   },
   "outputs": [],
   "source": [
    "Test[Test['Fare'].isnull()]"
   ]
  },
  {
   "cell_type": "markdown",
   "metadata": {
    "colab_type": "text",
    "id": "9TTT6xJPOYvu"
   },
   "source": [
    "As said earlier, there are a few ways to fill in the missing data when the number of missing values are so small. It is reasonable to fill Fare's missing values with the median value.\n",
    "\n",
    "Test['Fare'] = Test['Fare'].fillna(Test['Fare'].median())\n",
    "\n",
    "<br>\n",
    "\n",
    "However, we can be more observant here and see that Fare is related to Pclass and Parch in our correlation heatmap in the **training set**. So we can approach it this way: Assuming that the correlation holds for the Test set as well (we can check the heatmap of the test set as well, but I try to refrain myself from doing that), meaning that Fare is most related to Pclass and Parch in the Test set; Since Mr Thomas is of Pclass 3 and Parch 0, we thus focus on the passengers who are all from Pclass 3 and Parch 0 and take the median fare of those passengers who are all from Pclass 3 and Parch 0."
   ]
  },
  {
   "cell_type": "code",
   "execution_count": 0,
   "metadata": {
    "colab": {},
    "colab_type": "code",
    "id": "GSb6WgF_OYvv"
   },
   "outputs": [],
   "source": [
    "median_fare = Test.groupby(['Pclass', 'Parch']).Fare.median()[3][0]\n",
    "# Filling the missing value in Fare with the median Fare of 3rd class passenger who has Parch 0.\n",
    "Test['Fare'] = Test['Fare'].fillna(median_fare)"
   ]
  },
  {
   "cell_type": "markdown",
   "metadata": {
    "colab_type": "text",
    "id": "3xZuBp2UOYvw"
   },
   "source": [
    "Since fare is all filled up, we compare the fare distribution as below. Also when you look carefully at the plot below, I compared the test and training set's distribution of Fare vs Survival rate side by side and realized that the training set is not so \"smooth\" as compared to the test set. This has an underlying problem, and the idea is that when our algorithm is searching for patterns in the training set, our algorithm might adapt to certain underlying patters in the training set that DO NOT exist in the test set  - as a result, the machine learning algorithm may not be able to generalize well to the test set - which is why when we use a certain algorithm on our training set, it seems to give us a high accuracy like 80% but when we do it on the test set, it becomes much lower at maybe 75%."
   ]
  },
  {
   "cell_type": "code",
   "execution_count": 0,
   "metadata": {
    "colab": {},
    "colab_type": "code",
    "id": "zFwTQ1HQOYvw"
   },
   "outputs": [],
   "source": [
    "figure, fare = plt.subplots(figsize=(20, 6.6))\n",
    "sns.distplot(train.Fare, hist=False,  color='red', label = \"Training Data\",ax=fare)\n",
    "sns.distplot(Test.Fare, hist=False, label = \"Test Data\", color='blue', ax=fare)\n",
    "\n",
    "fare.set_xlabel(\"Fare\")\n",
    "fare.set_ylabel(\"Probability Density\")\n",
    "fare.legend([\"Training Data\", \"Test Data\"], loc='upper right')\n",
    "fare.set_title(\"Superimposed distribution plot for Fare of Training set vs Test set\",\n",
    "                 loc='center', fontdict={'fontsize': 16}, color='r')"
   ]
  },
  {
   "cell_type": "markdown",
   "metadata": {
    "colab_type": "text",
    "id": "B5k34ObHOYvy"
   },
   "source": [
    "### 4.1.2) Missing Values: Embarked <a id=\"emb\"></a>"
   ]
  },
  {
   "cell_type": "code",
   "execution_count": 0,
   "metadata": {
    "colab": {},
    "colab_type": "code",
    "id": "f4dDzNghOYvy"
   },
   "outputs": [],
   "source": [
    "# Check variable Embarked for missing values:\n",
    "print('Amount of missing data in Embarked for train:', train.Embarked.isnull().sum())\n",
    "print('Amount of missing data in Embarked for test:', Test.Embarked.isnull().sum())"
   ]
  },
  {
   "cell_type": "code",
   "execution_count": 0,
   "metadata": {
    "colab": {},
    "colab_type": "code",
    "id": "larLGh2xOYv0"
   },
   "outputs": [],
   "source": [
    "train[train['Embarked'].isnull()]"
   ]
  },
  {
   "cell_type": "markdown",
   "metadata": {
    "colab_type": "text",
    "id": "FZpuDHyTOYv2"
   },
   "source": [
    "Embarked is a category variable. It is not easy to find its correlation with other variables. So we turn our attention to the EDA we have done earlier in section 3.2.3. If you allow me to make an educated guess, I would say embarked may be most related with Pclass and Fare - the logic lies in assuming that certain cities are \"richer\" than other cities - and hence a reasonable assumption is that the passengers who come from the \"richer\" cities should also be of higher class and fare. \n",
    "\n",
    "We can see from our EDA that Southampton has the most Pclass 1 passengers and I would just imputate the embarked by S."
   ]
  },
  {
   "cell_type": "code",
   "execution_count": 0,
   "metadata": {
    "colab": {},
    "colab_type": "code",
    "id": "Qw7NSrEnOYv2"
   },
   "outputs": [],
   "source": [
    "# pclass1_fare = train[train.Pclass == 1].sort_values(['Embarked','Fare'])\n",
    "# g = sns.FacetGrid(pclass1_fare,col = \"Embarked\")\n",
    "# g.map(sns.distplot, \"Fare\", kde = False)"
   ]
  },
  {
   "cell_type": "code",
   "execution_count": 0,
   "metadata": {
    "colab": {},
    "colab_type": "code",
    "id": "UyIRxHq-OYv5"
   },
   "outputs": [],
   "source": [
    "train['Embarked'] = train['Embarked'].fillna('S')"
   ]
  },
  {
   "cell_type": "markdown",
   "metadata": {
    "colab_type": "text",
    "id": "HPJgRvoROYv7"
   },
   "source": [
    "### 4.1.3) Missing Values: Age <a id=\"age\"></a>"
   ]
  },
  {
   "cell_type": "code",
   "execution_count": 0,
   "metadata": {
    "colab": {},
    "colab_type": "code",
    "id": "8sh60VrvOYv7"
   },
   "outputs": [],
   "source": [
    "# Check variable Embarked for missing values:\n",
    "print('Amount of missing data in Age for train:', train.Age.isnull().sum())\n",
    "print('Amount of missing data in Age for test:', Test.Age.isnull().sum())"
   ]
  },
  {
   "cell_type": "markdown",
   "metadata": {
    "colab_type": "text",
    "id": "dEUaCxhrOYv9"
   },
   "source": [
    "**Fill in missing values for Age.**\n",
    "\n",
    "**Age has quite a lot of missing values**. So when there are a lot of missing values, we should choose the imputation strategy carefully.<br>\n",
    "\n",
    "In order to understand which missing value imputation strategy to choose, we need to need to answer some questions about variable Age:\n",
    "\n",
    "<br>\n",
    "\n",
    "1. Are values in variabe Age missing at random? - if not, it is useful to have feature to capture information in which rows Age is missing.\n",
    "\n",
    "<br>\n",
    "\n",
    "2. We will choose 2 different strategies to capture missing values and compare model performance for them: mean/median imputation and build models to impute missing values. This 2 strategies are very different from each other:\n",
    "    - Mean/median imputation is easy and works well, however it distorts original variance of variable and covarience of variable with other features\n",
    "    - Building a model to predict values is normally a very good estimate of missing values, however, it tends to give too perfect values for real situation. It results in unrealistic prediction due to standard error is deflation.\n",
    "    \n",
    "    \n",
    "<br>\n",
    "\n",
    "Also I will create copy versions of train data set because I want to compare and contrast the different methods using median imputation in the second part. \n",
    "\n",
    "Some of the below age imputation Code was taken and modified from https://www.kaggle.com/gunesevitan/advanced-feature-engineering-tutorial-with-titanic. Please check his kernel out, a concise one with neat lines of codes! Impressive.\n",
    "    "
   ]
  },
  {
   "cell_type": "code",
   "execution_count": 0,
   "metadata": {
    "colab": {},
    "colab_type": "code",
    "id": "FExZyALcOYv-"
   },
   "outputs": [],
   "source": [
    "# Explore Age distibution\n",
    "figure, myaxis = plt.subplots(figsize=(10, 4.5))\n",
    "\n",
    "preimputation=sns.kdeplot(data=train[\"Age\"][(train[\"Survived\"] == 0) & (\n",
    "    train[\"Age\"].notnull())], kernel='gau', ax=myaxis, color=\"Red\", shade=True, legend=True)\n",
    "\n",
    "\n",
    "# a faster code using loc function is sns.kdeplot(train.loc[(train['Survived'] == 0),'Age'] , color='gray',shade=True,label='not survived')\n",
    "\n",
    "preimputation=sns.kdeplot(data=train[\"Age\"][(train[\"Survived\"] == 1) & (\n",
    "    train[\"Age\"].notnull())], kernel='gau', ax=myaxis, color=\"Blue\", shade=True, legend=True)\n",
    "\n",
    "myaxis.set_xlabel(\"Age\")\n",
    "myaxis.set_ylabel(\"Probability Density\")\n",
    "myaxis.legend([\"Not Survived\", \"Survived\"], loc='upper right')\n",
    "myaxis.set_title(\"Superimposed KDE plot for age of Survived and Not Survived\",\n",
    "                 loc='center', fontdict={'fontsize': 16}, color='r')"
   ]
  },
  {
   "cell_type": "code",
   "execution_count": 0,
   "metadata": {
    "colab": {},
    "colab_type": "code",
    "id": "A3WSSZCKOYwA",
    "scrolled": true
   },
   "outputs": [],
   "source": [
    "copy5 = train.copy()\n",
    "missing_age_rows2 = copy5.Age.isna()\n",
    "missing_age_rows2\n",
    "#age_by_pclass_SibSp = copy5.groupby(['Pclass', 'SibSp']).median()['Age']\n",
    "#age_by_pclass_SibSp[1].index.tolist()\n",
    "#age_by_pclass_SibSp[3][8] = age_by_pclass_SibSp[3][5] #since no age values for pclass 3 and sibsp 8 we fill it with\n",
    "#pclass 3 and sibsp5\n",
    "\n",
    "#for pclass in range(1, 4):\n",
    "    #for siblings in age_by_pclass_SibSp[pclass].index.tolist():\n",
    "        #print('Median age of Pclass {} with {} siblings: {}'.format(pclass, siblings, age_by_pclass_SibSp[pclass][siblings]))\n",
    "#print('Median age of all passengers: {}'.format(copy5['Age'].median()))"
   ]
  },
  {
   "cell_type": "code",
   "execution_count": 0,
   "metadata": {
    "colab": {},
    "colab_type": "code",
    "id": "i3dvXLo4OYwF"
   },
   "outputs": [],
   "source": [
    "age_by_pclass_SibSp = copy5.groupby(['Pclass', 'SibSp']).median()['Age']\n",
    "age_by_pclass_SibSp"
   ]
  },
  {
   "cell_type": "markdown",
   "metadata": {
    "colab_type": "text",
    "id": "tuVSz3ZuOYwK"
   },
   "source": [
    "The idea is to fill the missing values of Age by the median of the Pclass and Sibsp. For example, if Mr John's age is missing the training data set, and he belongs to Pclass 1 and and has 3 siblings (SibSp 3), then we shall fill in the missing age with 23. This may seem better than just filling in Mr John's age by the median of the whole population of the passengers in Titanic. We will use the same idea for the test dataset as well. (Always bear in mind that overfitting may occur, but to prevent overfitting is another lesson for another day!)\n",
    "\n",
    "However, there is a problem, **all** passengers of Pclass 3 and SibSp 8 have missing values, so we cannot find any median value for that category. So for simplicity sake, we fill in manually the missing ages of those who belong to Pclass 3 & SibSP 8 to be the median age of passengers belonging to Pclass 3 & SibSP 5 value, which is 11."
   ]
  },
  {
   "cell_type": "code",
   "execution_count": 0,
   "metadata": {
    "colab": {},
    "colab_type": "code",
    "id": "JCOs_s-yOYwK",
    "scrolled": true
   },
   "outputs": [],
   "source": [
    "age_by_pclass_SibSp[1].index.tolist()\n",
    "age_by_pclass_SibSp[3][8] = age_by_pclass_SibSp[3][5] #since no age values for pclass 3 and sibsp 8 we fill it with\n",
    "#pclass 3 and sibsp5\n",
    "age_by_pclass_SibSp"
   ]
  },
  {
   "cell_type": "markdown",
   "metadata": {
    "colab_type": "text",
    "id": "0VRz_3NNOYwM"
   },
   "source": [
    "To give a neat representation of what we have done, the below code gives the median age of the passengers with pclass i with j number of siblings."
   ]
  },
  {
   "cell_type": "code",
   "execution_count": 0,
   "metadata": {
    "colab": {},
    "colab_type": "code",
    "id": "HI-J7Bq0OYwM"
   },
   "outputs": [],
   "source": [
    "for pclass in range(1, 4):\n",
    "    for siblings in age_by_pclass_SibSp[pclass].index.tolist():\n",
    "        print('Median age of Pclass {} with {} siblings: {}'.format(pclass, siblings, age_by_pclass_SibSp[pclass][siblings]))\n",
    "print('Median age of all passengers: {}'.format(copy5['Age'].median()))\n"
   ]
  },
  {
   "cell_type": "code",
   "execution_count": 0,
   "metadata": {
    "colab": {},
    "colab_type": "code",
    "id": "rkQS7Qw-OYwO",
    "scrolled": true
   },
   "outputs": [],
   "source": [
    "copy5['Age'] = copy5.groupby(['Pclass', 'SibSp'])[\n",
    "    'Age'].apply(lambda x: x.fillna(x.median()))\n",
    "# this line is the single code that we need to fill up all the \n",
    "#missing values: powerful one liner from \n",
    "#https://www.kaggle.com/gunesevitan/advanced-feature-engineering-tutorial-with-titanic.\n",
    "\n",
    "#however do not forget that the above line of code does not take care of the 7 missing NaN values from passengers\n",
    "#from Pclass 3 & SibSp 8. So we fill in the remaining 7 missing values to be age 11.\n",
    "\n",
    "copy5['Age'] = copy5.Age.fillna(11) #think this step cause no values for NA value.\n",
    "copy5.info()"
   ]
  },
  {
   "cell_type": "markdown",
   "metadata": {
    "colab_type": "text",
    "id": "TAsEi7DPOYwQ"
   },
   "source": [
    "#### **Comparing the distribution of age before imputation and after imputation**\n",
    "\n",
    "In this small subsection I attempt to compare the distribution of age vs survival before imputation and after imputation but failed to find an elegant way to write it out, so bear with the messy codes - I will edit the codes once I can find a short way to plot them. \n"
   ]
  },
  {
   "cell_type": "markdown",
   "metadata": {
    "colab_type": "text",
    "id": "tXVcVjxNOYwQ"
   },
   "source": [
    "1. Comparing the KDE plot for the age of those who perished before imputation against the KDE plot for the age of those who perished after imputation."
   ]
  },
  {
   "cell_type": "code",
   "execution_count": 0,
   "metadata": {
    "colab": {},
    "colab_type": "code",
    "id": "_74vi_0VOYwR"
   },
   "outputs": [],
   "source": [
    "# Explore Age distibution\n",
    "figure, myaxis = plt.subplots(figsize=(20, 4.5))\n",
    "\n",
    "preimputation=sns.kdeplot(data=train[\"Age\"][(train[\"Survived\"] == 0) & (\n",
    "    train[\"Age\"].notnull())], kernel='gau', ax=myaxis, color=\"Blue\", shade=True, legend=True)\n",
    "\n",
    "\n",
    "# a faster code using loc function is sns.kdeplot(train.loc[(train['Survived'] == 0),'Age'] , color='gray',shade=True,label='not survived')\n",
    "\n",
    "\n",
    "afterimputation=sns.kdeplot(data=copy5[\"Age\"][(copy5[\"Survived\"] == 0) & (\n",
    "    copy5[\"Age\"].notnull())], kernel='gau', ax=myaxis, color=\"maroon\", shade=True, legend=True)\n",
    "\n",
    "\n",
    "# a faster code using loc function is sns.kdeplot(train.loc[(train['Survived'] == 0),'Age'] , color='gray',shade=True,label='not survived')\n",
    "\n",
    "\n",
    "myaxis.set_xlabel(\"Age\")\n",
    "myaxis.set_ylabel(\"Probability Density\")\n",
    "myaxis.legend([\"pre\", \"after\"], loc='upper right')\n",
    "myaxis.set_title(\"Superimposed KDE plot for age of not survived: pre-imputation vs after-imputation\",\n",
    "                 loc='center', fontdict={'fontsize': 16}, color='r')"
   ]
  },
  {
   "cell_type": "markdown",
   "metadata": {
    "colab_type": "text",
    "id": "XLZDzzTTOYwT"
   },
   "source": [
    "2. Comparing the KDE plot for the age of those who survived before imputation against the KDE plot for the age of those who survived after imputation."
   ]
  },
  {
   "cell_type": "code",
   "execution_count": 0,
   "metadata": {
    "colab": {},
    "colab_type": "code",
    "id": "JeQuLYTROYwT"
   },
   "outputs": [],
   "source": [
    "# Explore Age distibution\n",
    "figure, myaxis = plt.subplots(figsize=(20, 4.5))\n",
    "\n",
    "preimputation=sns.kdeplot(data=train[\"Age\"][(train[\"Survived\"] == 1) & (\n",
    "    train[\"Age\"].notnull())], kernel='gau', ax=myaxis, color=\"Blue\", shade=True, legend=True)\n",
    "\n",
    "\n",
    "# a faster code using loc function is sns.kdeplot(train.loc[(train['Survived'] == 0),'Age'] , color='gray',shade=True,label='not survived')\n",
    "\n",
    "afterimputation=sns.kdeplot(data=copy5[\"Age\"][(copy5[\"Survived\"] == 1) & (\n",
    "    copy5[\"Age\"].notnull())], kernel='gau', ax=myaxis, color=\"maroon\", shade=True, legend=True)\n",
    "\n",
    "myaxis.set_xlabel(\"Age\")\n",
    "myaxis.set_ylabel(\"Probability Density\")\n",
    "myaxis.legend([\"pre\", \"after\"], loc='upper right')\n",
    "myaxis.set_title(\"Superimposed KDE plot for age of survived: pre-imputation vs after-imputation\",\n",
    "                 loc='center', fontdict={'fontsize': 16}, color='r')\n"
   ]
  },
  {
   "cell_type": "markdown",
   "metadata": {
    "colab_type": "text",
    "id": "qWYzGwweOYwU"
   },
   "source": [
    "#### **Contrasting the first imputation method with the imputation by median method**"
   ]
  },
  {
   "cell_type": "markdown",
   "metadata": {
    "colab_type": "text",
    "id": "Yp5_Pn3uOYwV"
   },
   "source": [
    "Here I show why using median imputation may lead to more turbulent distributions. But to be honest, I have no mathematical backup on if having a vastly different distribution between the two plots is a good or bad thing."
   ]
  },
  {
   "cell_type": "code",
   "execution_count": 0,
   "metadata": {
    "colab": {},
    "colab_type": "code",
    "id": "KAydd8OLOYwW"
   },
   "outputs": [],
   "source": [
    "copy2 = train.copy() #wanna work with copy here so dont mess up the original data values.\n",
    "copy2['Age'].fillna(copy2['Age'].median(),inplace = True)"
   ]
  },
  {
   "cell_type": "markdown",
   "metadata": {
    "colab_type": "text",
    "id": "CK_AsVriOYwY"
   },
   "source": [
    "Median imputation: Comparing the KDE plot for the age of those who perished before imputation against the KDE plot for the age of those who perished after imputation. Here we can see that the distribution between pre-imputation and after-imputation using this method is quite large - much more difference than our first method."
   ]
  },
  {
   "cell_type": "code",
   "execution_count": 0,
   "metadata": {
    "colab": {},
    "colab_type": "code",
    "id": "nxZKkXZNOYwZ",
    "scrolled": true
   },
   "outputs": [],
   "source": [
    "# Explore Age distibution\n",
    "figure, myaxis = plt.subplots(figsize=(20, 4.5))\n",
    "\n",
    "preimputation=sns.kdeplot(data=train[\"Age\"][(train[\"Survived\"] == 0) & (\n",
    "    train[\"Age\"].notnull())], kernel='gau', ax=myaxis, color=\"Blue\", shade=True, legend=True)\n",
    "\n",
    "\n",
    "median1=sns.kdeplot(data=copy2[\"Age\"][(copy2[\"Survived\"] == 0) & (\n",
    "    copy2[\"Age\"].notnull())], kernel='gau', ax=myaxis, color=\"maroon\", shade=True, legend=True)\n",
    "\n",
    "\n",
    "\n",
    "myaxis.set_xlabel(\"Age\")\n",
    "myaxis.set_ylabel(\"Probability Density\")\n",
    "myaxis.legend([\"pre\", \"after\"], loc='upper right')\n",
    "myaxis.set_title(\"Superimposed KDE plot for age of not survived: pre-imputation vs after-imputation\",\n",
    "                 loc='center', fontdict={'fontsize': 16}, color='r')"
   ]
  },
  {
   "cell_type": "markdown",
   "metadata": {
    "colab_type": "text",
    "id": "IT-Har_1OYwc"
   },
   "source": [
    "Median imputation: Comparing the KDE plot for the age of those who survived before imputation against the KDE plot for the age of those who perished after imputation. "
   ]
  },
  {
   "cell_type": "code",
   "execution_count": 0,
   "metadata": {
    "colab": {},
    "colab_type": "code",
    "id": "8-Vgjak3OYwd"
   },
   "outputs": [],
   "source": [
    "# Explore Age distibution\n",
    "figure, myaxis = plt.subplots(figsize=(20, 4.5))\n",
    "\n",
    "\n",
    "\n",
    "\n",
    "preimputation=sns.kdeplot(data=train[\"Age\"][(train[\"Survived\"] == 1) & (\n",
    "    train[\"Age\"].notnull())], kernel='gau', ax=myaxis, color=\"Blue\", shade=True, legend=True)\n",
    "\n",
    "\n",
    "\n",
    "\n",
    "\n",
    "median1=sns.kdeplot(data=copy2[\"Age\"][(copy2[\"Survived\"] == 1) & (\n",
    "    copy2[\"Age\"].notnull())], kernel='gau', ax=myaxis, color=\"maroon\", shade=True, legend=True)\n",
    "\n",
    "myaxis.set_xlabel(\"Age\")\n",
    "myaxis.set_ylabel(\"Probability Density\")\n",
    "myaxis.legend([\"pre\", \"after\"], loc='upper right')\n",
    "myaxis.set_title(\"Superimposed KDE plot for age of survived: pre-imputation vs after-imputation\",\n",
    "                 loc='center', fontdict={'fontsize': 16}, color='r')"
   ]
  },
  {
   "cell_type": "markdown",
   "metadata": {
    "colab_type": "text",
    "id": "QMtstnVxOYwe"
   },
   "source": [
    "#### **Important final note for imputation**"
   ]
  },
  {
   "cell_type": "markdown",
   "metadata": {
    "colab_type": "text",
    "id": "QExNf0uvOYwf"
   },
   "source": [
    "One wonders what is the point of comparing distributions pre-imputation and after-imputation? Do they need to follow the same distribution? Well, to me this is not an obvious answer - but one intuitive explanation is as follows.\n",
    "\n",
    "- We assumed that the missing age values are Missing at Random (MAR) read: https://statisticalhorizons.com/missing-at-random.\n",
    "\n",
    "<br>\n",
    "\n",
    "- Data on Y are said to be missing at random if the probability of missing data on Y is unrelated to the value of Y, after controlling for other variables in the analysis. To express this more formally, suppose there are only two variables X and Y, where X always is observed and Y sometimes is missing. MAR means that $$\\text{Pr}(Y \\text{missing}~|~Y,X) = \\text{Pr}(Y \\text{missing}~|~X)$$\n",
    "\n",
    "<br>\n",
    "\n",
    "- Since the missing values are MAR, it should be the case that the pre-imputation distribution should be similar to the after-imputation distribution. This is why many people like to do a comparison to get a feel if the distribution is similar or not."
   ]
  },
  {
   "cell_type": "code",
   "execution_count": 0,
   "metadata": {
    "colab": {},
    "colab_type": "code",
    "id": "fl_DKIO_OYwf"
   },
   "outputs": [],
   "source": [
    "#Finally do not forget to let train = copy5.\n",
    "\n",
    "train = copy5"
   ]
  },
  {
   "cell_type": "markdown",
   "metadata": {
    "colab_type": "text",
    "id": "fjYkgyjeOYwk"
   },
   "source": [
    "#### **Imputation for Test set age**"
   ]
  },
  {
   "cell_type": "code",
   "execution_count": 0,
   "metadata": {
    "colab": {},
    "colab_type": "code",
    "id": "a4WkGDmnOYwk"
   },
   "outputs": [],
   "source": [
    "test_age_by_pclass_SibSp = Test.groupby(['Pclass', 'SibSp']).median()['Age']\n",
    "test_age_by_pclass_SibSp\n",
    "Test['Age'] = Test.groupby(['Pclass', 'SibSp'])['Age'].apply(lambda x: x.fillna(x.median()))\n",
    "Test.info()"
   ]
  },
  {
   "cell_type": "markdown",
   "metadata": {
    "colab_type": "text",
    "id": "DfAE6hrhOYwl"
   },
   "source": [
    "### 4.2) Outliers <a id=\"out\"></a>\n",
    "\n",
    "It is important to know outliers. Outliers are very important because they affect the mean and median which in turn affects the error (absolute and mean) in any data set. When you plot the error you might get big deviations if outliers are in the data set. Also do bear in mind that we can always do outliers pre- and after missing values imputation. \n",
    "\n",
    "<br>\n",
    "\n",
    "**Also, DO NOT just drop or replace the outlier with the mean/(or what not) JUST because the algorithm or the box and whisker plot says SO! Think before you act! Sometimes we have to make sense of the data - ask yourself first, are the outliers justifiable?? Why did the outliers exist? Do we need them in order to make the model more accurate?**\n",
    "\n",
    "- If one is sure outliers are caused by incorrect entry or human errors. One can DROP the outlier.\n",
    "\n",
    "<br>\n",
    "\n",
    "- More commonly, the outlier affects both results and assumptions.  In this situation, it is not legitimate to simply drop the outlier.  You may run the analysis both with and without it, but you should state in at least a footnote the dropping of any such data points and how the results changed.\n",
    "\n",
    "<br>\n",
    "\n",
    "- If the outlier creates a significant association, you should drop the outlier and should not report any significance from your analysis.\n",
    "\n",
    "<br>\n",
    "\n",
    "**In general, one can always be careful and analyse the model with and without the outliers. Justify why you want to remove them, or replace them.**\n",
    "\n",
    "\n",
    "\n",
    "\n",
    "Also, Please draw box and whisker plot and normal probability plots as the visuals will give you a good understanding of the outliers.\n",
    "\n",
    "Lastly, a repeated reminder is to check outliers before data imputation.\n",
    "\n",
    "<br>\n",
    "\n",
    "Here we use Tukey's method for detecting outliers:\n",
    "\n",
    "**Definition of Tukey's Fences**\n",
    "\n",
    "If $Q_1$ and $Q_2$ are the lower and upper quartile respectively, the one could define an outlier to be any observation outside the range of $$\\left[Q_1-k(Q_3-Q_1), Q_3+k(Q_3-Q_1)\\right]$$\n",
    "\n",
    "for some non-negative k, and John Tukey proposes this k should be 1.5.\n",
    "\n"
   ]
  },
  {
   "cell_type": "markdown",
   "metadata": {
    "colab_type": "text",
    "id": "EEpXySOROYwm"
   },
   "source": [
    "In the following chunk of code, I will use a code from a very experienced fellow Kaggler: But on top of that, since I mentioned that coding is an integral part of data science, and I am not experienced with coding, I will make an attempt to break the code into easy chunks to understand - experienced coders can skip the explanation.\n",
    "https://www.kaggle.com/yassineghouzam/titanic-top-4-with-ensemble-modeling"
   ]
  },
  {
   "cell_type": "code",
   "execution_count": 0,
   "metadata": {
    "colab": {},
    "colab_type": "code",
    "id": "A745nKFgOYwm"
   },
   "outputs": [],
   "source": [
    "from collections import Counter\n",
    "\n",
    "def detect_outliers(df, n, features):\n",
    "    outliers_indices = [] #create a empty list to keep track of the passenger row number.\n",
    "    for col in features:\n",
    "        # 1st quartile (25%)\n",
    "        Q1 = np.nanpercentile(df[col], 25)\n",
    "        # 3rd quartile (75%)\n",
    "        Q3 = np.nanpercentile(df[col], 75)\n",
    "        # Interquartile range (IQR)\n",
    "        IQR = Q3 - Q1\n",
    "        \n",
    "        # outlier step\n",
    "        outlier_step = 1.5 * IQR\n",
    "        # Determine a list of indices of outliers for feature col\n",
    "        outlier_list_col = df[(df[col] < Q1 - outlier_step)\n",
    "                              | (df[col] > Q3 + outlier_step)].index\n",
    "        \n",
    "        #print(df[(df[col] < Q1 - outlier_step)\n",
    "                              #| (df[col] > Q3 + outlier_step)].index)\n",
    "        print(col,Q1-outlier_step,Q3+outlier_step)\n",
    "        # append the found outlier indices for col to the list of outlier indices\n",
    "        outliers_indices.extend(outlier_list_col)\n",
    "        \n",
    "    #print(outliers_indices)\n",
    "    \n",
    "    # select observations containing more than 2 outliers\n",
    "    outliers_indices = Counter(outliers_indices)\n",
    "    multiple_outliers = list(k for k, v in outliers_indices.items() if v > n)\n",
    "    #print(outliers_indices)\n",
    "    \n",
    "    return multiple_outliers\n",
    "\n",
    "\n",
    "Outliers_to_drop = detect_outliers(train, 2, [\"Age\", \"SibSp\", \"Parch\", \"Fare\"])\n"
   ]
  },
  {
   "cell_type": "markdown",
   "metadata": {
    "colab_type": "text",
    "id": "VTCfNUPUOYwn"
   },
   "source": [
    "**Explanation for the code above, going line by line**\n",
    "\n",
    "1. def detect_outliers(df, n, features) is defining a function named detect_outliers which takes in a dataset df (train), and a certain number of featured columns called features and n is the threshold. For example, if we have detect_outliers(train, 2, [\"Age\", \"SibSp\", \"Parch\", \"Fare\"]), it means that we are looking at the data set called train and the columns involved are age, sibsp, parch and fare. However, if there is this guy called John and his age is 100, he definitely will be flagged out as an outlier , but is it fair to just consider John as an outlier just because he is old? So the author of the kernel that I linked earlier defines an outlier iff the person has more than 2 outliers at any one time. For instance, we only consider John as an outlier if he has n>2 outliers on him at the same time. For we find that John has age 100 and sibsp = 30  and fare as 1000000, and we have find out that these values of John are all outliers in its own right, then John has > n =2 columns as outliers, so then only can we consider john as an outlier. \n",
    "<br>\n",
    "\n",
    "2. outliers_indices = [] creates an empty list which we will use later.\n",
    "<br>\n",
    "\n",
    "3. for col in features: for col in features: ........(a bunch of code) means the below: let features be ['Age,'SibSp',...], for  each col, or rather for each element in features, we do the following bunch of code, starting from Age -- finish age and loop back to the start and do SibSp etc.\n",
    "\n",
    "    For the first loop, the column we iterate through is age. In age, we find the lower quartile and upper quartile of age and the IQR, making sure we ignore NAN values by np.nanpercentile (usually people use np.percentile, take note and in that case it is troublesome because if we do not ignore nan values, the lower bound and upperbound for age will both be nan because there are too many nan values.)\n",
    "    \n",
    "    outlier_step = 1.5 times IQR and whenever age is less than Q1- outlierstep or more than Q3+ outlierstep. So the code outlier_list_col returns column vector of row numbers whose ages are outliers. When printed out this line, we have \n",
    "Int64Index([33, 54, 96, 116, 280, 456, 493, 630, 672, 745, 851], dtype='int64'), meaning row 33, 54, 96... are the rows of Age being an outlier.\n",
    "<br>\n",
    "\n",
    "4. Also at this step, you can print(col,Q1-outlier_step,Q3+outlier_step) and return the range of outlier for each col.\n",
    "<br>\n",
    "\n",
    "5. Now onto the next code,  outliers_indices.extend(outlier_list_col), recall the first line we have an empty list for outliers_indices =[]. Now we put each element in the column vector of row number index for age into the empty list []. So for example, row 33 and 54 are age outliers, then the outliers_indices = [33,54]; Now we have finished 1 loop, loop back again\n",
    "but for the next column sibsp, rinse and repeat until the end of columns. For example, John is row 33, and he is outlier for age and sibsp and fare. so the final outliers_indices.extend will return a list like [33,.....,33,......,33.....] with 33 appearing 3 times. \n",
    "<br>\n",
    "\n",
    "6. We have finished with the loops! Now we look at the next code. outliers_indices = Counter(outliers_indices)\n",
    "Counter function gives you a dictionary, same example, Ivan is row number 7. So in the dictionary returned by counter, we will see something like {7:3,.......} where 7:3 is key value pair meaning, row 7 occured 3 times in the old list. This is important to know because we only want to have people who have >2 outliers as an OUTLIER. Another way is just to type list(enumerate(outliers_indices)).\n",
    "<br>\n",
    "\n",
    "7. multiple_outliers = list(k for k, v in outliers_indices.items() if v > n) \n",
    "\n",
    "    outliers_indices is a dictionary for eg {7:3, 2:1, 8:4} , \n",
    "\n",
    "    outliers_indices.items() is a list of key value tuples like [(7,3),(2,1),(8,4)]\n",
    "\n",
    "    for item in outliers_indices.items() = [(7,3),(2,1),(8,4)] it will loop over each tuple, first loop item will be (7,3)\n",
    "    second loop will be (2,1). \n",
    "\n",
    "    Now let us unpack the tuple instead of looping over the tuples because we are interested in the key value. k is first, v is second value, return a list of keys for which the corresponding value v is more than n, in which case n = 2 here.\n",
    "\n",
    "\n"
   ]
  },
  {
   "cell_type": "markdown",
   "metadata": {
    "colab_type": "text",
    "id": "ptqYBSwwOYwn"
   },
   "source": [
    "**Attention**\n",
    "\n",
    "We shall investigate why the upper and lower bound of parch is both 0. What that tells us is any value that is \n",
    "NOT 0 will be considered an outlier (because the range of Parch being an outlier is NOT from 0 to 0). This is unreasonable because that means Parch 1, 2, 3, 4 ,5, 6 will all be outliers. So sometimes do be careful when dealing with outliers, as I have always said, do not apply things blindly. (PS: do comment below if during the process I made the mistake I preach, would be greatly appreciated. Data science is relatively new to me and I'm learning everyday!)"
   ]
  },
  {
   "cell_type": "code",
   "execution_count": 0,
   "metadata": {
    "colab": {},
    "colab_type": "code",
    "id": "4G4af9zoOYwo"
   },
   "outputs": [],
   "source": [
    "Outliers_to_drop\n",
    "\n",
    "train.loc[Outliers_to_drop]"
   ]
  },
  {
   "cell_type": "markdown",
   "metadata": {
    "colab_type": "text",
    "id": "LTUWQ8NqOYwr"
   },
   "source": [
    "The above table shows that there are 13 outliers. **However, it is far from satisfactory because as I said earlier, the outliers here may or may not be important. Furthermore, any passengers who has parch 1 and above will be considered an outlier - which does not make sense**. Take note that I included the above chunk of texts and codes just because I feel the author of the code is thoughtful and the code is neat! It may come in handy one day!"
   ]
  },
  {
   "cell_type": "markdown",
   "metadata": {
    "colab_type": "text",
    "id": "gNQ_rChqOYwr"
   },
   "source": [
    "**Code for finding outliers individually**\n",
    "\n",
    "Here, the code given below allows you find outliers individually."
   ]
  },
  {
   "cell_type": "code",
   "execution_count": 0,
   "metadata": {
    "colab": {},
    "colab_type": "code",
    "id": "X5Ib6tYlOYwr"
   },
   "outputs": [],
   "source": [
    "def outlier_treatment(datacolumn):\n",
    "    sorted(datacolumn) #must sort data first since we dealing with quartile ranges.\n",
    "    Q1, Q3 = np.nanpercentile(datacolumn,[25,75])\n",
    "    IQR = Q3-Q1\n",
    "    lower_range = Q1-(1.5*IQR)\n",
    "    upper_range = Q3+ (1.5*IQR)\n",
    "    return lower_range, upper_range\n",
    "\n",
    "\n",
    "\n",
    "print('Upper and Lower bound for Age:',outlier_treatment(train.Age), sep = '\\n')\n",
    "print('Upper and Lower bound for Fare:',outlier_treatment(train.Fare), sep = '\\n')\n",
    "print('Upper and Lower bound for Parch:',outlier_treatment(train.Parch), sep = '\\n')\n",
    "print('Upper and Lower bound for Siblings:',outlier_treatment(train.SibSp), sep = '\\n')\n",
    "\n",
    "\n",
    "\n"
   ]
  },
  {
   "cell_type": "markdown",
   "metadata": {
    "colab_type": "text",
    "id": "8xkR9V7gOYws"
   },
   "source": [
    "Here there is negative lowerbound which is ok, because we are not really interested in lowerbound outliers being 0 years old is not an outlier. This chunk of code gives you the lower bound and upper bound in which the age is considered not an outlier. One can however tweak the 1.5 accordingly if you feel your data is more/less sensitive to outliers. **Final note, in this section I did not replace or remove any supposed outliers, it is merely a tutorial and a bookkeep for me to know how to find outliers the next time I do a project!** "
   ]
  },
  {
   "cell_type": "markdown",
   "metadata": {
    "colab_type": "text",
    "id": "A6GYudrPOYwt"
   },
   "source": [
    "### 4.3 Features to be dropped or added<a id=\"drop\"></a>\n",
    "\n",
    "As a beginner, it is always difficult for me to find out which features that are important in a ML algorithm. So why not we start off with what features we can remove first? Just like doing a MCQ exam, if we are not entirely sure of the correct choice, we should do some elimination first to reduce the complexity of the problem.\n",
    "\n",
    "1. For example: Features with high collinearity can be removed.\n",
    "<br>\n",
    "\n",
    "2. Features with no significant importance to the model can be removed.\n",
    "<br>\n",
    "\n",
    "3. Features with too many categories can be removed - usually those are unique identification features - like Identity number, Name, Reference number of people. These features do not need to be included in the model. However, do note that one can harvest features from those unwanted features - Later we can see how we split features for the Name Category.\n",
    "<br>\n",
    "\n",
    "4. Refer to https://www.kaggle.com/volhaleusha/titanic-tutorial-encoding-feature-eng-81-8#Part-4:-Explore-Target-Variable for detailed information.\n",
    "<br>\n",
    "\n",
    "5. Lastly, according to point 3, we can really \"Feature Engineer\" new features to make our data more useful."
   ]
  },
  {
   "cell_type": "markdown",
   "metadata": {
    "colab_type": "text",
    "id": "DZjEQK-sOYwt"
   },
   "source": [
    "It is easy to spot some obvious features to drop, especially features that are uniquely and randomly assigned to each passenger. We see that PassengerId, Name and Ticket has an extremely large amount of unique values.  "
   ]
  },
  {
   "cell_type": "code",
   "execution_count": 0,
   "metadata": {
    "colab": {},
    "colab_type": "code",
    "id": "zBhuFJRCOYwu"
   },
   "outputs": [],
   "source": [
    "# check how many unique values each feature has:\n",
    "\n",
    "\n",
    "print('Number of Unique values for Name is', len(train.Name.unique()))\n",
    "print('Number of Unique values for PassengerID is', len(train.PassengerId.unique()))\n",
    "print('Number of Unique values for Fare is', len(train.Fare.unique()))\n",
    "print('Number of Unique values for Survived is', len(train.Survived.unique()))\n",
    "print('Number of Unique values for Pclass is', len(train.Pclass.unique()))\n",
    "print('Number of Unique values for Parch is', len(train.Parch.unique()))\n",
    "print('Number of Unique values for SibSp is', len(train.SibSp.unique()))\n",
    "print('Number of Unique values for Embarked is', len(train.Embarked.unique()))\n",
    "print('Number of Unique values for Cabin is', len(train.Cabin.unique()))\n",
    "print('Number of Unique values for Sex is', len(train.Sex.unique()))\n",
    "print('Number of Unique values for Ticket is', len(train.Ticket.unique()))"
   ]
  },
  {
   "cell_type": "markdown",
   "metadata": {
    "colab_type": "text",
    "id": "TW0avoTIOYwv"
   },
   "source": [
    "There is no reason to believe that PassengerId and Ticket number have any valuable information that can impact the survival of the passengers. There might be some information to extract like maybe some ticket numbers have certain pattern that points to a certain class of passengers - that might be potentially related to survival rate."
   ]
  },
  {
   "cell_type": "markdown",
   "metadata": {
    "colab_type": "text",
    "id": "_av-orKIOYwv"
   },
   "source": [
    "### 4.3.1 Passenger ID <a id=\"id\"></a>\n",
    "\n",
    "Passenger ID is mostly randomized from the looks of it - and we **assume (it is an assumption because you might be wrong, for all you know, we can have a distribution that points to all the passengers who survived are the first half of the ID)** it has no significance on the prediction. Let us drop the passengerID column for both the training set and the test set."
   ]
  },
  {
   "cell_type": "code",
   "execution_count": 0,
   "metadata": {
    "colab": {},
    "colab_type": "code",
    "id": "Wyu7BFjZOYwx"
   },
   "outputs": [],
   "source": [
    "train.drop([\"PassengerId\"],inplace=True,axis=1)\n",
    "Test.drop([\"PassengerId\"],inplace=True,axis=1)"
   ]
  },
  {
   "cell_type": "markdown",
   "metadata": {
    "colab_type": "text",
    "id": "d-2g1wuXOYwy"
   },
   "source": [
    "### 4.3.2 Ticket <a id=\"ticket\"></a>\n",
    "\n",
    "Ticket is slightly more interesting. We can indeed data mine out some interesting relationship from Ticket number. But I think it is best to drop it. For details refer to the link attached in 4.3. So below is an attempt to find some relationship between Pclass and Ticket number, and although one could see that there might be some relationship between them, it is not very strong and I decided to drop this variable as well."
   ]
  },
  {
   "cell_type": "code",
   "execution_count": 0,
   "metadata": {
    "colab": {},
    "colab_type": "code",
    "id": "D-rqKj1wOYwz"
   },
   "outputs": [],
   "source": [
    "groupby_pclass_ticket= train.groupby([\"Pclass\",\"Ticket\"])\n",
    "#for key, item in groupby_pclass_ticket:\n",
    "    #groupby_pclass_ticket.get_group(key)\n",
    "    \n",
    "#groupby_pclass_ticket.describe(include = 'all')    "
   ]
  },
  {
   "cell_type": "code",
   "execution_count": 0,
   "metadata": {
    "colab": {},
    "colab_type": "code",
    "id": "e4OvnBqZOYw3"
   },
   "outputs": [],
   "source": [
    "train.drop([\"Ticket\"],inplace=True,axis=1)\n",
    "Test.drop([\"Ticket\"],inplace=True,axis=1)"
   ]
  },
  {
   "cell_type": "markdown",
   "metadata": {
    "colab_type": "text",
    "id": "lWPcUrZ3OYw5"
   },
   "source": [
    "### 4.3.3 Names  <a id=\"name\"></a>\n",
    "\n",
    "Usually, names are just names. But as a good data scientist, it is your responsibility to look further and carefully if this name has more information than usual. In this Titanic case, it has a title in front of the name, like Mr, Mrs etc. And that may give us an idea to extract out everyone's title from their names, so as to form a new feature - Title. Like we see some people are called Colonel, does that mean that they are from the Navy/(or the ship's captain) and hence they may have a higher chance of dying (by protecting the civilians/passengers first?)\n",
    "\n",
    "<br>\n",
    "\n",
    "Furthermore, we may also reduce the variance during our imputation of age just by knowing that certain titles correspond to a specific age group (Like Master John refers to teenagers at the age of maybe 14-16). Well to be honest, if I have not read numerous other people's kernels, I would probably straight away drop this Name feature from my analysis without thinking - because it seems absurd that name has anything to do with survival (as if your name could alter your fate). However, little did I realise that back in the early 1900s, names were appended to their title - and different titles represent different social classes in the society, therefore **possibly** impacting one's survival. So my assumption is that one's title will have an impact in one's survival rate - and we shall find out.\n",
    "\n",
    "**Warning! Regardless whether this kernel is focusing on the Logistic Regression Model or not, we try our best to avoid high collinearity between independent variables, so while we may find very useful new features extracted from some variables, it is important to keep in mind that there may be multicollinearity - which is not desired (although there are times that some multicollinearity is fine).**"
   ]
  },
  {
   "cell_type": "code",
   "execution_count": 0,
   "metadata": {
    "colab": {},
    "colab_type": "code",
    "id": "LkWoj_HsOYw5"
   },
   "outputs": [],
   "source": [
    "train.Name.head(20)"
   ]
  },
  {
   "cell_type": "code",
   "execution_count": 0,
   "metadata": {
    "colab": {},
    "colab_type": "code",
    "id": "HC5x4uTROYw6"
   },
   "outputs": [],
   "source": [
    "# Create function that take name and separates it into title, family name and deletes all puntuation from name column:\n",
    "def name_sep(data):\n",
    "    families=[]\n",
    "    titles = []\n",
    "    new_name = []\n",
    "    #for each row in dataset:\n",
    "    for i in range(len(data)):\n",
    "        name = data.iloc[i]\n",
    "        # extract name inside brakets into name_bracket:\n",
    "        if '(' in name:\n",
    "            name_no_bracket = name.split('(')[0] \n",
    "        else:\n",
    "            name_no_bracket = name\n",
    "            \n",
    "        family = name_no_bracket.split(\",\")[0]\n",
    "        title = name_no_bracket.split(\",\")[1].strip().split(\" \")[0]\n",
    "        \n",
    "        #remove punctuations accept brackets:\n",
    "        for c in string.punctuation:\n",
    "            name = name.replace(c,\"\").strip()\n",
    "            family = family.replace(c,\"\").strip()\n",
    "            title = title.replace(c,\"\").strip()\n",
    "            \n",
    "        families.append(family)\n",
    "        titles.append(title)\n",
    "        new_name.append(name)\n",
    "            \n",
    "    return families, titles, new_name "
   ]
  },
  {
   "cell_type": "markdown",
   "metadata": {
    "colab_type": "text",
    "id": "x8DowXvMOYw8"
   },
   "source": [
    "Now we have a function (thanks to volhaleusha's amazing kernels and his strong codes on this - you can always do it the hardcoding way, but sometimes I just find such elegant codes). So now we have separated the **Name feature into 3 different features - we may not use all of them!** The 3 different features are Surname, Title and Newname."
   ]
  },
  {
   "cell_type": "markdown",
   "metadata": {
    "colab_type": "text",
    "id": "9qdtVBRcOYw8"
   },
   "source": [
    "#### **Creates Title as a new feature**"
   ]
  },
  {
   "cell_type": "code",
   "execution_count": 0,
   "metadata": {
    "colab": {},
    "colab_type": "code",
    "id": "CaEisYDyOYw8"
   },
   "outputs": [],
   "source": [
    "train['Surname'], train['Title'], train['Newname']  = name_sep(train.Name)\n",
    "Test['Surname'], Test['Title'], Test['Newname'] = name_sep(Test.Name)\n",
    "train.head()\n",
    "train.Title.value_counts()"
   ]
  },
  {
   "cell_type": "markdown",
   "metadata": {
    "colab_type": "text",
    "id": "lwiEmvblOYw9"
   },
   "source": [
    "We see that there are quite a few titles with only 1 of them in the category. I have a strong feeling that I can lump some of them into one category, as shown below, 'Dr','Rev','the','Jonkheer','Lady','Sir', 'Don' are actually titles for nobles - so I should group all these noble titles into a new title called \"Nobles\".\n",
    "\n",
    "One may be confused with the title names like Mlle, Mme, Don etc:\n",
    "\n",
    "- Dr: Doctors - Should be a Noble too .\n",
    "\n",
    "<br>\n",
    "\n",
    "- Rev: Reverend - Consider him a Noble.\n",
    "\n",
    "<br>\n",
    "\n",
    "-. Major: Military Rank \n",
    "\n",
    "<br>\n",
    "\n",
    "- Col: Military Rank\n",
    "\n",
    "<br>\n",
    "\n",
    "- Mlle: Mlle means ‘Mademoiselle’ which is the honorific used to describe someone who would be called ‘Miss’ in France - However upon careful scrutiny, one of the Mlle is called a Mrs. But let's not be too pedantic about this. Just replace it with Miss.\n",
    "\n",
    "<br>\n",
    "\n",
    "- Capt: Military Rank - Also probably the Captain of the Titanic.\n",
    "\n",
    "<br>\n",
    "\n",
    "- Lady: Female Nobles \n",
    "\n",
    "<br>\n",
    "\n",
    "- Don: Male Nobles\n",
    "\n",
    "<br>\n",
    "\n",
    "- Jonkheer: Male Nobles\n",
    "\n",
    "<br>\n",
    "\n",
    "- Ms: Is just Miss, replace it with Miss later. \n",
    "\n",
    "<br>\n",
    "\n",
    "- The Countess: Female Noble\n",
    "\n",
    "<br>\n",
    "\n",
    "- Mme: Mme means ‘Madame’ which is the honorific used to describe someone who would be called ‘Mrs’ in France. Replace it with Mrs.\n",
    "\n",
    "<br>\n",
    "\n",
    "- Sir: Male Nobles\n",
    "\n",
    "\n",
    "<br>\n",
    "\n",
    "So we shall add 2 more new titles: Noble, Navy and replace Ms and Mlle with Miss, replace Mme with Mrs."
   ]
  },
  {
   "cell_type": "code",
   "execution_count": 0,
   "metadata": {
    "colab": {},
    "colab_type": "code",
    "id": "yRU-fsnCOYw-"
   },
   "outputs": [],
   "source": [
    "train['Title'] = train['Title'].replace(['Ms', 'Mlle'],'Miss')\n",
    "train['Title'] = train['Title'].replace(['Mme'],'Mrs')\n",
    "train['Title'] = train['Title'].replace(['Dr','Rev','the','Jonkheer','Lady','Sir', 'Don'],'Nobles')\n",
    "train['Title'] = train['Title'].replace(['Major','Col', 'Capt'],'Navy')\n",
    "train.Title.value_counts()"
   ]
  },
  {
   "cell_type": "markdown",
   "metadata": {
    "colab_type": "text",
    "id": "lqa9VCCYOYw_"
   },
   "source": [
    "We do a simple bar plot to check title vs survival rate. But notice that Nobles somehow have a low survival rate - which is against my intuition. So I proceeded to hypothesize that probably there are a lot of males in Nobles and hence the low survival rate. "
   ]
  },
  {
   "cell_type": "code",
   "execution_count": 0,
   "metadata": {
    "colab": {},
    "colab_type": "code",
    "id": "y3KE4mCxOYxA",
    "scrolled": true
   },
   "outputs": [],
   "source": [
    "sns.barplot(x = 'Title', y = 'Survived', data = train)"
   ]
  },
  {
   "cell_type": "code",
   "execution_count": 0,
   "metadata": {
    "colab": {},
    "colab_type": "code",
    "id": "nx8Q7OT5OYxB"
   },
   "outputs": [],
   "source": [
    "nobles_survival = train[train.Title == \"Nobles\"].groupby(['Sex']).Survived.value_counts()\n",
    "nobles_survival"
   ]
  },
  {
   "cell_type": "markdown",
   "metadata": {
    "colab_type": "text",
    "id": "8fpNcNdvOYxD"
   },
   "source": [
    "Indeed, there are only 3 females out of the 18 nobles and all of them survived! But that means there are 15 males and unfortunately, 12 of them died, which explains why our Nobles have so many deaths! Seems like even as a noble male, you do not get the priority pass to surviving on titanic."
   ]
  },
  {
   "cell_type": "markdown",
   "metadata": {
    "colab_type": "text",
    "id": "hlPg2fNAOYxD"
   },
   "source": [
    "#### **Do the same for test data**"
   ]
  },
  {
   "cell_type": "code",
   "execution_count": 0,
   "metadata": {
    "colab": {},
    "colab_type": "code",
    "id": "6mhwMYZUOYxE"
   },
   "outputs": [],
   "source": [
    "Test.Title.value_counts()\n",
    "\n",
    "Test['Title'] = Test['Title'].replace(['Ms','Dona'],'Miss')\n",
    "Test['Title'] = Test['Title'].replace(['Dr','Rev'],'Nobles')\n",
    "Test['Title'] = Test['Title'].replace(['Col'],'Navy')\n",
    "Test.Title.value_counts()"
   ]
  },
  {
   "cell_type": "markdown",
   "metadata": {
    "colab_type": "text",
    "id": "F8xh2L5ROYxE"
   },
   "source": [
    "### 4.3.4) Cabin <a id=\"cab\"></a>\n",
    "\n"
   ]
  },
  {
   "cell_type": "code",
   "execution_count": 0,
   "metadata": {
    "colab": {},
    "colab_type": "code",
    "id": "9t7NWsRaOYxF"
   },
   "outputs": [],
   "source": [
    "print('Missing values in Train set:', train.Cabin.isnull().sum())\n",
    "print('Missing values in Test set:', Test.Cabin.isnull().sum())"
   ]
  },
  {
   "cell_type": "markdown",
   "metadata": {
    "colab_type": "text",
    "id": "FKkPVGcYOYxH"
   },
   "source": [
    "Cabin has way too many missing values, it is not an easy task to imputate them."
   ]
  },
  {
   "cell_type": "code",
   "execution_count": 0,
   "metadata": {
    "colab": {},
    "colab_type": "code",
    "id": "cX8GiWbNOYxI",
    "scrolled": true
   },
   "outputs": [],
   "source": [
    "train.Cabin.value_counts()"
   ]
  },
  {
   "cell_type": "code",
   "execution_count": 0,
   "metadata": {
    "colab": {},
    "colab_type": "code",
    "id": "57xrr9vIOYxK"
   },
   "outputs": [],
   "source": [
    "def cabin_sep(data_cabin):\n",
    "    cabin_type = []\n",
    "\n",
    "    for i in range(len(data_cabin)):\n",
    "\n",
    "            if data_cabin.isnull()[i] == True: \n",
    "                cabin_type.append('M') #missing cabin = M \n",
    "            else:    \n",
    "                cabin = data_cabin[i]\n",
    "                cabin_type.append(cabin[:1]) \n",
    "            \n",
    "    return cabin_type\n",
    "\n",
    "# apply cabin sep on test and train set:\n",
    "#train['cabin_type'] = cabin_sep(train.Cabin)\n",
    "#Test['cabin_type'] = cabin_sep(Test.Cabin)\n",
    "\n",
    "\n",
    "#train.head()"
   ]
  },
  {
   "cell_type": "code",
   "execution_count": 0,
   "metadata": {
    "colab": {},
    "colab_type": "code",
    "id": "XHFtpjBXOYxL"
   },
   "outputs": [],
   "source": [
    "train['Cabin'] = train['Cabin'].fillna('M').astype(str).apply(lambda cabin: cabin[0])"
   ]
  },
  {
   "cell_type": "markdown",
   "metadata": {
    "colab_type": "text",
    "id": "d4D8YbxNOYxN"
   },
   "source": [
    "There is one person on the boat deck in the T cabin and he is a 1st class passenger. T cabin passenger has the closest resemblance to A deck passengers, so he is grouped in A deck."
   ]
  },
  {
   "cell_type": "code",
   "execution_count": 0,
   "metadata": {
    "colab": {},
    "colab_type": "code",
    "id": "DGVrlmM5OYxO"
   },
   "outputs": [],
   "source": [
    "idx = train[train['Cabin'] == 'T'].index\n",
    "train.loc[idx, 'Cabin'] = 'A'\n",
    "train.Cabin.value_counts()\n",
    "Test['Cabin'] = Test['Cabin'].fillna('M').astype(str).apply(lambda cabin: cabin[0])\n",
    "Test.Cabin.value_counts()"
   ]
  },
  {
   "cell_type": "markdown",
   "metadata": {
    "colab_type": "text",
    "id": "ow2kbO1COYxP"
   },
   "source": [
    "### 4.4) Binning? <a id=\"bin\"></a>\n",
    "\n",
    "Refer to this: \n",
    "\n",
    "https://stats.stackexchange.com/questions/68834/what-is-the-benefit-of-breaking-up-a-continuous-predictor-variable\n",
    "\n",
    "http://biostat.mc.vanderbilt.edu/wiki/Main/CatContinuous\n",
    "\n",
    "**For now I will not use Binning since I am not sure whether binning is good since binning can lose quite a lot of information and introduce unnecessary arbitrariness into the model.**"
   ]
  },
  {
   "cell_type": "markdown",
   "metadata": {
    "colab_type": "text",
    "id": "gH8JIF6ROYxP"
   },
   "source": [
    "### 4.5) Encoding <a id=\"enc\"></a>\n",
    "\n",
    "We will convert categorical data to dummy variables for mathematical analysis. There are multiple ways to encode categorical variables; we will use the sklearn and pandas functions. In this step, we will also define our x (independent/features/explanatory/predictor/etc.) and y (dependent/target/outcome/response/etc.) variables for data modeling.\n",
    "\n",
    "Encoding should be done after data cleaning, after all, it makes sense to fill in missing values first before encoding.\n",
    "\n",
    "<br>\n",
    "\n",
    "Here is a good link: [Here](https://www.kaggle.com/gunesevitan/advanced-feature-engineering-tutorial-with-titanic/notebook) is a good kernel that I follow: But since he binned age and fare, he needs to encode them because age and fare became categorical. In my kernel, I did not use Binning and hence age and fare are still numerical."
   ]
  },
  {
   "cell_type": "markdown",
   "metadata": {
    "colab_type": "text",
    "id": "7KpiQ0lOOYxR"
   },
   "source": [
    "Here is a brief overview of what encoding does, and the intuition behind it. It is a very basic idea and there is no hard and fast rule which encoding method to use for every question. But in general, that is a rules of thumb to follow: But always bear in mind not to employ any method blindly.\n",
    "\n",
    "<br>\n",
    "\n",
    "1. Always remember, you have to decide what encoding method to use before you run the model. For example, before you use random forest algorithm, you have to process the data into something the computer can understand. Here we introduce 2 ways of encoding.\n",
    "<br>\n",
    "\n",
    "2. **Label Encoding:** For example, in our model, there is this feature called Embarked, represented by \"S\", \"C\", \"Q\". Now the computer only likes to work with numbers, and as a result we need to convert S, C, Q into numbers. Like labelling S = 0, C = 1, Q = 2. However, Label Encoding has a big caveat, whenever you use this encoding method, the Embarked category now has a inherent ordered relationship; Signifying that C = 1 has more weight than S = 0, and Q = 2 has more weight than C = 1 and S = 0. \n",
    "\n",
    "   The problem with this is when an algorithm (for eg, a logistic classification model makes USE OF THE WEIGHT in their calculation, and this is disastrous). \n",
    "\n",
    "   The algorithm learns: Prediction_of_survival_rate = weight_of_city * city + weight_of_gender * gender + ...... + bias.\n",
    "   Now if you want to predict person A's survival rate based on the label encoding of city, you will have a problem. \n",
    "   If person A comes from Southampton, and person B comes from Queenstown, both are the same gender and let weight of city = 10.\n",
    "   Then the Prediction_of_survival_rate for person A = 10 * 0 + $\\epsilon$ = $\\epsilon$ and the Prediction_of_survival_rate for person B = 10 * 2 + $\\epsilon$  = 20 + $\\epsilon$ where $\\epsilon$ is a positive number.\n",
    "   So naturally, our model is gonna say that person B has a much higher survival rate than person A. I believe one can already get a feel of what is going wrong here!\n",
    "\n",
    "   However, if our algorithm is some decision tree model, **IT MAY BE fine TO STAY PUT AS LABEL ENCODER**, however, you got to be very sure your algorithm DO not use any formulas like the above to calculate output.\n",
    "\n",
    "<br>\n",
    "\n",
    "Acceptable example:\n",
    "\n",
    "if City == 0 (aka = S) then\n",
    "  do this decision\n",
    "else if City == 1 (aka = C) then\n",
    "  do that decision\n",
    "else if City == 2(aka = Q) then\n",
    "  do last decision\n",
    "  \n",
    "  <br>\n",
    "  \n",
    "In the above example, we see that it does not matter what the city is encoded as, as it does not affect the end result.\n",
    "<br>\n",
    "\n",
    "3. **One Hot Encoding**\n",
    "\n",
    "![encoder](https://raw.githubusercontent.com/ghnreigns/imagesss/master/123.jpg)\n",
    "\n",
    "Here I took the image from https://medium.com/@michaeldelsole/what-is-one-hot-encoding-and-how-to-do-it-f0ae272f1179 and idea from https://forums.fast.ai/t/to-label-encode-or-one-hot-encode/6057/4 .\n",
    "\n",
    "Initially, apple is labeled 1, chicken labeled as 2, broccoli labeled as 3. The idea now is that under the food name column, there are 3 categories, namely, apple, chicken and broccoli. Now for each category, we create an additional binary column for each category.\n",
    "\n",
    "<br>\n",
    "\n",
    "So back to our Titanic example, the column name (feature) is Embarked, with 3 categories inside, S, C and Q. Now with one hot encoding, the distance for S, C and Q are equal. \n",
    "\n",
    "<br>\n",
    "\n",
    "S: [1,0,0]\n",
    "\n",
    "C: [0,1,0]\n",
    "\n",
    "Q: [0,0,1]\n",
    "\n",
    "So if we treat each of the above as a column vector, the distance between each pair of cities/Embarked is $\\sqrt{2}$. Now a little confusing le, could we replicate the above example, also what is weight?\n",
    "<br>\n",
    "\n",
    "\n",
    "4. There is some caveats for one hot encoding. One is for the Sklearn package in python, Sklearn’s one hot encoder does not actually know how to convert categories to numbers, it only knows how to convert numbers to binary. We have to use the labelencoder first to convert categories to numbers.\n",
    "\n",
    "    Also recognize that while one hot encoding reduces noise in your data that would have otherwise been cause by incorrect ordinal relationships, it also greatly increases the dimensionality of your data. High dimensionality has its own set of problems in machine learning, such as the curse of dimensionality. For example, if we were to think that ticket ID is important for our study, then there are literally 891 categories in the ticket ID feature. That would mean 891 new attributes/features after one hot encoding.\n",
    "<br>\n",
    "\n",
    "5. A general rule of thumb for Label Encoder vs One Hot encoder is as follows:\n",
    "\n",
    "    i) If the categorical features are ordinal ones, use label encoder. For example, if I were to bin the Fare feature into category features such as: Cheap price, Normal price, Expensive price. Then it does make sense to say cheap = 0, normal = 1 and expensive = 2. However do note that LabelEncoder does not know what does 'cheap', 'normal' and 'expensive' mean. So it just assigns labels in order of appearance.\n",
    "\n",
    "    ii) If non-ordinal relation, use one hot encoder.\n"
   ]
  },
  {
   "cell_type": "code",
   "execution_count": 0,
   "metadata": {
    "colab": {},
    "colab_type": "code",
    "id": "w3oiPu_xOYxR"
   },
   "outputs": [],
   "source": [
    "train_categorical_features = ['Pclass', 'Sex','Title','Cabin', 'Embarked']\n",
    "\n",
    "# No need to use sklearn's encoders\n",
    "# pandas has a pandas.get_dummies() function that takes in a series\n",
    "#     and returns a HOT encoded dataframe of that series\n",
    "#     use the add_prefix() method of dataframe to add the feature name in front of the category name\n",
    "#     then join the dataframe sideways (similar to pd.concat([train, dummies], axis=1))\n",
    "for feature in train_categorical_features:\n",
    "    dummies = pd.get_dummies(train[feature]).add_prefix(feature + '_')\n",
    "    train = train.join(dummies)\n",
    "    \n",
    "train"
   ]
  },
  {
   "cell_type": "code",
   "execution_count": 89,
   "metadata": {
    "colab": {},
    "colab_type": "code",
    "id": "xAdh-PBSOYxS"
   },
   "outputs": [
    {
     "ename": "KeyError",
     "evalue": "'Title'",
     "output_type": "error",
     "traceback": [
      "\u001b[1;31m---------------------------------------------------------------------------\u001b[0m",
      "\u001b[1;31mKeyError\u001b[0m                                  Traceback (most recent call last)",
      "\u001b[1;32m~\\AppData\\Local\\Continuum\\anaconda3\\lib\\site-packages\\pandas\\core\\indexes\\base.py\u001b[0m in \u001b[0;36mget_loc\u001b[1;34m(self, key, method, tolerance)\u001b[0m\n\u001b[0;32m   2656\u001b[0m             \u001b[1;32mtry\u001b[0m\u001b[1;33m:\u001b[0m\u001b[1;33m\u001b[0m\u001b[1;33m\u001b[0m\u001b[0m\n\u001b[1;32m-> 2657\u001b[1;33m                 \u001b[1;32mreturn\u001b[0m \u001b[0mself\u001b[0m\u001b[1;33m.\u001b[0m\u001b[0m_engine\u001b[0m\u001b[1;33m.\u001b[0m\u001b[0mget_loc\u001b[0m\u001b[1;33m(\u001b[0m\u001b[0mkey\u001b[0m\u001b[1;33m)\u001b[0m\u001b[1;33m\u001b[0m\u001b[1;33m\u001b[0m\u001b[0m\n\u001b[0m\u001b[0;32m   2658\u001b[0m             \u001b[1;32mexcept\u001b[0m \u001b[0mKeyError\u001b[0m\u001b[1;33m:\u001b[0m\u001b[1;33m\u001b[0m\u001b[1;33m\u001b[0m\u001b[0m\n",
      "\u001b[1;32mpandas/_libs/index.pyx\u001b[0m in \u001b[0;36mpandas._libs.index.IndexEngine.get_loc\u001b[1;34m()\u001b[0m\n",
      "\u001b[1;32mpandas/_libs/index.pyx\u001b[0m in \u001b[0;36mpandas._libs.index.IndexEngine.get_loc\u001b[1;34m()\u001b[0m\n",
      "\u001b[1;32mpandas/_libs/hashtable_class_helper.pxi\u001b[0m in \u001b[0;36mpandas._libs.hashtable.PyObjectHashTable.get_item\u001b[1;34m()\u001b[0m\n",
      "\u001b[1;32mpandas/_libs/hashtable_class_helper.pxi\u001b[0m in \u001b[0;36mpandas._libs.hashtable.PyObjectHashTable.get_item\u001b[1;34m()\u001b[0m\n",
      "\u001b[1;31mKeyError\u001b[0m: 'Title'",
      "\nDuring handling of the above exception, another exception occurred:\n",
      "\u001b[1;31mKeyError\u001b[0m                                  Traceback (most recent call last)",
      "\u001b[1;32m<ipython-input-89-11f8e7f866ea>\u001b[0m in \u001b[0;36m<module>\u001b[1;34m\u001b[0m\n\u001b[0;32m      7\u001b[0m \u001b[1;31m#     then join the dataframe sideways (similar to pd.concat([train, dummies], axis=1))\u001b[0m\u001b[1;33m\u001b[0m\u001b[1;33m\u001b[0m\u001b[1;33m\u001b[0m\u001b[0m\n\u001b[0;32m      8\u001b[0m \u001b[1;32mfor\u001b[0m \u001b[0mfeature\u001b[0m \u001b[1;32min\u001b[0m \u001b[0mtest_categorical_features\u001b[0m\u001b[1;33m:\u001b[0m\u001b[1;33m\u001b[0m\u001b[1;33m\u001b[0m\u001b[0m\n\u001b[1;32m----> 9\u001b[1;33m     \u001b[0mdummies\u001b[0m \u001b[1;33m=\u001b[0m \u001b[0mpd\u001b[0m\u001b[1;33m.\u001b[0m\u001b[0mget_dummies\u001b[0m\u001b[1;33m(\u001b[0m\u001b[0mTest\u001b[0m\u001b[1;33m[\u001b[0m\u001b[0mfeature\u001b[0m\u001b[1;33m]\u001b[0m\u001b[1;33m)\u001b[0m\u001b[1;33m.\u001b[0m\u001b[0madd_prefix\u001b[0m\u001b[1;33m(\u001b[0m\u001b[0mfeature\u001b[0m \u001b[1;33m+\u001b[0m \u001b[1;34m'_'\u001b[0m\u001b[1;33m)\u001b[0m\u001b[1;33m\u001b[0m\u001b[1;33m\u001b[0m\u001b[0m\n\u001b[0m\u001b[0;32m     10\u001b[0m     \u001b[0mTest\u001b[0m \u001b[1;33m=\u001b[0m \u001b[0mTest\u001b[0m\u001b[1;33m.\u001b[0m\u001b[0mjoin\u001b[0m\u001b[1;33m(\u001b[0m\u001b[0mdummies\u001b[0m\u001b[1;33m)\u001b[0m\u001b[1;33m\u001b[0m\u001b[1;33m\u001b[0m\u001b[0m\n\u001b[0;32m     11\u001b[0m \u001b[1;33m\u001b[0m\u001b[0m\n",
      "\u001b[1;32m~\\AppData\\Local\\Continuum\\anaconda3\\lib\\site-packages\\pandas\\core\\frame.py\u001b[0m in \u001b[0;36m__getitem__\u001b[1;34m(self, key)\u001b[0m\n\u001b[0;32m   2925\u001b[0m             \u001b[1;32mif\u001b[0m \u001b[0mself\u001b[0m\u001b[1;33m.\u001b[0m\u001b[0mcolumns\u001b[0m\u001b[1;33m.\u001b[0m\u001b[0mnlevels\u001b[0m \u001b[1;33m>\u001b[0m \u001b[1;36m1\u001b[0m\u001b[1;33m:\u001b[0m\u001b[1;33m\u001b[0m\u001b[1;33m\u001b[0m\u001b[0m\n\u001b[0;32m   2926\u001b[0m                 \u001b[1;32mreturn\u001b[0m \u001b[0mself\u001b[0m\u001b[1;33m.\u001b[0m\u001b[0m_getitem_multilevel\u001b[0m\u001b[1;33m(\u001b[0m\u001b[0mkey\u001b[0m\u001b[1;33m)\u001b[0m\u001b[1;33m\u001b[0m\u001b[1;33m\u001b[0m\u001b[0m\n\u001b[1;32m-> 2927\u001b[1;33m             \u001b[0mindexer\u001b[0m \u001b[1;33m=\u001b[0m \u001b[0mself\u001b[0m\u001b[1;33m.\u001b[0m\u001b[0mcolumns\u001b[0m\u001b[1;33m.\u001b[0m\u001b[0mget_loc\u001b[0m\u001b[1;33m(\u001b[0m\u001b[0mkey\u001b[0m\u001b[1;33m)\u001b[0m\u001b[1;33m\u001b[0m\u001b[1;33m\u001b[0m\u001b[0m\n\u001b[0m\u001b[0;32m   2928\u001b[0m             \u001b[1;32mif\u001b[0m \u001b[0mis_integer\u001b[0m\u001b[1;33m(\u001b[0m\u001b[0mindexer\u001b[0m\u001b[1;33m)\u001b[0m\u001b[1;33m:\u001b[0m\u001b[1;33m\u001b[0m\u001b[1;33m\u001b[0m\u001b[0m\n\u001b[0;32m   2929\u001b[0m                 \u001b[0mindexer\u001b[0m \u001b[1;33m=\u001b[0m \u001b[1;33m[\u001b[0m\u001b[0mindexer\u001b[0m\u001b[1;33m]\u001b[0m\u001b[1;33m\u001b[0m\u001b[1;33m\u001b[0m\u001b[0m\n",
      "\u001b[1;32m~\\AppData\\Local\\Continuum\\anaconda3\\lib\\site-packages\\pandas\\core\\indexes\\base.py\u001b[0m in \u001b[0;36mget_loc\u001b[1;34m(self, key, method, tolerance)\u001b[0m\n\u001b[0;32m   2657\u001b[0m                 \u001b[1;32mreturn\u001b[0m \u001b[0mself\u001b[0m\u001b[1;33m.\u001b[0m\u001b[0m_engine\u001b[0m\u001b[1;33m.\u001b[0m\u001b[0mget_loc\u001b[0m\u001b[1;33m(\u001b[0m\u001b[0mkey\u001b[0m\u001b[1;33m)\u001b[0m\u001b[1;33m\u001b[0m\u001b[1;33m\u001b[0m\u001b[0m\n\u001b[0;32m   2658\u001b[0m             \u001b[1;32mexcept\u001b[0m \u001b[0mKeyError\u001b[0m\u001b[1;33m:\u001b[0m\u001b[1;33m\u001b[0m\u001b[1;33m\u001b[0m\u001b[0m\n\u001b[1;32m-> 2659\u001b[1;33m                 \u001b[1;32mreturn\u001b[0m \u001b[0mself\u001b[0m\u001b[1;33m.\u001b[0m\u001b[0m_engine\u001b[0m\u001b[1;33m.\u001b[0m\u001b[0mget_loc\u001b[0m\u001b[1;33m(\u001b[0m\u001b[0mself\u001b[0m\u001b[1;33m.\u001b[0m\u001b[0m_maybe_cast_indexer\u001b[0m\u001b[1;33m(\u001b[0m\u001b[0mkey\u001b[0m\u001b[1;33m)\u001b[0m\u001b[1;33m)\u001b[0m\u001b[1;33m\u001b[0m\u001b[1;33m\u001b[0m\u001b[0m\n\u001b[0m\u001b[0;32m   2660\u001b[0m         \u001b[0mindexer\u001b[0m \u001b[1;33m=\u001b[0m \u001b[0mself\u001b[0m\u001b[1;33m.\u001b[0m\u001b[0mget_indexer\u001b[0m\u001b[1;33m(\u001b[0m\u001b[1;33m[\u001b[0m\u001b[0mkey\u001b[0m\u001b[1;33m]\u001b[0m\u001b[1;33m,\u001b[0m \u001b[0mmethod\u001b[0m\u001b[1;33m=\u001b[0m\u001b[0mmethod\u001b[0m\u001b[1;33m,\u001b[0m \u001b[0mtolerance\u001b[0m\u001b[1;33m=\u001b[0m\u001b[0mtolerance\u001b[0m\u001b[1;33m)\u001b[0m\u001b[1;33m\u001b[0m\u001b[1;33m\u001b[0m\u001b[0m\n\u001b[0;32m   2661\u001b[0m         \u001b[1;32mif\u001b[0m \u001b[0mindexer\u001b[0m\u001b[1;33m.\u001b[0m\u001b[0mndim\u001b[0m \u001b[1;33m>\u001b[0m \u001b[1;36m1\u001b[0m \u001b[1;32mor\u001b[0m \u001b[0mindexer\u001b[0m\u001b[1;33m.\u001b[0m\u001b[0msize\u001b[0m \u001b[1;33m>\u001b[0m \u001b[1;36m1\u001b[0m\u001b[1;33m:\u001b[0m\u001b[1;33m\u001b[0m\u001b[1;33m\u001b[0m\u001b[0m\n",
      "\u001b[1;32mpandas/_libs/index.pyx\u001b[0m in \u001b[0;36mpandas._libs.index.IndexEngine.get_loc\u001b[1;34m()\u001b[0m\n",
      "\u001b[1;32mpandas/_libs/index.pyx\u001b[0m in \u001b[0;36mpandas._libs.index.IndexEngine.get_loc\u001b[1;34m()\u001b[0m\n",
      "\u001b[1;32mpandas/_libs/hashtable_class_helper.pxi\u001b[0m in \u001b[0;36mpandas._libs.hashtable.PyObjectHashTable.get_item\u001b[1;34m()\u001b[0m\n",
      "\u001b[1;32mpandas/_libs/hashtable_class_helper.pxi\u001b[0m in \u001b[0;36mpandas._libs.hashtable.PyObjectHashTable.get_item\u001b[1;34m()\u001b[0m\n",
      "\u001b[1;31mKeyError\u001b[0m: 'Title'"
     ]
    }
   ],
   "source": [
    "test_categorical_features = ['Pclass', 'Sex','Title', 'Cabin', 'Embarked']\n",
    "\n",
    "# No need to use sklearn's encoders\n",
    "# pandas has a pandas.get_dummies() function that takes in a series\n",
    "#     and returns a HOT encoded dataframe of that series\n",
    "#     use the add_prefix() method of dataframe to add the feature name in front of the category name\n",
    "#     then join the dataframe sideways (similar to pd.concat([train, dummies], axis=1))\n",
    "for feature in test_categorical_features:\n",
    "    dummies = pd.get_dummies(Test[feature]).add_prefix(feature + '_')\n",
    "    Test = Test.join(dummies)\n",
    "    \n",
    "Test"
   ]
  },
  {
   "cell_type": "markdown",
   "metadata": {
    "colab_type": "text",
    "id": "KP1enSIxOYxT"
   },
   "source": [
    "## 5) Machine Learning Modelling <a id=\"model\"></a>"
   ]
  },
  {
   "cell_type": "code",
   "execution_count": 87,
   "metadata": {
    "colab": {},
    "colab_type": "code",
    "id": "oG2Xu9gZOYxT"
   },
   "outputs": [],
   "source": [
    "#importing from sklearn\n",
    "from sklearn.pipeline import make_pipeline\n",
    "from sklearn.ensemble import RandomForestClassifier\n",
    "from sklearn.feature_selection import SelectKBest\n",
    "from sklearn.model_selection import StratifiedKFold\n",
    "from sklearn.model_selection import learning_curve,GridSearchCV\n",
    "from sklearn.ensemble.gradient_boosting import GradientBoostingClassifier\n",
    "from sklearn.model_selection import cross_val_score\n",
    "from sklearn.linear_model import LogisticRegression\n",
    "from sklearn.linear_model import LinearRegression\n",
    "import statsmodels.formula.api as sm\n",
    "from sklearn.model_selection import train_test_split\n",
    "from sklearn.svm import SVC, LinearSVC\n",
    "from sklearn.neighbors import KNeighborsClassifier\n",
    "from sklearn.tree import DecisionTreeClassifier\n",
    "from sklearn.naive_bayes import GaussianNB\n",
    "from sklearn.linear_model import Perceptron\n",
    "from sklearn.linear_model import SGDClassifier\n",
    "from sklearn.feature_selection import SelectFromModel\n",
    "from sklearn.model_selection import KFold\n",
    "from sklearn.model_selection import cross_val_score\n",
    "from sklearn.metrics import confusion_matrix\n",
    "from sklearn.discriminant_analysis import LinearDiscriminantAnalysis\n",
    "from sklearn.discriminant_analysis import QuadraticDiscriminantAnalysis\n",
    "#import xgboost as xgb\n",
    "from sklearn.metrics import roc_curve, auc\n",
    "import scikitplot as skplt #conda install -c conda-forge scikit-plot\n",
    "from sklearn.metrics import accuracy_score \n",
    "from sklearn.metrics import mean_absolute_error, accuracy_score"
   ]
  },
  {
   "cell_type": "markdown",
   "metadata": {
    "colab_type": "text",
    "id": "40RUPqRPOYxU"
   },
   "source": [
    "### 5.0) Pre-Modeling Final Touch Up <a name=\"pre\"></a>"
   ]
  },
  {
   "cell_type": "markdown",
   "metadata": {
    "colab_type": "text",
    "id": "Djgcuxg6OYxU"
   },
   "source": [
    "### 5.0.1) Dropping Useless Features <a name=\"drop\"></a>\n",
    "\n",
    "Drop all the columns that is irrelevant. We already dropped ticket number and passenger ID earlier, now we proceed to drop the categorical columns that we have already converted to one hot encoder. For example, we do not wish to keep the sex column because one hot encoder has already split them into sex_female, sex_male."
   ]
  },
  {
   "cell_type": "code",
   "execution_count": 88,
   "metadata": {
    "colab": {},
    "colab_type": "code",
    "id": "DV_PCUngOYxV"
   },
   "outputs": [
    {
     "ename": "KeyError",
     "evalue": "\"['Surname' 'Title' 'Newname'] not found in axis\"",
     "output_type": "error",
     "traceback": [
      "\u001b[1;31m---------------------------------------------------------------------------\u001b[0m",
      "\u001b[1;31mKeyError\u001b[0m                                  Traceback (most recent call last)",
      "\u001b[1;32m<ipython-input-88-825a7af890ad>\u001b[0m in \u001b[0;36m<module>\u001b[1;34m\u001b[0m\n\u001b[0;32m      1\u001b[0m \u001b[0mdrop_column\u001b[0m \u001b[1;33m=\u001b[0m \u001b[1;33m[\u001b[0m\u001b[1;34m'Pclass'\u001b[0m\u001b[1;33m,\u001b[0m\u001b[1;34m'Name'\u001b[0m\u001b[1;33m,\u001b[0m\u001b[1;34m'Sex'\u001b[0m\u001b[1;33m,\u001b[0m\u001b[1;34m'Cabin'\u001b[0m\u001b[1;33m,\u001b[0m \u001b[1;34m'Embarked'\u001b[0m\u001b[1;33m,\u001b[0m\u001b[1;34m'Surname'\u001b[0m\u001b[1;33m,\u001b[0m\u001b[1;34m'Title'\u001b[0m\u001b[1;33m,\u001b[0m\u001b[1;34m'Newname'\u001b[0m\u001b[1;33m]\u001b[0m\u001b[1;33m\u001b[0m\u001b[1;33m\u001b[0m\u001b[0m\n\u001b[1;32m----> 2\u001b[1;33m \u001b[0mtrain\u001b[0m\u001b[1;33m.\u001b[0m\u001b[0mdrop\u001b[0m\u001b[1;33m(\u001b[0m\u001b[0mdrop_column\u001b[0m\u001b[1;33m,\u001b[0m \u001b[0maxis\u001b[0m\u001b[1;33m=\u001b[0m\u001b[1;36m1\u001b[0m\u001b[1;33m,\u001b[0m \u001b[0minplace\u001b[0m \u001b[1;33m=\u001b[0m \u001b[1;32mTrue\u001b[0m\u001b[1;33m)\u001b[0m\u001b[1;33m\u001b[0m\u001b[1;33m\u001b[0m\u001b[0m\n\u001b[0m\u001b[0;32m      3\u001b[0m \u001b[1;33m\u001b[0m\u001b[0m\n\u001b[0;32m      4\u001b[0m \u001b[0mdrop_column\u001b[0m \u001b[1;33m=\u001b[0m \u001b[1;33m[\u001b[0m\u001b[1;34m'Pclass'\u001b[0m\u001b[1;33m,\u001b[0m\u001b[1;34m'Name'\u001b[0m\u001b[1;33m,\u001b[0m\u001b[1;34m'Sex'\u001b[0m\u001b[1;33m,\u001b[0m\u001b[1;34m'Cabin'\u001b[0m\u001b[1;33m,\u001b[0m \u001b[1;34m'Embarked'\u001b[0m\u001b[1;33m,\u001b[0m\u001b[1;34m'Surname'\u001b[0m\u001b[1;33m,\u001b[0m\u001b[1;34m'Title'\u001b[0m\u001b[1;33m,\u001b[0m\u001b[1;34m'Newname'\u001b[0m\u001b[1;33m]\u001b[0m\u001b[1;33m\u001b[0m\u001b[1;33m\u001b[0m\u001b[0m\n\u001b[0;32m      5\u001b[0m \u001b[0mTest\u001b[0m\u001b[1;33m.\u001b[0m\u001b[0mdrop\u001b[0m\u001b[1;33m(\u001b[0m\u001b[0mdrop_column\u001b[0m\u001b[1;33m,\u001b[0m \u001b[0maxis\u001b[0m\u001b[1;33m=\u001b[0m\u001b[1;36m1\u001b[0m\u001b[1;33m,\u001b[0m \u001b[0minplace\u001b[0m \u001b[1;33m=\u001b[0m \u001b[1;32mTrue\u001b[0m\u001b[1;33m)\u001b[0m\u001b[1;33m\u001b[0m\u001b[1;33m\u001b[0m\u001b[0m\n",
      "\u001b[1;32m~\\AppData\\Local\\Continuum\\anaconda3\\lib\\site-packages\\pandas\\core\\frame.py\u001b[0m in \u001b[0;36mdrop\u001b[1;34m(self, labels, axis, index, columns, level, inplace, errors)\u001b[0m\n\u001b[0;32m   3938\u001b[0m                                            \u001b[0mindex\u001b[0m\u001b[1;33m=\u001b[0m\u001b[0mindex\u001b[0m\u001b[1;33m,\u001b[0m \u001b[0mcolumns\u001b[0m\u001b[1;33m=\u001b[0m\u001b[0mcolumns\u001b[0m\u001b[1;33m,\u001b[0m\u001b[1;33m\u001b[0m\u001b[1;33m\u001b[0m\u001b[0m\n\u001b[0;32m   3939\u001b[0m                                            \u001b[0mlevel\u001b[0m\u001b[1;33m=\u001b[0m\u001b[0mlevel\u001b[0m\u001b[1;33m,\u001b[0m \u001b[0minplace\u001b[0m\u001b[1;33m=\u001b[0m\u001b[0minplace\u001b[0m\u001b[1;33m,\u001b[0m\u001b[1;33m\u001b[0m\u001b[1;33m\u001b[0m\u001b[0m\n\u001b[1;32m-> 3940\u001b[1;33m                                            errors=errors)\n\u001b[0m\u001b[0;32m   3941\u001b[0m \u001b[1;33m\u001b[0m\u001b[0m\n\u001b[0;32m   3942\u001b[0m     @rewrite_axis_style_signature('mapper', [('copy', True),\n",
      "\u001b[1;32m~\\AppData\\Local\\Continuum\\anaconda3\\lib\\site-packages\\pandas\\core\\generic.py\u001b[0m in \u001b[0;36mdrop\u001b[1;34m(self, labels, axis, index, columns, level, inplace, errors)\u001b[0m\n\u001b[0;32m   3778\u001b[0m         \u001b[1;32mfor\u001b[0m \u001b[0maxis\u001b[0m\u001b[1;33m,\u001b[0m \u001b[0mlabels\u001b[0m \u001b[1;32min\u001b[0m \u001b[0maxes\u001b[0m\u001b[1;33m.\u001b[0m\u001b[0mitems\u001b[0m\u001b[1;33m(\u001b[0m\u001b[1;33m)\u001b[0m\u001b[1;33m:\u001b[0m\u001b[1;33m\u001b[0m\u001b[1;33m\u001b[0m\u001b[0m\n\u001b[0;32m   3779\u001b[0m             \u001b[1;32mif\u001b[0m \u001b[0mlabels\u001b[0m \u001b[1;32mis\u001b[0m \u001b[1;32mnot\u001b[0m \u001b[1;32mNone\u001b[0m\u001b[1;33m:\u001b[0m\u001b[1;33m\u001b[0m\u001b[1;33m\u001b[0m\u001b[0m\n\u001b[1;32m-> 3780\u001b[1;33m                 \u001b[0mobj\u001b[0m \u001b[1;33m=\u001b[0m \u001b[0mobj\u001b[0m\u001b[1;33m.\u001b[0m\u001b[0m_drop_axis\u001b[0m\u001b[1;33m(\u001b[0m\u001b[0mlabels\u001b[0m\u001b[1;33m,\u001b[0m \u001b[0maxis\u001b[0m\u001b[1;33m,\u001b[0m \u001b[0mlevel\u001b[0m\u001b[1;33m=\u001b[0m\u001b[0mlevel\u001b[0m\u001b[1;33m,\u001b[0m \u001b[0merrors\u001b[0m\u001b[1;33m=\u001b[0m\u001b[0merrors\u001b[0m\u001b[1;33m)\u001b[0m\u001b[1;33m\u001b[0m\u001b[1;33m\u001b[0m\u001b[0m\n\u001b[0m\u001b[0;32m   3781\u001b[0m \u001b[1;33m\u001b[0m\u001b[0m\n\u001b[0;32m   3782\u001b[0m         \u001b[1;32mif\u001b[0m \u001b[0minplace\u001b[0m\u001b[1;33m:\u001b[0m\u001b[1;33m\u001b[0m\u001b[1;33m\u001b[0m\u001b[0m\n",
      "\u001b[1;32m~\\AppData\\Local\\Continuum\\anaconda3\\lib\\site-packages\\pandas\\core\\generic.py\u001b[0m in \u001b[0;36m_drop_axis\u001b[1;34m(self, labels, axis, level, errors)\u001b[0m\n\u001b[0;32m   3810\u001b[0m                 \u001b[0mnew_axis\u001b[0m \u001b[1;33m=\u001b[0m \u001b[0maxis\u001b[0m\u001b[1;33m.\u001b[0m\u001b[0mdrop\u001b[0m\u001b[1;33m(\u001b[0m\u001b[0mlabels\u001b[0m\u001b[1;33m,\u001b[0m \u001b[0mlevel\u001b[0m\u001b[1;33m=\u001b[0m\u001b[0mlevel\u001b[0m\u001b[1;33m,\u001b[0m \u001b[0merrors\u001b[0m\u001b[1;33m=\u001b[0m\u001b[0merrors\u001b[0m\u001b[1;33m)\u001b[0m\u001b[1;33m\u001b[0m\u001b[1;33m\u001b[0m\u001b[0m\n\u001b[0;32m   3811\u001b[0m             \u001b[1;32melse\u001b[0m\u001b[1;33m:\u001b[0m\u001b[1;33m\u001b[0m\u001b[1;33m\u001b[0m\u001b[0m\n\u001b[1;32m-> 3812\u001b[1;33m                 \u001b[0mnew_axis\u001b[0m \u001b[1;33m=\u001b[0m \u001b[0maxis\u001b[0m\u001b[1;33m.\u001b[0m\u001b[0mdrop\u001b[0m\u001b[1;33m(\u001b[0m\u001b[0mlabels\u001b[0m\u001b[1;33m,\u001b[0m \u001b[0merrors\u001b[0m\u001b[1;33m=\u001b[0m\u001b[0merrors\u001b[0m\u001b[1;33m)\u001b[0m\u001b[1;33m\u001b[0m\u001b[1;33m\u001b[0m\u001b[0m\n\u001b[0m\u001b[0;32m   3813\u001b[0m             \u001b[0mresult\u001b[0m \u001b[1;33m=\u001b[0m \u001b[0mself\u001b[0m\u001b[1;33m.\u001b[0m\u001b[0mreindex\u001b[0m\u001b[1;33m(\u001b[0m\u001b[1;33m**\u001b[0m\u001b[1;33m{\u001b[0m\u001b[0maxis_name\u001b[0m\u001b[1;33m:\u001b[0m \u001b[0mnew_axis\u001b[0m\u001b[1;33m}\u001b[0m\u001b[1;33m)\u001b[0m\u001b[1;33m\u001b[0m\u001b[1;33m\u001b[0m\u001b[0m\n\u001b[0;32m   3814\u001b[0m \u001b[1;33m\u001b[0m\u001b[0m\n",
      "\u001b[1;32m~\\AppData\\Local\\Continuum\\anaconda3\\lib\\site-packages\\pandas\\core\\indexes\\base.py\u001b[0m in \u001b[0;36mdrop\u001b[1;34m(self, labels, errors)\u001b[0m\n\u001b[0;32m   4963\u001b[0m             \u001b[1;32mif\u001b[0m \u001b[0merrors\u001b[0m \u001b[1;33m!=\u001b[0m \u001b[1;34m'ignore'\u001b[0m\u001b[1;33m:\u001b[0m\u001b[1;33m\u001b[0m\u001b[1;33m\u001b[0m\u001b[0m\n\u001b[0;32m   4964\u001b[0m                 raise KeyError(\n\u001b[1;32m-> 4965\u001b[1;33m                     '{} not found in axis'.format(labels[mask]))\n\u001b[0m\u001b[0;32m   4966\u001b[0m             \u001b[0mindexer\u001b[0m \u001b[1;33m=\u001b[0m \u001b[0mindexer\u001b[0m\u001b[1;33m[\u001b[0m\u001b[1;33m~\u001b[0m\u001b[0mmask\u001b[0m\u001b[1;33m]\u001b[0m\u001b[1;33m\u001b[0m\u001b[1;33m\u001b[0m\u001b[0m\n\u001b[0;32m   4967\u001b[0m         \u001b[1;32mreturn\u001b[0m \u001b[0mself\u001b[0m\u001b[1;33m.\u001b[0m\u001b[0mdelete\u001b[0m\u001b[1;33m(\u001b[0m\u001b[0mindexer\u001b[0m\u001b[1;33m)\u001b[0m\u001b[1;33m\u001b[0m\u001b[1;33m\u001b[0m\u001b[0m\n",
      "\u001b[1;31mKeyError\u001b[0m: \"['Surname' 'Title' 'Newname'] not found in axis\""
     ]
    }
   ],
   "source": [
    "drop_column = ['Pclass','Name','Sex','Cabin', 'Embarked','Surname','Title','Newname']\n",
    "train.drop(drop_column, axis=1, inplace = True)\n",
    "\n",
    "drop_column = ['Pclass','Name','Sex','Cabin', 'Embarked','Surname','Title','Newname']\n",
    "Test.drop(drop_column, axis=1, inplace = True)"
   ]
  },
  {
   "cell_type": "markdown",
   "metadata": {
    "colab_type": "text",
    "id": "zRSv9xpDOYxX"
   },
   "source": [
    "### 5.0.2) Separating dependent and independent variables <a name=\"sep\"></a>"
   ]
  },
  {
   "cell_type": "code",
   "execution_count": 0,
   "metadata": {
    "colab": {},
    "colab_type": "code",
    "id": "wOacEyvxOYxX"
   },
   "outputs": [],
   "source": [
    "original_train_set_without_survived = train.drop(\"Survived\", axis=1)\n",
    "orginal_train_set_with_only_survived = train[\"Survived\"]"
   ]
  },
  {
   "cell_type": "markdown",
   "metadata": {
    "colab_type": "text",
    "id": "yQnK00rAOYxZ"
   },
   "source": [
    "### 5.0.3) Train Test Split or Cross Validation <a name=\"split\"></a>\n",
    "\n",
    "Before performing out modelling to our test data, we can split the training data in two using traintestsplit for training and validating your model. Then, when you have a good performance on the validation part of the training data and are happy with your model, you can apply the model to the test data and submit your predicted survival values for the test. For beginners who do not know what this step is, I will provide a brief yet intuitive explanation. But do try and fiddle around with the 4 new variables I created, namely, x_train, y_train, x_test, y_test.\n",
    "\n"
   ]
  },
  {
   "cell_type": "code",
   "execution_count": 0,
   "metadata": {
    "colab": {},
    "colab_type": "code",
    "id": "sE67R6jaOYxZ"
   },
   "outputs": [],
   "source": [
    "#In this part, we will do the train test split.\n",
    "\n",
    "x_train, x_test, y_train, y_test = train_test_split(\n",
    "    original_train_set_without_survived, orginal_train_set_with_only_survived, train_size=0.8, test_size=0.2, random_state=0)\n",
    "print(x_train.shape, y_train.shape)\n",
    "print(x_test.shape, y_test.shape)"
   ]
  },
  {
   "cell_type": "markdown",
   "metadata": {
    "colab_type": "text",
    "id": "2aw0oG3dOYxa"
   },
   "source": [
    "So the idea is we split our training data into 4 datasets, x_train means the training set without the outcome values (no survived column), x_train will serve as the training set. Now y_train set is the set of survived values corresponding to the x_train set. Similarly, we have **x_test which is also extracted from the training set (PAY SPECIAL ATTENTION THAT x_test IS NOT REFERRING TO THE TEST SET given to us)**, but serving the purpose as test set here. And y_test set is the set of survived values corresponding to the x_test set.\n",
    "\n",
    "<br>\n",
    "\n",
    "Now train_size = 0.8, test_size = 0.2 just means we split the data set into 80 percent of training data, and 20 percent test data.\n",
    "\n",
    "<br>\n",
    "\n",
    "Random_state is basically used for reproducing your problem the same every time it is run. If you do not use a randomstate in traintestsplit, every time you make the split you might get a different set of train and test data points and will not help you in debugging in case you get an issue. Note, it does not matter which integer value you use for random state, as long as you set it to one integer value and keep to it throughout.\n",
    "\n",
    "<br>\n",
    "\n",
    "However, there are many ways to **split** dataset, and sometimes other ways are superior. For example cross validation is a better way in general. However, in **Time Series** problems, train-test split or train-test-validation split might just prove to be superior because why would you care about errors in the past? You should care about errors you would make in the future. In that sense, you want to partition your dataset in past TS datapoints and the most current datapoints and perform MSE or Log Loss ( depending on whether this is classification or regression ) to evaluate how well your model can predict into the future.\n",
    "\n",
    "<br>\n",
    "\n",
    "\n",
    "**Cross Validation**\n",
    "\n",
    "We talk about K-Fold Cross Validation (CV) first, note that there are many cross validation methods. But we have to start simple and talk about the easiest but also an efficient one here. K-Fold CV is literally performing train test split numerous times (or rather k times), but on different train test splits. If you have a data set of 1000, and set k = 10, then your dataset will be divided into 10 folds of dataset, with dataset 1 to dataset 10 each having 100 data inside. We will take dataset 1 to 9 as the \"training set\" and dataset 10 as the \"test set\" and perform the model on it, then we take dataset 1 to 8 and dataset 10 as the training set and let dataset 9 be the test set and perform the model on it. We do this iteratively (?) for 10 times until each dataset has been part of the training set. We will get 10 outputs of accuracy values and we take the average of them to be the final accuracy value.\n",
    "\n",
    "<br>\n",
    "\n",
    "Cross-validation is usually the preferred method because it gives your model the opportunity to train on multiple train-test splits. This gives you a better indication of how well your model will perform on unseen data. "
   ]
  },
  {
   "cell_type": "markdown",
   "metadata": {
    "colab_type": "text",
    "id": "B1eYrV43OYxa"
   },
   "source": [
    "### 5.0.4) Feature Scaling <a name=\"scale\"></a>\n",
    "\n",
    "A common question when I encountered is whether you should do standardization/normalization prior to train test splitting, if we want to be careful, we should always do the standard scaler after train test splitting. i.e: After you applied train test split to x_train, x_test, we should apply scaling separately to x_train, x_test instead of applying scaling to the whole data set. Refer to https://datascience.stackexchange.com/questions/38395/standardscaler-before-and-after-splitting-data ."
   ]
  },
  {
   "cell_type": "code",
   "execution_count": 0,
   "metadata": {
    "colab": {},
    "colab_type": "code",
    "id": "1IL1nowGOYxb"
   },
   "outputs": [],
   "source": [
    "# Feature Scaling\n",
    "## We will be using standardscaler to transform the data.\n",
    "from sklearn.preprocessing import StandardScaler\n",
    "sc = StandardScaler()\n",
    "\n",
    "## transforming \"train_x\"\n",
    "x_train = sc.fit_transform(x_train)\n",
    "## transforming \"test_x\"\n",
    "x_test = sc.transform(x_test)\n",
    "\n",
    "## transforming \"The testset\"\n",
    "Test = sc.transform(Test)"
   ]
  },
  {
   "cell_type": "markdown",
   "metadata": {
    "colab_type": "text",
    "id": "jUnuZuqnOYxb"
   },
   "source": [
    "### 5.0.5) Using train test split with Logistic Regression <a name=\"logreg\"></a>\n",
    "\n",
    "As an example for finding out the accuracy of the model using train test split method with Logistic Regression. We will cover on the work flow for Logistic Regression using the train test split method."
   ]
  },
  {
   "cell_type": "markdown",
   "metadata": {
    "colab_type": "text",
    "id": "8GcDQblwOYxc"
   },
   "source": [
    "#### **Model Accuracy Score for Logistic Regression by using Train Test Split**"
   ]
  },
  {
   "cell_type": "code",
   "execution_count": 0,
   "metadata": {
    "colab": {},
    "colab_type": "code",
    "id": "NKXsOgz-OYxc"
   },
   "outputs": [],
   "source": [
    "## call on the model object\n",
    "logreg = LogisticRegression()\n",
    "\n",
    "## fit the model with \"train_x\" and \"train_y\"\n",
    "logreg.fit(x_train,y_train)\n",
    "#Alternatively also can use\n",
    "#print (\"So, Our accuracy Score is: {}\".format(round(logreg.score(x_test,y_test),8)))\n",
    "\n",
    "## Once the model is trained we want to find out how well the model is performing, so we test the model. \n",
    "## we use \"test_x\" portion of the data(this data was not used to fit the model) to predict model outcome. \n",
    "y_pred = logreg.predict(x_test)\n",
    "\n",
    "## Once predicted we save that outcome in \"y_pred\" variable.\n",
    "## Then we compare the predicted value( \"y_pred\") and actual value(\"test_y\") to see how well our model is performing. \n",
    "\n",
    "print (\"So, Our accuracy Score is: {}\".format(round(accuracy_score(y_test,y_pred),8)))"
   ]
  },
  {
   "cell_type": "markdown",
   "metadata": {
    "colab_type": "text",
    "id": "RMn9_mtVOYxd"
   },
   "source": [
    "Import from sklearn.metrics import accuracy_score \n",
    "\n",
    "<br>\n",
    "\n",
    "Also, accuracy_score merely calculates the accuracy based on the inputs y_pred and y_true.\n",
    "So in this case, our prediction is called y_pred, which takes in the input x_test, and recall x_test \n",
    "refers to the partitioned x_test set taken from the training set; and recall we do know the true corresponding\n",
    "output values for x_test, the output are in y_test.\n",
    "\n",
    "<br>\n",
    "\n",
    "Reiterating, y_pred takes in the input of x_test and runs in a model we choose, in which case\n",
    "it is logistic regression: we use log reg to predict the x_test set.\n",
    "\n",
    "<br>\n",
    "\n",
    "https://scikit-learn.org/stable/modules/generated/sklearn.metrics.accuracy_score.html\n",
    "\n",
    "see example of how accuracy_score works."
   ]
  },
  {
   "cell_type": "markdown",
   "metadata": {
    "colab_type": "text",
    "id": "310d1DK2OYxd"
   },
   "source": [
    "#### **Confusion Matrix**\n",
    "\n",
    "Note we want to use the confusion matrix on the test set (the test set is extracted from the dataset that we have, and we act as if we do not know the outcome of the test set, and use the model to predict the outcomes, after which we compare the predicted outcomes with the true outcomes and form the confusion matrix."
   ]
  },
  {
   "cell_type": "code",
   "execution_count": 0,
   "metadata": {
    "colab": {},
    "colab_type": "code",
    "id": "Qhwa-3ceOYxd"
   },
   "outputs": [],
   "source": [
    "def confusion_matrix_model(model_used):\n",
    "    cm=confusion_matrix(y_test,model_used.predict(x_test))\n",
    "    col=[\"Predicted Dead\",\"Predicted Survived\"]\n",
    "    cm=pd.DataFrame(cm)\n",
    "    cm.columns=[\"Predicted Dead\",\"Predicted Survived\"]\n",
    "    cm.index=[\"Actual Dead\",\"Actual Survived\"]\n",
    "    cm[col]=np.around(cm[col].div(cm[col].sum(axis=1),axis=0),decimals=2)\n",
    "    return cm\n",
    "\n",
    "\n",
    "\n",
    "confusion_matrix_model(logreg)"
   ]
  },
  {
   "cell_type": "markdown",
   "metadata": {
    "colab_type": "text",
    "id": "t5V1qJPEOYxe"
   },
   "source": [
    "#### **ROC Curve**\n",
    "\n",
    "The concept of ROC and AUC builds upon the knowledge of Confusion Matrix, Specificity and Sensitivity. Also, the example that I will use in this article is based on Logisitic Regression algorithm, however, it is important to keep in mind that the concept of ROC and AUC can apply to more than just Logistic Regression.\n",
    "\n",
    "<br>\n",
    "\n",
    "\n",
    "A ROC curve shows you performance across a range of different classification thresholds and a confusion matrix only shows you one (typically when $\\text{Pr}(y>0.5)$).\n",
    "\n",
    "<br>\n",
    "\n",
    "A confusion matrix can be used to measure the performance of a particular classifier with a fixed threshold. Given a set of input cases, the classifier scores each one, and score above the threshold are labelled Class 1 and scores below the threshold are labelled Class 2. \n",
    "\n",
    "The ROC curve, on the other hand, examines the performance of a classifier *without fixing the threshold*. Given a set of input cases, the classifier scores each one. The ROC curve is then generated by testing every possible threshold and plotting each result as a point on the curve.\n",
    "\n",
    "The ROC curve is useful when you want to test your classifier over a range of sensitivities/specificities. This may or may not be a desirable thing to do. Perhaps you want very high sensitivity and don't care much about specificity - in this case, the AUC metric will be less desirable, because it will take into account thresholds with high specificity. The confusion matrix, on the other hand, could be generated with a fixed threshold known to yield high sensitivity, and would only be evaluated for that particular threshold.\n",
    "\n",
    "A confusion matrix evaluates one particular classifier with a fixed threshold, while the AUC evaluates that classifier over all possible thresholds."
   ]
  },
  {
   "cell_type": "code",
   "execution_count": 0,
   "metadata": {
    "colab": {},
    "colab_type": "code",
    "id": "uBcWhk12OYxe"
   },
   "outputs": [],
   "source": [
    "from sklearn.metrics import roc_curve, auc\n",
    "#plt.style.use('seaborn-pastel')\n",
    "y_score = logreg.decision_function(x_test) #y_pred_proba = logreg.predict_proba(X_test)[:, 1] same as this?\n",
    "\n",
    "FPR, TPR, THR = roc_curve(y_test, y_score) #[fpr, tpr, thr] = roc_curve(y_test, y_pred_proba) same as this\n",
    "ROC_AUC = auc(FPR, TPR)\n",
    "print (logreg.__class__.__name__+\" auc is %2.8f\" % ROC_AUC) #Gives AUC score.\n",
    "\n",
    "\n",
    "#Next is draw roc graph.\n",
    "plt.figure(figsize =[10,9])\n",
    "plt.plot(FPR, TPR, label= 'ROC curve(area = %0.2f)'%ROC_AUC, linewidth= 4)\n",
    "plt.plot([0,1],[0,1], 'k--', linewidth = 4)\n",
    "plt.xlim([0.0,1.0])\n",
    "plt.ylim([0.0,1.05])\n",
    "plt.xlabel('False Positive Rate', fontsize = 17)\n",
    "plt.ylabel('True Positive Rate', fontsize = 17)\n",
    "plt.title('ROC for Logistic Regression (Titanic)', fontsize= 17)\n",
    "plt.show()"
   ]
  },
  {
   "cell_type": "code",
   "execution_count": 0,
   "metadata": {
    "colab": {},
    "colab_type": "code",
    "id": "PLt2Hhy-OYxf"
   },
   "outputs": [],
   "source": [
    "from sklearn.metrics import precision_recall_curve\n",
    "\n",
    "y_score = logreg.decision_function(x_test)\n",
    "\n",
    "precision, recall, _ = precision_recall_curve(y_test, y_score)\n",
    "PR_AUC = auc(recall, precision)\n",
    "\n",
    "plt.figure(figsize=[11,9])\n",
    "plt.plot(recall, precision, label='PR curve (area = %0.2f)' % PR_AUC, linewidth=4)\n",
    "plt.xlabel('Recall', fontsize=18)\n",
    "plt.ylabel('Precision', fontsize=18)\n",
    "plt.title('Precision Recall Curve for Titanic survivors', fontsize=18)\n",
    "plt.legend(loc=\"lower right\")\n",
    "plt.show()"
   ]
  },
  {
   "cell_type": "markdown",
   "metadata": {
    "colab_type": "text",
    "id": "tHJlj5_AOYxg"
   },
   "source": [
    "However, we wish to use Cross Validation to find out the accuracy scores, as demonstrated in the next section."
   ]
  },
  {
   "cell_type": "markdown",
   "metadata": {
    "colab_type": "text",
    "id": "JodP0pS5OYxh"
   },
   "source": [
    "### 5.1) Logistic Regression by Cross Validation and Full Workflow  <a name=\"log\"></a>\n",
    "\n",
    "In this Section and Subsections, we will focus mainly on the work flow for the Logistic Regression Model by using cross validation method."
   ]
  },
  {
   "cell_type": "markdown",
   "metadata": {
    "colab_type": "text",
    "id": "e6gOuFGSOYxh"
   },
   "source": [
    "### 5.1.1) Step 1: Choosing Cross Validation Method  <a name=\"cv\"></a>\n",
    "\n",
    "As mentioned earlier, it is necessary to me that cross validation is a better method than merely splitting a data set once into train/test set. There are however a few cross validation methods and we will choose K-Fold method. \n",
    "\n",
    "<br>\n",
    "\n",
    "\n",
    "Here we choose the K-Fold method and let k = 10 and as usual, the data will be split into 10 folds and tested upon iteratively. However, for each fold, from fold 1 to fold 10, the variance of the accuracy may be big or small, depending on how stable our dataset. Now stable is a very vague word here, so I should give an example. For example, if our accuracy for each of the folds is as follows: [0.9, 0.88, 0.9, 0.92, 0.3, 0.6, 0.9, 0.91, 0.9, 0.88], then this is a bit weird because there are 2 folds in which our accuracy is significantly lower, this should raise an alarm and one should try to find out the reason why or even have to give up such algorithms with such high variances in between accuracies."
   ]
  },
  {
   "cell_type": "code",
   "execution_count": 0,
   "metadata": {
    "colab": {},
    "colab_type": "code",
    "id": "KiYr9WaAOYxh"
   },
   "outputs": [],
   "source": [
    "k_fold = KFold(n_splits=10, shuffle=True, random_state=0)"
   ]
  },
  {
   "cell_type": "code",
   "execution_count": 0,
   "metadata": {
    "colab": {},
    "colab_type": "code",
    "id": "DQirLnRHOYxk"
   },
   "outputs": [],
   "source": [
    "x = original_train_set_without_survived\n",
    "y = orginal_train_set_with_only_survived"
   ]
  },
  {
   "cell_type": "markdown",
   "metadata": {
    "colab_type": "text",
    "id": "kWkerNwVOYxm"
   },
   "source": [
    "**Now remember our feature scaling earlier on train test split?**\n",
    "\n",
    "However, be very careful that in K-Fold Cross Validation, we do not feature scale separately, this is because as explained earlier, in K-Fold we want to plug in the entire training set. So we shall perform the scaling on the set : **original_train_set_without_survived**"
   ]
  },
  {
   "cell_type": "code",
   "execution_count": 0,
   "metadata": {
    "colab": {},
    "colab_type": "code",
    "id": "xZoDF25dOYxm"
   },
   "outputs": [],
   "source": [
    "#normalize it by using our sc previously defined - where sc = StandardScaler()\n",
    "x = sc.fit_transform(x)"
   ]
  },
  {
   "cell_type": "markdown",
   "metadata": {
    "colab_type": "text",
    "id": "dGtGl8pxOYxn"
   },
   "source": [
    "### 5.1.2) Step 2: Accuracy of the Model <a name=\"Accuracy\"></a>\n",
    "\n",
    "After we choose our way to train the model and get the result and outcomes, it is natural for us to consider the performances of the model! Now the very first step we want to check is the accuracy of the model! The formula for accuracy is simply given by \n",
    "\n",
    "\n",
    "$$\\text{Accuracy} = \\frac{\\text{Number of correctly classified cases}}{\\text{Number of all cases}}$$\n",
    "\n",
    "\n",
    "<br>\n",
    "\n",
    "And as seen in below, we first showed all our accuracy scores for each fold in the K-Fold CV validation, and the values are pretty close to each other with a standard deviation of 0.02733 - which in my opinion is a very acceptable range (one can further do some testing to show that the SD is justifiable low).\n",
    "\n",
    "<br>\n",
    "\n",
    "So our final accuracy score for Logistic Regression is 82.82 percent. But is that good enough? No. Let me give you one more problem. \n",
    "\n",
    "<br>\n",
    "\n",
    "For example, in our Titanic Problem, we want to classify data into survive or dead. And to make the example simple, we have 1000 data set in which we achieved an 80% accuracy, that is we predicted 800/1000 correctly. This 80% accuracy seems reasonable, but however it can still be extremely bad if we have many False Positives or False Negatives. In our case, let's say we have exactly 500 people who died and 500 people who lived - Our algorithm predicts 500/500 correctly for those people who survived, however only 300/500 correctly for those who died. Yes, the total accuracy does add up to 80 percent and it looks good on paper, but we realised that this algorithm is extremely incapable of prediction for people who died, and that can be a big problem because in reality, we may have say, 900 people who died and 100 who survived, one can imagine how disastrous it can be if we applied the algorithm and it will give you a much lower total accuracy rate!\n",
    "\n",
    "<br>\n",
    "\n",
    "We shall explore some popular metrics to further ASSESS THE PERFORMANCE of the model - An extension to evaluate how accurate the model performs.\n"
   ]
  },
  {
   "cell_type": "markdown",
   "metadata": {
    "colab_type": "text",
    "id": "veJsRvHYOYxo"
   },
   "source": [
    "We come up with a function called Acc_score that gives the mean of all cross validated scores through the CV K-Fold.\n",
    "\n",
    "<br>\n",
    "\n",
    "Note that cross_val_score is a in-built function which requires you to input the model you use, the dataset to train/fit without the output variable, which is our original_train_set_without_survived = x. Also we need y, which is our orginal_train_set_with_only_survived dataset. cv refers to the cross validation method.\n",
    "\n",
    "<br>\n",
    "\n",
    "Also take note our function below has an np.mean() inside. This means we are taking the average of all the cross val scores. One can remove np.mean and just merely return all the cross val scores in a list."
   ]
  },
  {
   "cell_type": "code",
   "execution_count": 0,
   "metadata": {
    "colab": {},
    "colab_type": "code",
    "id": "Xhk7s3nNOYxo"
   },
   "outputs": [],
   "source": [
    "def Acc_score(model):\n",
    "    return np.mean(cross_val_score(model,x,y,cv=k_fold,scoring=\"accuracy\"))"
   ]
  },
  {
   "cell_type": "code",
   "execution_count": 0,
   "metadata": {
    "colab": {},
    "colab_type": "code",
    "id": "F5-l6RnxOYxp"
   },
   "outputs": [],
   "source": [
    "logreg2=LogisticRegression()\n",
    "\n",
    "print(\"Accuracy Scores: \" + format(cross_val_score(logreg2,x,y,cv=k_fold,scoring=\"accuracy\")))\n",
    "print(\" \") #leave empty line\n",
    "print(\"Mean Accuracy Score: \" + str(Acc_score(logreg2)))\n",
    "print(\" \")\n",
    "print(\"Standard Deviation:\", cross_val_score(logreg2,x,y,cv=k_fold,scoring=\"accuracy\").std())"
   ]
  },
  {
   "cell_type": "markdown",
   "metadata": {
    "colab_type": "text",
    "id": "atxeyCWvOYxp"
   },
   "source": [
    "### 5.1.3) Step 3: ROC and AUC <a name=\"roc\"></a>\n",
    "\n",
    "Below is the code for averaging out 10 fold cross validation for AUC score."
   ]
  },
  {
   "cell_type": "code",
   "execution_count": 0,
   "metadata": {
    "colab": {},
    "colab_type": "code",
    "id": "DmW4-bnIOYxp"
   },
   "outputs": [],
   "source": [
    "scores_auc = cross_val_score(logreg2, x, y, cv=k_fold, scoring='roc_auc')\n",
    "#Notice scoring = roc_auc now.  https://scikit-learn.org/stable/modules/model_evaluation.html\n",
    "print(\"AUC score for 10 fold Cross Validation:\", scores_auc)\n",
    "print(\" \")\n",
    "print(\"Mean AUC score for 10 fold Cross Validation:\", scores_auc.mean())"
   ]
  },
  {
   "cell_type": "code",
   "execution_count": 0,
   "metadata": {
    "colab": {},
    "colab_type": "code",
    "id": "L2N2nvt3OYxq"
   },
   "outputs": [],
   "source": [
    "def plt_roc_curve(name, model, cv_x_test, cv_y_test, has_proba=True):\n",
    "    if has_proba:\n",
    "        fpr,tpr,thr=skplt.metrics.roc_curve(cv_y_test,model.predict_proba(cv_x_test)[:,1])\n",
    "    else:\n",
    "        fpr,tpr,thr=skplt.metrics.roc_curve(cv_y_test,model.decision_function(cv_x_test))\n",
    "    auc= skplt.metrics.auc(fpr,tpr) #x axis is fpr, y axis is tpr\n",
    "\n",
    "    plt.plot(fpr,tpr,label='ROC curve for %s (AUC = %0.8f)' % (name, auc))\n",
    "    plt.plot([0, 1], [0, 1], 'k--')\n",
    "    plt.xlim((0,1))\n",
    "    plt.ylim((0,1))\n",
    "    plt.xlabel(\"False Positive Rate\")\n",
    "    plt.ylabel(\"True Positive Rate\")\n",
    "    plt.title(\"ROC Curve\")\n",
    "    plt.legend(loc=\"lower right\")\n",
    "    #plt.show()\n",
    "    return fpr, tpr, auc"
   ]
  },
  {
   "cell_type": "code",
   "execution_count": 0,
   "metadata": {
    "colab": {},
    "colab_type": "code",
    "id": "2cNHFw_yOYxr"
   },
   "outputs": [],
   "source": [
    "def run_k_fold(modeller, no_of_folds):\n",
    "    scores = []\n",
    "    mean_fpr = np.linspace(0, 1, 100)\n",
    "    tprs = []\n",
    "    aucs = []\n",
    "    plt.figure(figsize =[10,9])\n",
    "    \n",
    "    k_fold = KFold(n_splits=no_of_folds, shuffle=True, random_state=0)\n",
    "    fold = 1\n",
    "    # the below line's x, y is from outside just now.\n",
    "    #k_fold.split gives you all 10 rounds in a list of tuples [round1, round2,...]\n",
    "    #each round consists of the rows to be in the training set (90%) and the rows to be in \n",
    "    #the test set (10%) for that round. \n",
    "    for rounds in k_fold.split(x, y): #don't use round as it is a in built function\n",
    "        train_rows = rounds[0]\n",
    "        test_rows  = rounds[1]\n",
    "        CV_x_train = x[train_rows]\n",
    "        CV_y_train = y[train_rows]\n",
    "        CV_x_test = x[test_rows]\n",
    "        CV_y_test = y[test_rows]\n",
    "        model = modeller()\n",
    "        model.fit(CV_x_train, CV_y_train)\n",
    "        scores.append(model.score(CV_x_test, CV_y_test))\n",
    "        curr_fpr, curr_tpr, curr_auc = plt_roc_curve(\n",
    "            'log reg fold ' + str(fold), model, CV_x_test, CV_y_test)\n",
    "\n",
    "        tprs.append(np.interp(mean_fpr, curr_fpr, curr_tpr))\n",
    "        tprs[-1][0] = 0.0\n",
    "        roc_auc = auc(curr_fpr, curr_tpr)\n",
    "        aucs.append(roc_auc)\n",
    "        fold += 1\n",
    "\n",
    "    mean_tpr = np.mean(tprs, axis=0)\n",
    "    mean_tpr[-1] = 1.0\n",
    "    mean_auc = auc(mean_fpr, mean_tpr)\n",
    "    std_auc = np.std(aucs)  # popn std dev?\n",
    "    plt.plot(mean_fpr, mean_tpr, color='b',\n",
    "             label=r'Mean ROC (AUC = %0.8f $\\pm$ %0.2f)' % (mean_auc, std_auc),\n",
    "             lw=2, alpha=.8)\n",
    "\n",
    "    std_tpr = np.std(tprs, axis=0)\n",
    "    tprs_upper = np.minimum(mean_tpr + std_tpr, 1)\n",
    "    tprs_lower = np.maximum(mean_tpr - std_tpr, 0)\n",
    "    plt.fill_between(mean_fpr, tprs_lower, tprs_upper, color='grey', alpha=.2,\n",
    "                     label=r'$\\pm$ 1 std. dev.')\n",
    "    \n",
    "    plt.xlim([-0.05, 1.05])\n",
    "    plt.ylim([-0.05, 1.05])\n",
    "    plt.xlabel('False Positive Rate')\n",
    "    plt.ylabel('True Positive Rate')\n",
    "    plt.title('Receiver operating characteristic example')\n",
    "    plt.legend(loc=\"lower right\")\n",
    "    plt.show()\n",
    "\n",
    "    return np.mean(scores)"
   ]
  },
  {
   "cell_type": "code",
   "execution_count": 0,
   "metadata": {
    "colab": {},
    "colab_type": "code",
    "id": "ydtinWRPOYxr"
   },
   "outputs": [],
   "source": [
    "accuracy_score = run_k_fold(LogisticRegression, 10)\n",
    "print(\"Accuracy Score:\", accuracy_score)\n",
    "#notice that the mean roc score is different from the previous code. this is because\n",
    "#we are finding the AUC of the MEAN ROC curves. In  a sense we have a 11th curve called\n",
    "#the mean roc curve and we find the area under that 11th curve. While the previous code\n",
    "#just mean the 10 auc of the respective rocs."
   ]
  },
  {
   "cell_type": "markdown",
   "metadata": {
    "colab_type": "text",
    "id": "2xfjbhMDOYxs"
   },
   "source": [
    "## 6) Other Machine Learning Models <a id=\"classifiers\"></a>"
   ]
  },
  {
   "cell_type": "markdown",
   "metadata": {
    "colab_type": "text",
    "id": "oOhQldCuOYxs"
   },
   "source": [
    "### 6.1) Decision Tree<a name=\"rf\"></a>\n"
   ]
  },
  {
   "cell_type": "code",
   "execution_count": 0,
   "metadata": {
    "colab": {},
    "colab_type": "code",
    "id": "pywitn6rOYxt"
   },
   "outputs": [],
   "source": [
    "from sklearn.tree import DecisionTreeClassifier\n",
    "from sklearn.model_selection import GridSearchCV\n",
    "max_depth = range(1,30)\n",
    "#max_feature = list(range(1,x.shape[1]+1)) #dynamic coding\n",
    "max_feature = [1,2,3,4,5,6,7,8,9,10,11,12,13,14,15,16,17,18,19,20,21,22,23,24,25,26,'auto'] #how one knows start at 21\n",
    "\n",
    "\n",
    "criterion=[\"entropy\", \"gini\"]\n",
    "\n",
    "param = {'max_depth':max_depth, \n",
    "         'max_features':max_feature, \n",
    "         'criterion': criterion}\n",
    "grid = GridSearchCV(DecisionTreeClassifier(random_state=42), \n",
    "                                param_grid = param, \n",
    "                                 verbose=False, \n",
    "                                 cv=KFold(n_splits=10, shuffle=True, random_state=42),\n",
    "                                n_jobs = -1)\n",
    "grid.fit(x, y) \n",
    "\n",
    "\n",
    "print( grid.best_params_)\n",
    "print(\" \")\n",
    "print (grid.best_score_)\n",
    "print(\" \")\n",
    "print (grid.best_estimator_)\n"
   ]
  },
  {
   "cell_type": "code",
   "execution_count": 0,
   "metadata": {
    "colab": {},
    "colab_type": "code",
    "id": "DG4SroBGOYxu"
   },
   "outputs": [],
   "source": [
    "dectree_grid = grid.best_estimator_\n",
    "## using the best found hyper paremeters to get the score. \n",
    "dectree_grid.score(x,y)"
   ]
  },
  {
   "cell_type": "markdown",
   "metadata": {
    "colab_type": "text",
    "id": "AtpyDn04OYxv"
   },
   "source": [
    "### 6.2) Random Forest <a name=\"rf\"></a>\n"
   ]
  },
  {
   "cell_type": "code",
   "execution_count": 0,
   "metadata": {
    "colab": {},
    "colab_type": "code",
    "id": "8K4Vd3qROYxv"
   },
   "outputs": [],
   "source": [
    "from sklearn.ensemble import RandomForestClassifier\n",
    "\n",
    "rf_model = RandomForestClassifier(bootstrap=True, class_weight=None, criterion='entropy',\n",
    "                       max_depth=9, max_features='auto', max_leaf_nodes=None,\n",
    "                       min_impurity_decrease=0.0, min_impurity_split=None,\n",
    "                       min_samples_leaf=1, min_samples_split=16,\n",
    "                       min_weight_fraction_leaf=0.0, n_estimators=140,\n",
    "                       n_jobs=None, oob_score=False, random_state=42, verbose=0,\n",
    "                       warm_start=True)\n",
    "\n",
    "rf_model.fit(x,y)\n"
   ]
  },
  {
   "cell_type": "code",
   "execution_count": 0,
   "metadata": {
    "colab": {},
    "colab_type": "code",
    "id": "AK2RLipDOYxv"
   },
   "outputs": [],
   "source": [
    "#print(\"%.3f\" % rf_model.oob_score_)"
   ]
  },
  {
   "cell_type": "code",
   "execution_count": 0,
   "metadata": {
    "colab": {},
    "colab_type": "code",
    "id": "5m-wpb2WOYxw"
   },
   "outputs": [],
   "source": [
    "rf_model.score(x,y)"
   ]
  },
  {
   "cell_type": "markdown",
   "metadata": {
    "colab_type": "text",
    "id": "wEscqp1eOYxx"
   },
   "source": [
    "#### Submission for Random Forest Model"
   ]
  },
  {
   "cell_type": "code",
   "execution_count": 0,
   "metadata": {
    "colab": {},
    "colab_type": "code",
    "id": "hvWEEEmpOYxx"
   },
   "outputs": [],
   "source": [
    "Test = sc.fit_transform(Test)\n",
    "Test1 = pd.read_csv(\"../input/titanic/test.csv\")\n",
    "\n",
    "output3 = pd.DataFrame({\"PassengerId\": Test1.PassengerId, \"Survived\":rf_model.predict(Test)})\n",
    "output3.PassengerId = output3.PassengerId.astype(int)\n",
    "output3.Survived = output3.Survived.astype(int)\n",
    "\n",
    "output3.to_csv(\"output3.csv\", index=False)\n",
    "print(\"Your submission was successfully saved!\")\n",
    "output3.head(10)"
   ]
  },
  {
   "cell_type": "markdown",
   "metadata": {
    "colab_type": "text",
    "id": "Gkuk3w4fOYxy"
   },
   "source": [
    "Up until now, we have went through quite a detailed process. But in the end I went through you one single model - the most simple and powerful model - Logistic Regression **Also note that even logistic regression has many more things that I have yet to explain, like ridge/lasso regression - which can prevent overfitting**. I will continue and update it to explain other models like random forest and the likes - slowly progressing more complicated models. But always remember, start simple first, do not be greedy and attempt to understand all at one go.\n",
    "\n",
    "This kernel is still updating in progress. It will be constantly updated with good information. **If you find it resourceful, or detailed, or lacking clarity on any aspect, please comment and let me know, I just want to be improve along with the rest.**"
   ]
  },
  {
   "cell_type": "markdown",
   "metadata": {
    "colab_type": "text",
    "id": "-0SAqWPxOYxy"
   },
   "source": [
    "## 7) Part 1: Intuitive explanation of Logistic Regression <a id=\"ls\"></a>"
   ]
  },
  {
   "cell_type": "markdown",
   "metadata": {
    "colab_type": "text",
    "id": "QtofzsePOYxy"
   },
   "source": [
    "In this wall of text below, I provide beginners who have **less** rigorous mathematical background to gain an intuition on how logistic regression works. First and foremost, in number 1 I will have an extract from the classical machine learning book \"An Introduction to Statistics\" on why sometimes linear regression cannot work."
   ]
  },
  {
   "cell_type": "markdown",
   "metadata": {
    "colab_type": "text",
    "id": "Ma8b_ehhOYxy"
   },
   "source": [
    "1. We have stated that linear regression is not appropriate in the case of a qualitative response. Why not? Suppose that we are trying to predict the medical condition of a patient in the emergency room on the basis of her symptoms. In this simplified example, there are three possible diagnoses: stroke, drug overdose, and epileptic seizure. We could consider encoding these values as a quantitative response variable, $Y$, as follows: \n",
    "\n",
    "   \\begin{equation}\n",
    "     Y=\\begin{cases}  \n",
    "       1, & \\text{if stroke}\\\\\n",
    "       2, & \\text{if drug overdose}\\\\\n",
    "       3, & \\text{if epileptic seizure}\\\\\n",
    "     \\end{cases}\n",
    "   \\end{equation}\n",
    "   \n",
    "   Using this coding, least squares could be used to fit a linear regression model to predict $Y$ on the basis of a set of predictors $X_{1}$, . . . , $X_{p}$. Unfortunately, this coding implies an ordering on the outcomes, putting drug overdose in between stroke and epileptic seizure, and insisting that the difference between stroke and drug overdose is the same as the difference between drug overdose and epileptic seizure. In practice there is no particular reason that this needs to be the case. For instance, one could choose an\n",
    "    equally reasonable coding,\n",
    "\n",
    "   \\begin{equation}\n",
    "     Y=\\begin{cases}\n",
    "       1, & \\text{if epileptic seizure}\\\\\n",
    "       2, & \\text{if stroke}\\\\\n",
    "       3, & \\text{if drug overdose}\\\\\n",
    "     \\end{cases}\n",
    "   \\end{equation}\n",
    "\n",
    "   which would imply a totally different relationship among the three conditions. Each of these codings would produce fundamentally different linear models that would ultimately lead to different sets of predictions on test observations.\n",
    "\n",
    "   If the response variable's values did take on a natural ordering, such as mild, moderate, and severe, and we felt the gap between mild and moderate was similar to the gap between moderate and severe, then a 1, 2, 3 coding would be reasonable. Unfortunately, in general there is no natural way to convert a qualitative response variable with more than two levels into a quantitative response that is ready for linear regression.\n",
    "\n",
    "   For a binary (two level) qualitative response, the situation is better. For instance, perhaps there are only two possibilities for the patient's medical condition: stroke and drug overdose. We could then potentially use the dummy variable approach to code the response as follows:\n",
    "\n",
    "   \\begin{equation}\n",
    "     Y=\\begin{cases}\n",
    "       0, & \\text{if stroke}\\\\\n",
    "       1, & \\text{if drug overdose}\\\\\n",
    "     \\end{cases}\n",
    "   \\end{equation}\n",
    "   \n",
    "   We could then fit a linear regression to this binary response, and predict drug overdose if $\\hat{Y}>0.5$ and stroke otherwise. In the binary case it is not hard to show that even if we flip the above coding, linear regression will produce the same final predictions.\n",
    "\n",
    "   For a binary response with a $0-1$ coding as above, regression by least squares does make sense; it can be shown that the $X\\hat{\\beta}$ obtained using linear regression is in fact an estimate of $\\text{Pr}(\\text{Drug Overdoes}~|~X)$ in this special case. However, if we use linear regression, some of our estimates might be outside the $[0$, 1$]$ interval , making them hard to interpret as probabilities!\n",
    "\n",
    "   However, the dummy variable approach cannot be easily extended to accommodate qualitative responses with more than **two levels!!!** For these reasons, it is preferable to use a classification method that is truly suited for qualitative response values, such as the ones presented next."
   ]
  },
  {
   "cell_type": "markdown",
   "metadata": {
    "colab_type": "text",
    "id": "KOqSlI8MOYxz"
   },
   "source": [
    "2. Now we recall back in linear regression, we have independent input/variables $X$ and we seek a response/output variable $Y$. However in logistic regression, our output is in the form of a categorical variable. In our simple tutorial we will only be considering a binary output binary coded as 0 and 1. \n",
    "\n",
    "   As mentioned in the previous paragraph, we cannot use linear regression to predict a categorical output even if the categorical output is coded as numerical values, especially in such a classification problem with many levels in a categorical variable. As a result, we need to come up with a slightly different **hypothesis** to model our relationship for $X$ and $Y$.\n",
    "\n",
    "   As with any modelling, there should be a \"formula\" between the $X$ and the $Y$. However, we have already established it is not easy to obtain an direct equation between $X$ and $Y$. Instead, in logistic regression, we are more interested in having a relation between $X$ and $P(Y = 1 ~|~ X)$. One should immediately be asking, what and why is $P(Y=1~|~X)$? Let me give you an intuition by the following example."
   ]
  },
  {
   "cell_type": "markdown",
   "metadata": {
    "colab_type": "text",
    "id": "iBlISxwKOYxz"
   },
   "source": [
    "3. **Example**: We are trying to predict if a person has malignant tumor or not based on some inputs such as \"Tumor Size\" and etc. For simplicity sake, we only deal with one variable: The \"Tumor Size\" $X$. \n",
    "\n",
    "   Our output $Y$ is basically encoded as a binary class where **Yes it is Malignant Tumor** stands for 1 and **No it is not a Malignant Tumor** stands for 0. Consider the data set above, where the response \"$Y$ = Malignant\" falls into one of two categories, Yes (1) or No (0). As mentioned in the previous paragraph, rather than modeling this response $Y$ directly with $X$, logistic regression models the probability that $Y$ belongs to a particular category. One can see the from the below figure, the first row says that the tumour size is 1 cm and our data says that the patient's tumour is not malignant (thank god!). But as we said, we want the probability of the tumour being malignant **given** $X = 1$cm. So we write down the probability as shown below (just get this intuition first and don't wonder how are we going to find the probability first!).\n",
    "\n",
    "    ![1](https://raw.githubusercontent.com/ghnreigns/imagesss/master/logistic-8.jpg)\n",
    "\n",
    "   For this, in a simple (one variable only) logistic regression model, we can define our output $Y$ as a probability defined as $$P(Y=1~|~ X)$$\n",
    "    \n",
    "   **So to reiterate, instead of modelling our $Y$ directly with $X$, we aim to find a model that can model the probability of $Y$ given $X$.** But why? How does getting a probability help us? Although it should be obvious that $P(Y=1~|~X)$ should fall in between $0$ and $1$ since it is a probability, **but** it does not answer our question of whether you are in class 1 or 0 because ultimately, we are interested in finding out our output value which is either a 1 or a 0.\n",
    "\n",
    "   I DO NOT CARE if you told me you found that  $P(Y=1~|~X =1.1 \\text{ cm}) = 0.2349538$ which is neither 0 or 1? So this is where **classification threshold** comes in. You need to pre-define a threshold (default is usually 0.5). As a result, if we use a classification threshold of 0.5, then we will predict a $Y = \\text{Yes } (1)$ for any $P(Y=1|~X) > 0.5$. To write it more compactly, we define the following indicator function. (For more experienced peeps, there is connection with AUC,ROC curves here as well!)\n",
    "\n",
    "   \\begin{equation}\n",
    "     Y=\\begin{cases}\n",
    "       1, & \\text{if $P(Y=1~|~X) \\geq 0.5$}\\\\\n",
    "       0, & \\text{if $P(Y=1~|~X < 0.5$}\\\\\n",
    "       3, & \\text{if drug overdose}\\\\\n",
    "     \\end{cases}\n",
    "   \\end{equation}\n",
    "   \n",
    "   As a result if your tumour size is 1.1 cm, then the probability of your tumour is malignant is $0.2349538$, which is less than 0.5 and we predict your as a No (not malignant). However, the threshold is there for a reason, usually, in medical and healthcare industry, we tend to be more conservative with our predictions as we have 0 tolerance for False Negatives. We rather give you a false alarm than to classify you as No Malignancy when in fact you are already at the last stage of your life. So we can tune and change our threshold to something like $P(Y=1~|~X) >0.1$ and in this case, $0.2349538$ will be in the Yes class. \n",
    "\n",
    "   I know we are going off the tracks, but I hope I have provided you with some intuition on how modelling the $P(Y=1~|~X)$ as a function of $X$ makes sense here."
   ]
  },
  {
   "cell_type": "markdown",
   "metadata": {
    "colab_type": "text",
    "id": "QlWBix9jOYxz"
   },
   "source": [
    "4. **Hypothesizing and Modelling the Logistic Function:** For simplicity we call our function $P(Y=1~|~ X)$ as the function $p(X)$ and we seek to find a relationship between $p(X)$ and $X$. Although we have gone through a lot of ideas just now, it would be meaningless if we cannot find a suitable function (equation) to model $p(X)$ and $X$. \n",
    "\n",
    "   **Hypothesis 1: The Linear Hypothesis**\n",
    "\n",
    "   Hmm, so we got quite some success hypothesizing linear regression models with linear functions, can we try that too on $p(X)$ and $X$? Consider that we \"guess/hypothesize\" that $p(X)$ have a **linear relationship** with $X$ as follows: \n",
    "\n",
    "    $$p(X) = \\beta_0+\\beta_1 X$$\n",
    "\n",
    "   However the problem with this modelling is that for very large Tumour sizes $X$, say $X=10 \\text{ cm}$, then our $p(X)$ may take values greater than $1$. And for extremely small Tumour sizes $X$, say those very small benign lumps, which may be $X=0.05 \\text{ cm}$ in size, then $p(X)$ may take negative values. In any case, no matter how likely or unlikely one is to find his/her tumour to be malignant, how big or small the tumour size is, our $p(X)$ should only output values between $0$ and $1$ because $p(X)$ is a probability. Hence our linear model may be accurate to a certain extent, but not sensible.\n",
    "\n",
    "   **Hypothesis 2**\n",
    "\n",
    "   Instead of the linear hypothesis, we come up with another one, recall that we learnt that probability and odds have similar definition. And recall that $$\\text{odds} = \\dfrac{P(Y=1~|~X)}{1-P(Y=1~|~X)}$$\n",
    "\n",
    "   So why not model the odds against $X$? If we can successfully do that, then we can easily get the probability $P(Y=1~|~X)$ since odds and probability are in a if and only if relationship. So let us try: $$\\text{odds} = \\dfrac{p(X)}{1-p(X)} = \\beta_0 + \\beta_1X$$\n",
    "\n",
    "   But ALAS! We soon realise that the odds can only take on values from $0$ to $\\infty$, but the problem still exists for the $\\beta_0 + \\beta_1X$ since some $X$ values can output negative values.\n",
    "\n",
    "   But we are close, and if one has **some** mathematical backgrounds, then we know that if we take the log or ln of $\\text{odds}$ then we can have the desired results.\n",
    "\n",
    "   **Hypothesis 3: The Chosen one**\n",
    "\n",
    "   If we finally consider the modelling of the logarithm of the odds, against the variable $X$, where we still assume a linear relationship, then we may be good to go because the logarithm of the odds gives a range of $-\\infty$ to $\\infty$ and matches well with $\\beta_0+\\beta_1X$.      \n",
    "\n",
    "   With this we have achieved a regression model, with the output of the model being the logarithm or ln of the odds. i.e: the modelled equation is as follows:\n",
    "\n",
    "    $$\\ln\\left(\\dfrac{p(X)}{1-p(X)}\\right) = \\beta_0+\\beta_1X$$\n",
    "\n",
    "   The main reason we reach this step is because both sides of the equation can take in the same range, and thus makes more mathematical sense now. We have yet to estimate or found what the coefficients $\\beta_0, \\beta_1$ are. This is just a logical and sound hypothesis.\n",
    "\n",
    "   **Recovering the Logistic Function from log odds**\n",
    "\n",
    "   So in the previous paragraph we have settled on a hypothesis that there is a **linear relationship** between the predictor variable $X$ and the **log-odds** of the event that $Y=1$. However, do not forget what our original aim is, we modelled log odds against $X$ simply because the relationship can be mathematically justified, we ultimately want to find the probability of $Y=1$ given $X$. And that is easy, by some reverse engineering, once $\\beta_0, \\beta_1$ are fixed, we do some manipulation:\n",
    "\n",
    "    \n",
    "$$\\ln\\left(\\dfrac{p(X)}{1-p(X)}\\right) = \\beta_0+\\beta_1X \\iff  \\dfrac{p(X)}{1-p(X)} = \\exp{(\\beta_0+\\beta_1X)}   \\iff p(X)  = \\dfrac{\\exp{(\\beta_0+\\beta_1X)}}{\\exp{(\\beta_0+\\beta_1X)}+1} \\iff p(X) = \\dfrac{1}{1+\\exp^{-1}{(\\beta_0+\\beta_1X)}}$$\n",
    "\n",
    "\n",
    "   **Given the log odd mode (logit model actually), we can recover the probability of $Y=1$ given $X$ for each $X$.**\n"
   ]
  },
  {
   "cell_type": "markdown",
   "metadata": {
    "colab_type": "text",
    "id": "yKpbIz9kOYxz"
   },
   "source": [
    "5.  **Important - The workflow process of Logistic Regression**\n",
    "\n",
    "    - Given an indepedent variable $X$, we aim to predict a binary dependent variable $Y$.\n",
    "\n",
    "    - It is not easy to model a relationship between $X$ and $Y$ directly, instead, we find the probability of $Y = 1$ given $X$ instead. Imagine we are in the shoes of the famous statistician DR Cox in the year 1958, we are building logistic regression from scratch, and we tried to hypothesize that the probability $p(X) = P(Y=1~|~X)$ can be modelled the same way as **linear regression?** But soon realised that modelling $p(X) = \\beta_0+\\beta_1X$ is not good since its range gives values out of $[0,1]$. In order to overcome this we can make a transformation and fit the sigmoid/logistic function which forces the output $p(X)$ to be in $[0,1]$.\n",
    "\n",
    "    - Since the transformation may not be intuitive, I have made a simple explanation above, and showed steps on how to model $P(X)$ as a sigmoid function.\n",
    "\n",
    "        Sigmoid in logistic regression:\n",
    "\n",
    "    $$p(X) = \\dfrac{1}{1+\\exp^{-1}{(\\beta_0+\\beta_1X)}}$$\n",
    "\n",
    "    - So, we have effectively build a model, and in fact it is a probabilistic model behaving as a bernoulli distribution. To recover the probability $p(X)$, we have to estimate the coefficients (parameters) in $$p(X) = \\dfrac{1}{1+\\exp^{-1}{(\\beta_0+\\beta_1X)}}$$ and we use a method called **Maximum Likelihood (I will do a part 2 on this as it is also a big topic)**.\n",
    "\n",
    "    - Once we recover the coefficients $\\beta_0, \\beta_1$, we can simply plug in the coefficients and the respective values of $X$ to get $p(X)$. \n",
    "\n",
    "    - Once we get the $p(X)$, we can define a indicator function as our classification threshold (mentioned earlier) and subsequently, get all the values of $Y$."
   ]
  },
  {
   "cell_type": "markdown",
   "metadata": {
    "colab_type": "text",
    "id": "a7f7Faf6OYxz"
   },
   "source": [
    "## 8) Part 2: Maximum Likelihood  <a id=\"ls2\"></a>"
   ]
  },
  {
   "cell_type": "markdown",
   "metadata": {
    "colab_type": "text",
    "id": "5xZAXbkmOYx0"
   },
   "source": [
    "First you need to be very clear about what a **probability distribution is.** Consider that we have 10 students and we model their marks where the full marks of the test is 16/16. Define a random variable $X$ where $X$ represents the marks of each student. Assume further that this **random variable** $X$ is following a **normal distribution** with $\\mu = 11$ and $\\sigma = 3$, can we find the probability distribution for the marks of the whole cohort (10 students)? Yes we can, because we have the parameters. If you do not know what is the meaning of parameters, please go revise on it, it is very important for you to understand that the **parameter** decides the probability distribution of any model. \n",
    "\n",
    "Recall the general formula for the pdf of the normal distribution is $$f(X = x) = \\dfrac{e^{-(x-\\mu)^2}/(2\\sigma^2)}{\\sigma \\sqrt{2\\pi}}$$\n",
    "and in normal distribution once we have the mean and standard deviation of the dataset, we can recover the whole pdf of the model, hence the mean and standard deviation are our parameters.  So let us say we want to find $P(11 < X < 13~|~\\mu = 11, \\sigma = 3)$, we can easily find it to be around $0.31 = 31\\%$, we can basically find any probabilities **as long as we are given the parameters**. So, **we must have the correct mindset that,** probability density functions (or pmf alike) are legitimate functions that takes in any $X = x$ and outputs the probability of this $x$ **happening**. (Of course in continuous distribution we are usually only interested in the range of $x$, but for the purpose of intuition, we do not need to be so pedantic).\n",
    "\n",
    "**Likelihood Function**\n",
    "\n",
    "However, in the real world setting, more often than not, we have the data $X$, like we have conveniently the scores of all the 10 students above, which **could be a random sample taken** from the whole school's population. Now we are tasked to find the probability distribution of the whole population (say 10,000 students), and we would have calculate it ever so easily **if we knew what the parameters were!?** Unfortunately we do not have the true parameters.\n",
    "\n",
    "Our main motivation now is to find the **parameter**, because without it, we cannot complete the task of finding the distribution of the population. We can never know the real/true parameter $\\theta = (\\mu, \\sigma)$, but we can obtain a good estimator of it, by making use of the data that we do have! In this scenario we were given 10 data points (in real life it is usually much more), say the 10 data points are $$\\mathbf{X} = [3,9,4,10,12,16,5,11,9,9]$$\n",
    "\n",
    "So we do a sleight of hand using our original **probability density function**, $P(X = x~|~ \\theta)$. Instead of being a function of $X = x$ where $\\theta$ is known, we instead let $X = x$ be fixed, and let $\\theta$ be the variable now. The idea is that this function now is **NO LONGER a function of** $X=x$, and is instead a function of $\\theta$, where it takes in all possible values of $\\theta$, and outputs a value called the \\textbf{likelihood value.} So now, in a less informal way, our new function looks like $$P(\\mathbf{X} = [3,9,4,10,12,16,5,11,9,9]~|~ \\theta)$$ and it means **what is the probability of OBSERVING these data points, given different values of theta.** One needs to plot the graph of likelihood out to get a better idea (Wikipedia).  \n",
    "\n",
    "So imagine our function (plot likelihood value vs parameter) has a local/global maximum, and that maximum is what we are finding ultimately. Because it is reasonable for us to believe that, the **parameter** that gives us the maximum value of $P(\\mathbf{X} = [3,9,4,10,12,16,5,11,9,9]~|~ \\theta)$ will suggest that **given these 10 data points**, this $\\theta$ that we just found, gives us the highest **likelihood/probability** that these 10 points are actually observed. \n",
    "\n",
    "We formally define this function to be $$\\mathcal{L}(\\theta~|~ X = x) = P(X = x~|~\\theta) $$\n",
    "\n",
    "I cannot emphasize enough that even those the likelihood function $\\mathcal{L}$ and the probability function $P$ have the exact same form, they are fundamentally different in which one is a function of the parameter $\\theta$, and the other is a function of the data points $X = x$.\n",
    "\n",
    "**Maximizing the likelihood function**\n",
    "\n",
    "Many of us may not have rigourous mathematical background, and hence when I said we are trying to find the value of $\\theta$ that maximizes $\\mathcal{L}$, we might be stunned, indeed, the most intuitive way is to try out every possible theta and see which theta gives us the highest value; or if you can try differentiating $\\mathcal{L}$ and set the derivative to $0$ to solve for $\\theta$. In any case, our intuition is to maximize this function. We will illustrate the idea of maximum likelihood with a simple example below.\n",
    "\n",
    "**Example**\n",
    "\n",
    "Inspired and credits to [Jonny Brooks-Bartlett](https://towardsdatascience.com/probability-concepts-explained-maximum-likelihood-estimation-c7b4342fdbb1) as the example is almost similar.\n",
    "\n",
    "- Let's say we have a population of 1000 students and a random sample of 3 university students are taken with their respective marks for a Machine learning test. The data are distributed below in python (generate some data of 3 students marks). \n",
    "    \n",
    "- First, we always have to come up with a hypothesized model first, and in this case, based on these 3 sample data points, we make a simple plot and since the plot looks somewhat normal, we hypothesize that our model should be of a normal distribution (do be reminded this is just for illustration, 3 points may be too little for us to hypothesize a model in many scenarios).\n",
    "    \n",
    "- Our aim is to come up with a normal distribution for this 1000 students marks. In order to do that, we need to find the parameters and recall that in normal distribution, our parameters are the mean $\\mu$ and the standard deviation  $\\sigma$. So we have to find the best parameters that best describe our observed 3 sample points.\n",
    "    \n",
    "- Note that from our previous section, we know that we just need to maximize the likelihood function given by $$\\mathcal{L}\\left(\\theta = (\\mu, \\sigma)~|~ X = [9,9.5,11]\\right) = P\\left(X = [9,9.5,11]~;~ \\theta = (\\mu, \\sigma)\\right)$$\n",
    "\n",
    "- Here the author made a very good point that we shall use ; instead of | to indicate probability function. However some people like to use | as probability function can be described in a conditional way.\n",
    "    \n",
    "- And since our assumption that this 3 data points are independent of each other, our joint pdf equation can be simplified to \n",
    "    \n",
    "    \n",
    "$$P\\left(X = [9,9.5,11]~;~ \\theta = (\\mu, \\sigma)\\right) = P(9;\\theta = [\\mu, \\sigma]) \\cdot P(9.5;\\theta = [\\mu, \\sigma]) \\cdot  P(11;\\theta = [\\mu, \\sigma]) = \\dfrac{1}{\\sigma\\sqrt{2\\pi}}\\exp\\left(-\\dfrac{(9-\\mu)^2}{2\\sigma^2}\\right) \\cdot \\dfrac{1}{\\sigma\\sqrt{2\\pi}}\\exp\\left(-\\dfrac{(9.5-\\mu)^2}{2\\sigma^2}\\right) \\cdot \\dfrac{1}{\\sigma\\sqrt{2\\pi}}\\exp\\left(-\\dfrac{(11-\\mu)^2}{2\\sigma^2}\\right)~~~~~~~~(2.1)$$\n",
    "\n",
    "Equation 2.1 above is the joint probability of observing these 3 points and is a function of the parameters, so we suffice to find the parameters that maximize this function. So the intuition is to differentiate equation 2.1 and set it to 0, and solve for the parameter $\\theta$.\n",
    "\n",
    "- However, the expression in 2.1 is very difficult to differentiate, and that is why it is very common to see we take log/ln on both sides of the expression \n",
    "\n",
    "$\\ln\\mathcal{L} = \\ln\\left[\\frac{1}{\\sigma\\sqrt{2\\pi}}\\exp\\left(-\\frac{(9-\\mu)^2}{2\\sigma^2}\\right) \\cdot \\frac{1}{\\sigma\\sqrt{2\\pi}}\\exp\\left(-\\frac{(9.5-\\mu)^2}{2\\sigma^2}\\right) \\cdot \\frac{1}{\\sigma\\sqrt{2\\pi}}\\exp\\left(-\\frac{(11-\\mu)^2}{2\\sigma^2}\\right) \\right]$\n",
    "\n",
    "and instead maximize the new log-likelihood function instead. But some may be confused, when we solve the \\textbf{parameters} for the above equation, will our parameter still be the one that actually maximizes our equation 2.1? Yes, it does, the proof can be found here (for those who are curious). [proof](https://math.stackexchange.com/questions/647835/why-does-finding-the-x-that-maximizes-lnfx-is-the-same-as-finding-the#_=_)\n",
    "\n",
    "- We simplify the above $\\ln\\mathcal{L}$ function to get $$\\ln\\mathcal{L} = -3\\ln(\\sigma)-1.5\\ln(2\\pi) - \\frac{1}{2\\sigma^2}\\left[(9-\\mu)^2+(9.5-\\mu)^2+(11-\\mu)^2\\right]~~~(2.2)$$\n",
    "\n",
    "- We take the partial derivatives with respect to $\\mu$ and $\\sigma$ respectively and set to $0$ to solve equation 2.2, thereby getting our $\\theta$.\n",
    "\n",
    "$$\\dfrac{\\partial \\ln(\\mathcal{L})}{\\partial \\mu} = \\dfrac{1}{\\sigma^2}[9+9.5+11-3\\mu] = 0 \\implies \\mu = 9.833$$\n",
    "\n",
    "$$\\dfrac{\\partial \\ln(\\mathcal{L})}{\\partial \\sigma} = -\\dfrac{3}{\\sigma} + 4\\sigma^{-3}\\left[(9-\\mu)^2+(9.5-\\mu)^2+(11-\\mu)^2\\right] =0 \\implies \\sigma = 1.7$$\n",
    "\n",
    "- So now we have found the estimate of the real parameter of the population, and we can therefore infer that our populations' probability density function.\n",
    "\n",
    "- However, we are not really done yet, this example was easy and therefore can be calculated with hand. In reality, there is no closed form solution expression for the coefficient values that maximize the likelihood function, so that an iterative process must be used instead; for example Newton's method. This process begins with a tentative solution, revises it slightly to see if it can be improved, and repeats this revision until no more improvement is made, at which point the process is said to have converged.(Wikipedia)\n",
    "\n",
    "**It is important to realise that if convergence for the model is not reached, the coefficients/parameters you obtained may not be meaningful. Therefore, certain assumptions need to be fulfilled for logistic regression.**\n",
    "\n",
    "**Assumptions of logistic regression and Regularization will be mentioned in part III, which is also the final part of the Logistic Regression Trilogy**. "
   ]
  },
  {
   "cell_type": "markdown",
   "metadata": {},
   "source": []
  },
  {
   "cell_type": "markdown",
   "metadata": {},
   "source": []
  },
  {
   "cell_type": "markdown",
   "metadata": {},
   "source": []
  }
 ],
 "metadata": {
  "colab": {
   "name": "Titanic_kaggl",
   "provenance": []
  },
  "kernelspec": {
   "display_name": "Python 3",
   "language": "python",
   "name": "python3"
  },
  "language_info": {
   "codemirror_mode": {
    "name": "ipython",
    "version": 3
   },
   "file_extension": ".py",
   "mimetype": "text/x-python",
   "name": "python",
   "nbconvert_exporter": "python",
   "pygments_lexer": "ipython3",
   "version": "3.7.3"
  },
  "latex_envs": {
   "LaTeX_envs_menu_present": true,
   "autoclose": false,
   "autocomplete": true,
   "bibliofile": "biblio.bib",
   "cite_by": "apalike",
   "current_citInitial": 1,
   "eqLabelWithNumbers": true,
   "eqNumInitial": 1,
   "hotkeys": {
    "equation": "Ctrl-E",
    "itemize": "Ctrl-I"
   },
   "labels_anchors": false,
   "latex_user_defs": false,
   "report_style_numbering": false,
   "user_envs_cfg": false
  },
  "toc": {
   "base_numbering": 1,
   "nav_menu": {},
   "number_sections": false,
   "sideBar": true,
   "skip_h1_title": false,
   "title_cell": "Table of Contents",
   "title_sidebar": "Contents",
   "toc_cell": false,
   "toc_position": {
    "height": "calc(100% - 180px)",
    "left": "10px",
    "top": "150px",
    "width": "307.188px"
   },
   "toc_section_display": true,
   "toc_window_display": true
  },
  "varInspector": {
   "cols": {
    "lenName": 16,
    "lenType": 16,
    "lenVar": 40
   },
   "kernels_config": {
    "python": {
     "delete_cmd_postfix": "",
     "delete_cmd_prefix": "del ",
     "library": "var_list.py",
     "varRefreshCmd": "print(var_dic_list())"
    },
    "r": {
     "delete_cmd_postfix": ") ",
     "delete_cmd_prefix": "rm(",
     "library": "var_list.r",
     "varRefreshCmd": "cat(var_dic_list()) "
    }
   },
   "types_to_exclude": [
    "module",
    "function",
    "builtin_function_or_method",
    "instance",
    "_Feature"
   ],
   "window_display": false
  }
 },
 "nbformat": 4,
 "nbformat_minor": 1
}
