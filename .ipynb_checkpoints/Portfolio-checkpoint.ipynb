{
 "cells": [
  {
   "cell_type": "markdown",
   "metadata": {},
   "source": [
    "<p style=\"color:red\" > <h2>Krishna 크리스나 </h2><a href=\"https://www.github.com/krishdb38/portfolio\" target=\"_blank\">My Git Hub Repository </p>"
   ]
  },
  {
   "cell_type": "code",
   "execution_count": 5,
   "metadata": {},
   "outputs": [],
   "source": [
    "%reset -f "
   ]
  },
  {
   "cell_type": "markdown",
   "metadata": {},
   "source": [
    "<p style=\"background:gold;font-size:22px\">1.Import Necessary Library</p>"
   ]
  },
  {
   "cell_type": "code",
   "execution_count": 2,
   "metadata": {},
   "outputs": [],
   "source": [
    "import pandas as pd  #for data Editing and Mixing\n",
    "import numpy as np #For data Calculation\n",
    "import os   #To do os related work\n",
    "import matplotlib.pyplot as plt  #Library to plot Figure\n",
    "import seaborn as sns  #For graphical Representation\n",
    "%matplotlib inline"
   ]
  },
  {
   "cell_type": "code",
   "execution_count": 3,
   "metadata": {},
   "outputs": [],
   "source": [
    "df=pd.read_csv(\"ebay.csv\") #파일 읽는다 (Loading the file as a data frame )"
   ]
  },
  {
   "cell_type": "code",
   "execution_count": 4,
   "metadata": {},
   "outputs": [
    {
     "data": {
      "text/plain": [
       "199880"
      ]
     },
     "execution_count": 4,
     "metadata": {},
     "output_type": "execute_result"
    }
   ],
   "source": [
    "df.size #size of data frame  "
   ]
  },
  {
   "cell_type": "code",
   "execution_count": 5,
   "metadata": {},
   "outputs": [
    {
     "data": {
      "text/plain": [
       "(9994, 20)"
      ]
     },
     "execution_count": 5,
     "metadata": {},
     "output_type": "execute_result"
    }
   ],
   "source": [
    "df.shape  #size 2004 rows and 20 Columns"
   ]
  },
  {
   "cell_type": "code",
   "execution_count": 6,
   "metadata": {},
   "outputs": [
    {
     "data": {
      "text/plain": [
       "Index(['Category', 'City', 'Country', 'Customer Name', 'Discount',\n",
       "       'Number of Records', 'Order Date', 'Order ID', 'Postal Code',\n",
       "       'Manufacturer', 'Product Name', 'Profit', 'Quantity', 'Region', 'Sales',\n",
       "       'Segment', 'Ship Date', 'Ship Mode', 'State', 'Sub-Category'],\n",
       "      dtype='object')"
      ]
     },
     "execution_count": 6,
     "metadata": {},
     "output_type": "execute_result"
    }
   ],
   "source": [
    "df.columns #list the details of Colun"
   ]
  },
  {
   "cell_type": "code",
   "execution_count": 7,
   "metadata": {},
   "outputs": [
    {
     "data": {
      "text/plain": [
       "0          Furniture\n",
       "1          Furniture\n",
       "2    Office Supplies\n",
       "3          Furniture\n",
       "4    Office Supplies\n",
       "Name: Category, dtype: object"
      ]
     },
     "execution_count": 7,
     "metadata": {},
     "output_type": "execute_result"
    }
   ],
   "source": [
    "df[\"Category\"].head()     #Verifying data from one Column "
   ]
  },
  {
   "cell_type": "code",
   "execution_count": 8,
   "metadata": {},
   "outputs": [
    {
     "name": "stdout",
     "output_type": "stream",
     "text": [
      "<class 'pandas.core.frame.DataFrame'>\n",
      "RangeIndex: 9994 entries, 0 to 9993\n",
      "Data columns (total 20 columns):\n",
      "Category             9994 non-null object\n",
      "City                 9994 non-null object\n",
      "Country              9994 non-null object\n",
      "Customer Name        9994 non-null object\n",
      "Discount             9994 non-null float64\n",
      "Number of Records    9994 non-null int64\n",
      "Order Date           9994 non-null object\n",
      "Order ID             9994 non-null object\n",
      "Postal Code          9983 non-null float64\n",
      "Manufacturer         9994 non-null object\n",
      "Product Name         9994 non-null object\n",
      "Profit               9994 non-null float64\n",
      "Quantity             9994 non-null int64\n",
      "Region               9994 non-null object\n",
      "Sales                9994 non-null float64\n",
      "Segment              9994 non-null object\n",
      "Ship Date            9994 non-null object\n",
      "Ship Mode            9994 non-null object\n",
      "State                9994 non-null object\n",
      "Sub-Category         9994 non-null object\n",
      "dtypes: float64(4), int64(2), object(14)\n",
      "memory usage: 1.5+ MB\n"
     ]
    }
   ],
   "source": [
    "df.info()  #All Information about data and data type"
   ]
  },
  {
   "cell_type": "markdown",
   "metadata": {},
   "source": [
    "## In the above we can see object 14 categories in object float type is 4 int type 2"
   ]
  },
  {
   "cell_type": "code",
   "execution_count": 9,
   "metadata": {},
   "outputs": [],
   "source": [
    "def row_print(col_name):\n",
    "    return df[col_name][0:10]\n",
    "def data_describe(col_name):\n",
    "    return df[col_name].describe()"
   ]
  },
  {
   "cell_type": "code",
   "execution_count": 10,
   "metadata": {},
   "outputs": [
    {
     "data": {
      "text/plain": [
       "count     9994.000000\n",
       "mean       229.858001\n",
       "std        623.245101\n",
       "min          0.444000\n",
       "25%         17.280000\n",
       "50%         54.490000\n",
       "75%        209.940000\n",
       "max      22638.480000\n",
       "Name: Sales, dtype: float64"
      ]
     },
     "execution_count": 10,
     "metadata": {},
     "output_type": "execute_result"
    }
   ],
   "source": [
    "#df[\"Sales\"].describe()      #This descrive the Sales in one line\n",
    "data_describe(\"Sales\")       #Same Thing Using Function"
   ]
  },
  {
   "cell_type": "code",
   "execution_count": null,
   "metadata": {},
   "outputs": [],
   "source": [
    "#df[\"City\"]    #You Can check Value in City Column"
   ]
  },
  {
   "cell_type": "markdown",
   "metadata": {},
   "source": [
    "##  Col describe data type object must be changed to Suitable Data Format"
   ]
  },
  {
   "cell_type": "code",
   "execution_count": 11,
   "metadata": {},
   "outputs": [
    {
     "data": {
      "text/plain": [
       "Category              0\n",
       "City                  0\n",
       "Country               0\n",
       "Customer Name         0\n",
       "Discount              0\n",
       "Number of Records     0\n",
       "Order Date            0\n",
       "Order ID              0\n",
       "Postal Code          11\n",
       "Manufacturer          0\n",
       "Product Name          0\n",
       "Profit                0\n",
       "Quantity              0\n",
       "Region                0\n",
       "Sales                 0\n",
       "Segment               0\n",
       "Ship Date             0\n",
       "Ship Mode             0\n",
       "State                 0\n",
       "Sub-Category          0\n",
       "dtype: int64"
      ]
     },
     "execution_count": 11,
     "metadata": {},
     "output_type": "execute_result"
    }
   ],
   "source": [
    "df.isnull().sum() #Checking which Column has nan (Non Availiable Value)"
   ]
  },
  {
   "cell_type": "markdown",
   "metadata": {},
   "source": [
    "## In the Postal Code Column there are 11 nan value"
   ]
  },
  {
   "cell_type": "code",
   "execution_count": 12,
   "metadata": {},
   "outputs": [
    {
     "data": {
      "text/plain": [
       "count         9994\n",
       "unique        1236\n",
       "top       9/5/2017\n",
       "freq            38\n",
       "Name: Order Date, dtype: object"
      ]
     },
     "execution_count": 12,
     "metadata": {},
     "output_type": "execute_result"
    }
   ],
   "source": [
    "df[\"Order Date\"].describe() #Checking the data type of \"Order Date\""
   ]
  },
  {
   "cell_type": "markdown",
   "metadata": {},
   "source": [
    "## Convert to Date format"
   ]
  },
  {
   "cell_type": "code",
   "execution_count": 15,
   "metadata": {},
   "outputs": [],
   "source": [
    "#row_print(\"Order Date\")\n",
    "df[\"Order Date\"]=pd.to_datetime(df[\"Order Date\"])#Pandas to_datetime() method helps to\\\n",
    "#convert string Date time into Python Date time object.\n",
    "#df.to check for other formats"
   ]
  },
  {
   "cell_type": "code",
   "execution_count": 24,
   "metadata": {},
   "outputs": [
    {
     "data": {
      "text/plain": [
       "0   2017-11-08\n",
       "1   2017-11-08\n",
       "2   2017-06-12\n",
       "3   2016-10-11\n",
       "4   2016-10-11\n",
       "Name: Order Date, dtype: datetime64[ns]"
      ]
     },
     "execution_count": 24,
     "metadata": {},
     "output_type": "execute_result"
    }
   ],
   "source": [
    "df[\"Order Date\"].head()"
   ]
  },
  {
   "cell_type": "markdown",
   "metadata": {},
   "source": [
    "####  dtype :datetime64[ns]"
   ]
  },
  {
   "cell_type": "code",
   "execution_count": 23,
   "metadata": {},
   "outputs": [
    {
     "data": {
      "text/plain": [
       "count                    9994\n",
       "unique                   1236\n",
       "top       2017-09-05 00:00:00\n",
       "freq                       38\n",
       "first     2015-01-03 00:00:00\n",
       "last      2018-12-30 00:00:00\n",
       "Name: Order Date, dtype: object"
      ]
     },
     "execution_count": 23,
     "metadata": {},
     "output_type": "execute_result"
    }
   ],
   "source": [
    "df[\"Order Date\"].describe()\n",
    "#df[\"Order Date\"].head()"
   ]
  },
  {
   "cell_type": "markdown",
   "metadata": {},
   "source": [
    "### Check every Column and COnverting to best format"
   ]
  },
  {
   "cell_type": "code",
   "execution_count": 28,
   "metadata": {},
   "outputs": [
    {
     "data": {
      "text/plain": [
       "count                    9994\n",
       "unique                   1334\n",
       "top       2016-12-16 00:00:00\n",
       "freq                       35\n",
       "first     2015-01-07 00:00:00\n",
       "last      2019-01-05 00:00:00\n",
       "Name: Ship Date, dtype: object"
      ]
     },
     "execution_count": 28,
     "metadata": {},
     "output_type": "execute_result"
    }
   ],
   "source": [
    "#df[\"Ship Date\"]  #chek the date format\n",
    "df[\"Ship Date\"].describe()"
   ]
  },
  {
   "cell_type": "code",
   "execution_count": 21,
   "metadata": {},
   "outputs": [
    {
     "data": {
      "text/plain": [
       "0   2017-11-11\n",
       "1   2017-11-11\n",
       "2   2017-06-16\n",
       "Name: Ship Date, dtype: datetime64[ns]"
      ]
     },
     "execution_count": 21,
     "metadata": {},
     "output_type": "execute_result"
    }
   ],
   "source": [
    "df[\"Ship Date\"].head(3) #chek the date format Before Changing format"
   ]
  },
  {
   "cell_type": "markdown",
   "metadata": {},
   "source": [
    "### Ship Date is in object(string) format to we need to convert in to Date Format"
   ]
  },
  {
   "cell_type": "code",
   "execution_count": 19,
   "metadata": {},
   "outputs": [
    {
     "data": {
      "text/plain": [
       "0   2017-11-11\n",
       "1   2017-11-11\n",
       "2   2017-06-16\n",
       "Name: Ship Date, dtype: datetime64[ns]"
      ]
     },
     "execution_count": 19,
     "metadata": {},
     "output_type": "execute_result"
    }
   ],
   "source": [
    "#df[\"Ship Date\"] \n",
    "#change date format into String Format\n",
    "df[\"Ship Date\"]=pd.to_datetime(df[\"Ship Date\"])\n",
    "df[\"Ship Date\"].head(3)"
   ]
  },
  {
   "cell_type": "code",
   "execution_count": 20,
   "metadata": {},
   "outputs": [
    {
     "data": {
      "text/plain": [
       "count                    9994\n",
       "unique                   1334\n",
       "top       2016-12-16 00:00:00\n",
       "freq                       35\n",
       "first     2015-01-07 00:00:00\n",
       "last      2019-01-05 00:00:00\n",
       "Name: Ship Date, dtype: object"
      ]
     },
     "execution_count": 20,
     "metadata": {},
     "output_type": "execute_result"
    }
   ],
   "source": [
    "df[\"Ship Date\"].describe()"
   ]
  },
  {
   "cell_type": "markdown",
   "metadata": {},
   "source": [
    "# We Converted all Date(object) format to datetype format \n",
    "### Now we check other column"
   ]
  },
  {
   "cell_type": "code",
   "execution_count": 29,
   "metadata": {},
   "outputs": [
    {
     "data": {
      "text/plain": [
       "count               9994\n",
       "unique                 4\n",
       "top       Standard Class\n",
       "freq                5968\n",
       "Name: Ship Mode, dtype: object"
      ]
     },
     "execution_count": 29,
     "metadata": {},
     "output_type": "execute_result"
    }
   ],
   "source": [
    "#df[\"Ship Mode\"].head(10)\n",
    "df[\"Ship Mode\"].describe()\n",
    "#List unique values in the df['name'] column\n"
   ]
  },
  {
   "cell_type": "code",
   "execution_count": 29,
   "metadata": {},
   "outputs": [
    {
     "data": {
      "text/plain": [
       "array(['Second Class', 'Standard Class', 'First Class', 'Same Day'],\n",
       "      dtype=object)"
      ]
     },
     "execution_count": 29,
     "metadata": {},
     "output_type": "execute_result"
    }
   ],
   "source": [
    "df[\"Ship Mode\"].unique()"
   ]
  },
  {
   "cell_type": "code",
   "execution_count": 30,
   "metadata": {},
   "outputs": [
    {
     "data": {
      "text/plain": [
       "array(['Henderson', 'Los Angeles', 'Fort Lauderdale', 'Concord',\n",
       "       'Seattle', 'Fort Worth', 'Madison', 'West Jordan', 'San Francisco',\n",
       "       'Fremont', 'Philadelphia', 'Orem', 'Houston', 'Richardson',\n",
       "       'Naperville', 'Melbourne', 'Eagan', 'Westland', 'Dover',\n",
       "       'New Albany', 'New York City', 'Troy', 'Chicago', 'Gilbert',\n",
       "       'Springfield', 'Jackson', 'Memphis', 'Decatur', 'Durham',\n",
       "       'Columbia', 'Rochester', 'Minneapolis', 'Portland', 'Saint Paul',\n",
       "       'Aurora', 'Charlotte', 'Orland Park', 'Urbandale', 'Columbus',\n",
       "       'Bristol', 'Wilmington', 'Bloomington', 'Phoenix', 'Roseville',\n",
       "       'Independence', 'Pasadena', 'Newark', 'Franklin', 'Scottsdale',\n",
       "       'San Jose', 'Edmond', 'Carlsbad', 'San Antonio', 'Monroe',\n",
       "       'Fairfield', 'Grand Prairie', 'Redlands', 'Hamilton', 'Westfield',\n",
       "       'Akron', 'Denver', 'Dallas', 'Whittier', 'Saginaw', 'Medina',\n",
       "       'Dublin', 'Detroit', 'Tampa', 'Santa Clara', 'Lakeville',\n",
       "       'San Diego', 'Brentwood', 'Chapel Hill', 'Morristown',\n",
       "       'Cincinnati', 'Inglewood', 'Tamarac', 'Colorado Springs',\n",
       "       'Belleville', 'Taylor', 'Lakewood', 'Arlington', 'Arvada',\n",
       "       'Hackensack', 'Saint Petersburg', 'Long Beach', 'Hesperia',\n",
       "       'Murfreesboro', 'Layton', 'Austin', 'Lowell', 'Manchester',\n",
       "       'Harlingen', 'Tucson', 'Quincy', 'Pembroke Pines', 'Des Moines',\n",
       "       'Peoria', 'Las Vegas', 'Warwick', 'Miami', 'Huntington Beach',\n",
       "       'Richmond', 'Louisville', 'Lawrence', 'Canton', 'New Rochelle',\n",
       "       'Gastonia', 'Jacksonville', 'Auburn', 'Norman', 'Park Ridge',\n",
       "       'Amarillo', 'Lindenhurst', 'Huntsville', 'Fayetteville',\n",
       "       'Costa Mesa', 'Parker', 'Atlanta', 'Gladstone', 'Great Falls',\n",
       "       'Lakeland', 'Montgomery', 'Mesa', 'Green Bay', 'Anaheim',\n",
       "       'Marysville', 'Salem', 'Laredo', 'Grove City', 'Dearborn',\n",
       "       'Warner Robins', 'Vallejo', 'Mission Viejo', 'Rochester Hills',\n",
       "       'Plainfield', 'Sierra Vista', 'Vancouver', 'Cleveland', 'Tyler',\n",
       "       'Burlington', 'Waynesboro', 'Chester', 'Cary', 'Palm Coast',\n",
       "       'Mount Vernon', 'Hialeah', 'Oceanside', 'Evanston', 'Trenton',\n",
       "       'Cottage Grove', 'Bossier City', 'Lancaster', 'Asheville',\n",
       "       'Lake Elsinore', 'Omaha', 'Edmonds', 'Santa Ana', 'Milwaukee',\n",
       "       'Florence', 'Lorain', 'Linden', 'Salinas', 'New Brunswick',\n",
       "       'Garland', 'Norwich', 'Alexandria', 'Toledo', 'Farmington',\n",
       "       'Riverside', 'Torrance', 'Round Rock', 'Boca Raton',\n",
       "       'Virginia Beach', 'Oklahoma City', 'Kirkwood', 'La Porte',\n",
       "       'Lansing', 'El Paso', 'Mansfield', 'Des Plaines', 'Freeport',\n",
       "       'Perth Amboy', 'Watertown', 'Waterbury', 'Andover', 'Clifton',\n",
       "       'Clinton', 'Baltimore', 'Everett', 'Buffalo', 'Parma', 'Bethlehem',\n",
       "       'Lafayette', 'Mobile', 'Murray', 'Coral Springs', 'Knoxville',\n",
       "       'Bakersfield', 'Oakland', 'Draper', 'Lake Forest', 'Pocatello',\n",
       "       'Hillsboro', 'Greeley', 'Longmont', 'Encinitas', 'Mount Pleasant',\n",
       "       'Lawton', 'Greenwood', 'Saint Charles', 'Skokie', 'Lubbock',\n",
       "       'Middletown', 'Marion', 'Wheeling', 'Hampton', 'Boynton Beach',\n",
       "       'Apopka', 'Pomona', 'Glendale', 'Tulsa', 'San Angelo',\n",
       "       'League City', 'Carrollton', 'Frisco', 'Beaumont', 'Paterson',\n",
       "       'Cranston', 'Woonsocket', 'Vineland', 'Reading', 'Lake Charles',\n",
       "       'Sandy Springs', 'Harrisonburg', 'Tallahassee', 'Raleigh',\n",
       "       'Fresno', 'Olympia', 'North Las Vegas', 'Longview', 'Bellingham',\n",
       "       'Sacramento', 'Thornton', 'Fort Collins', 'Littleton',\n",
       "       'Dearborn Heights', 'Kenosha', 'Midland', 'Eau Claire', 'Wichita',\n",
       "       'Mishawaka', 'Texas City', 'Carol Stream', 'Allen',\n",
       "       'College Station', 'Plano', 'Highland Park', 'Pharr',\n",
       "       'Brownsville', 'Waco', 'Buffalo Grove', 'Rockford', 'Champaign',\n",
       "       'Yonkers', 'Rockville', 'Washington', 'Marlborough', 'Hempstead',\n",
       "       'Allentown', 'Passaic', 'Southaven', 'Conway', 'Jonesboro',\n",
       "       'Athens', 'Georgetown', 'Chesapeake', 'Hattiesburg', 'Macon',\n",
       "       'Little Rock', 'Greenville', 'Chattanooga', 'Nashville', 'Deltona',\n",
       "       'Hollywood', 'Miramar', 'Wilson', 'Hendersonville', 'Greensboro',\n",
       "       'Daytona Beach', 'Westminster', 'Bellevue', 'Spokane',\n",
       "       'Moreno Valley', 'Kent', 'Citrus Heights', 'Oxnard', 'Las Cruces',\n",
       "       'Provo', 'Morgan Hill', 'San Bernardino', 'Redmond', 'Modesto',\n",
       "       'Bullhead City', 'Broomfield', 'Rio Rancho', 'Gresham', 'Tempe',\n",
       "       'Apple Valley', 'Ontario', 'Pasco', 'Garden City', 'Indianapolis',\n",
       "       'Saint Louis', 'Frankfort', 'The Colony', 'Edinburg', 'Abilene',\n",
       "       'Providence', 'East Orange', 'Meriden', 'Suffolk',\n",
       "       'Charlottesville', 'Woodstock', 'Goldsboro', 'Delray Beach',\n",
       "       'Pensacola', 'Redondo Beach', 'Santa Maria', 'San Mateo',\n",
       "       'Commerce City', 'Temecula', 'Portage', 'Bolingbrook', 'Milford',\n",
       "       'Orange', 'Utica', 'Kenner', 'Rock Hill', 'Homestead',\n",
       "       'Plantation', 'Chula Vista', 'Pueblo', 'South Bend', 'Elkhart',\n",
       "       'Noblesville', 'Holland', 'Grand Island', 'Fargo', 'La Crosse',\n",
       "       'Aberdeen', 'Keller', 'Irving', 'Romeoville', 'Hagerstown',\n",
       "       'Nashua', 'Bowling Green', 'Cuyahoga Falls', 'Pine Bluff',\n",
       "       'North Charleston', 'Jupiter', 'Port Orange', 'Johnson City',\n",
       "       'North Miami', 'Port Saint Lucie', 'Clarksville', 'Chico',\n",
       "       'Albuquerque', 'Stockton', 'Rancho Cucamonga', 'Pleasant Grove',\n",
       "       'Escondido', 'Sparks', 'Vacaville', 'Avondale', 'Salt Lake City',\n",
       "       'Broken Arrow', 'Sterling Heights', 'Royal Oak', 'Wausau',\n",
       "       'Norfolk', 'Waterloo', 'Coon Rapids', 'Grand Rapids', 'Waukesha',\n",
       "       'New Castle', 'Sioux Falls', 'Mcallen', 'Coppell', 'Port Arthur',\n",
       "       'Cedar Hill', 'Oswego', 'Arlington Heights', 'Rome', 'Leominster',\n",
       "       'Malden', 'Roswell', 'Newport News', 'Smyrna', 'Owensboro',\n",
       "       'Marietta', 'Rogers', 'Gulfport', 'Orlando', 'Margate',\n",
       "       'Thomasville', 'West Palm Beach', 'Lebanon', 'Bartlett',\n",
       "       'Ormond Beach', 'Hickory', 'Logan', 'Visalia', 'San Luis Obispo',\n",
       "       'San Clemente', 'Camarillo', 'Murrieta', 'Davis', 'Santa Barbara',\n",
       "       'Lodi', 'Renton', 'Lewiston', 'Medford', 'Chandler', 'Missoula',\n",
       "       'Loveland', 'Englewood', 'Tigard', 'Clovis', 'Cedar Rapids',\n",
       "       'Pearland', 'Niagara Falls', 'Boise', 'Thousand Oaks', 'Glenview',\n",
       "       'Moorhead', 'Dubuque', 'Appleton', 'New Bedford', 'Jamestown',\n",
       "       'Hot Springs', 'Kissimmee', 'Santa Fe', 'Woodland', 'Redding',\n",
       "       'Rapid City', 'Odessa', 'Tinley Park', 'Mason', 'Sunnyvale',\n",
       "       'West Allis', 'San Marcos', 'Corpus Christi', 'Covington',\n",
       "       'Eugene', 'Oak Park', 'Lincoln Park', 'Saint Cloud', 'Bryan',\n",
       "       'Mesquite', 'Revere', 'Bangor', 'Laurel', 'Gaithersburg', 'York',\n",
       "       'East Point', 'Texarkana', 'Coral Gables', 'Pompano Beach',\n",
       "       'Twin Falls', 'Caldwell', 'El Cajon', 'Overland Park',\n",
       "       'Haltom City', 'Bedford', 'Conroe', 'Deer Park', 'Altoona',\n",
       "       'Hoover', 'Antioch', 'Helena', 'Billings', 'Iowa City',\n",
       "       'Ann Arbor', 'Atlantic City', 'Elyria', 'Summerville',\n",
       "       'Laguna Niguel', 'Yuma', 'Maple Grove', 'Woodbury', 'Baytown',\n",
       "       'Grapevine', 'Missouri City', 'Bridgeton', 'Beverly', 'Reno',\n",
       "       'Coachella', 'Yucaipa', 'Meridian', 'Redwood City', 'Palatine',\n",
       "       'La Quinta', 'Montebello', 'Lehi', 'Pico Rivera', 'Muskogee',\n",
       "       'Mentor', 'Manteca', 'Danville', 'Olathe', 'Jefferson City',\n",
       "       'Saint Peters', 'Superior', 'Normal', 'Elmhurst', 'Cambridge',\n",
       "       'Holyoke', 'Danbury', 'Tuscaloosa', 'Sanford', 'Burbank',\n",
       "       'San Gabriel', 'Cheyenne', 'Shelton', 'Bayonne', 'Sheboygan',\n",
       "       'Springdale', 'Bozeman', 'La Mesa', 'Manhattan'], dtype=object)"
      ]
     },
     "execution_count": 30,
     "metadata": {},
     "output_type": "execute_result"
    }
   ],
   "source": [
    "df.City.unique() #All the Unique values in City Column"
   ]
  },
  {
   "cell_type": "code",
   "execution_count": null,
   "metadata": {},
   "outputs": [],
   "source": []
  },
  {
   "cell_type": "markdown",
   "metadata": {},
   "source": [
    "### We Can see Unique value in  State Column"
   ]
  },
  {
   "cell_type": "code",
   "execution_count": 45,
   "metadata": {},
   "outputs": [
    {
     "data": {
      "text/plain": [
       "array(['Kentucky', 'California', 'Florida', 'North Carolina',\n",
       "       'Washington', 'Texas', 'Wisconsin', 'Utah', 'Nebraska',\n",
       "       'Pennsylvania', 'Illinois', 'Minnesota', 'Michigan', 'Delaware',\n",
       "       'Indiana', 'New York', 'Arizona', 'Virginia', 'Tennessee',\n",
       "       'Alabama', 'South Carolina', 'Oregon', 'Colorado', 'Iowa', 'Ohio',\n",
       "       'Missouri', 'Oklahoma', 'New Mexico', 'Louisiana', 'Connecticut',\n",
       "       'New Jersey', 'Massachusetts', 'Georgia', 'Nevada', 'Rhode Island',\n",
       "       'Mississippi', 'Arkansas', 'Montana', 'New Hampshire', 'Maryland',\n",
       "       'Idaho', 'West Virginia', 'Vermont', 'Kansas',\n",
       "       'District of Columbia', 'North Dakota', 'South Dakota', 'Maine',\n",
       "       'Wyoming'], dtype=object)"
      ]
     },
     "execution_count": 45,
     "metadata": {},
     "output_type": "execute_result"
    }
   ],
   "source": [
    "df.State.unique()\n",
    "unique_state=df.State.unique()\n",
    "unique_state"
   ]
  },
  {
   "cell_type": "code",
   "execution_count": 46,
   "metadata": {},
   "outputs": [
    {
     "data": {
      "text/plain": [
       "count           9994\n",
       "unique            49\n",
       "top       California\n",
       "freq            2001\n",
       "Name: State, dtype: object"
      ]
     },
     "execution_count": 46,
     "metadata": {},
     "output_type": "execute_result"
    }
   ],
   "source": [
    "df.State.describe()"
   ]
  },
  {
   "cell_type": "code",
   "execution_count": 56,
   "metadata": {},
   "outputs": [
    {
     "data": {
      "text/plain": [
       "array(['United States'], dtype=object)"
      ]
     },
     "execution_count": 56,
     "metadata": {},
     "output_type": "execute_result"
    }
   ],
   "source": [
    "df.Country.unique()"
   ]
  },
  {
   "cell_type": "markdown",
   "metadata": {},
   "source": [
    "### In teh Country Column Ther is one Country Country so delete Country Coulumn for fast Processing"
   ]
  },
  {
   "cell_type": "code",
   "execution_count": 62,
   "metadata": {},
   "outputs": [],
   "source": [
    "df=df.drop(\"Country\", axis=1)"
   ]
  },
  {
   "cell_type": "code",
   "execution_count": 63,
   "metadata": {},
   "outputs": [
    {
     "data": {
      "text/plain": [
       "Index(['Category', 'City', 'Customer Name', 'Discount', 'Number of Records',\n",
       "       'Order Date', 'Order ID', 'Postal Code', 'Manufacturer', 'Product Name',\n",
       "       'Profit', 'Quantity', 'Region', 'Sales', 'Segment', 'Ship Date',\n",
       "       'Ship Mode', 'State', 'Sub-Category'],\n",
       "      dtype='object')"
      ]
     },
     "execution_count": 63,
     "metadata": {},
     "output_type": "execute_result"
    }
   ],
   "source": [
    "df.columns"
   ]
  },
  {
   "cell_type": "markdown",
   "metadata": {},
   "source": [
    "####  In the above we can see Country is deleted"
   ]
  },
  {
   "cell_type": "code",
   "execution_count": 64,
   "metadata": {},
   "outputs": [
    {
     "data": {
      "text/plain": [
       "count     9994\n",
       "unique       4\n",
       "top       West\n",
       "freq      3203\n",
       "Name: Region, dtype: object"
      ]
     },
     "execution_count": 64,
     "metadata": {},
     "output_type": "execute_result"
    }
   ],
   "source": [
    "df.Region.describe()\n",
    "#row_print(\"Region\")   #By Using Function\n"
   ]
  },
  {
   "cell_type": "code",
   "execution_count": 66,
   "metadata": {},
   "outputs": [
    {
     "data": {
      "text/plain": [
       "array(['South', 'West', 'Central', 'East'], dtype=object)"
      ]
     },
     "execution_count": 66,
     "metadata": {},
     "output_type": "execute_result"
    }
   ],
   "source": [
    "df.Region.unique() # Unique values in Region "
   ]
  },
  {
   "cell_type": "markdown",
   "metadata": {},
   "source": [
    "### Check For Segment COlumn"
   ]
  },
  {
   "cell_type": "code",
   "execution_count": 67,
   "metadata": {},
   "outputs": [
    {
     "data": {
      "text/plain": [
       "count         9994\n",
       "unique           3\n",
       "top       Consumer\n",
       "freq          5191\n",
       "Name: Segment, dtype: object"
      ]
     },
     "execution_count": 67,
     "metadata": {},
     "output_type": "execute_result"
    }
   ],
   "source": [
    "df.Segment.describe()"
   ]
  },
  {
   "cell_type": "markdown",
   "metadata": {},
   "source": [
    "##### In the Segment Coumn unique variables are 3 Lets Check "
   ]
  },
  {
   "cell_type": "code",
   "execution_count": 68,
   "metadata": {},
   "outputs": [
    {
     "data": {
      "text/plain": [
       "array(['Consumer', 'Corporate', 'Home Office'], dtype=object)"
      ]
     },
     "execution_count": 68,
     "metadata": {},
     "output_type": "execute_result"
    }
   ],
   "source": [
    "df.Segment.unique()"
   ]
  },
  {
   "cell_type": "markdown",
   "metadata": {},
   "source": [
    "#####  We Can find  check 3 main Segment"
   ]
  },
  {
   "cell_type": "code",
   "execution_count": 69,
   "metadata": {},
   "outputs": [
    {
     "data": {
      "text/plain": [
       "count               9994\n",
       "unique                 4\n",
       "top       Standard Class\n",
       "freq                5968\n",
       "Name: Ship Mode, dtype: object"
      ]
     },
     "execution_count": 69,
     "metadata": {},
     "output_type": "execute_result"
    }
   ],
   "source": [
    "df[\"Ship Mode\"].describe()"
   ]
  },
  {
   "cell_type": "code",
   "execution_count": 70,
   "metadata": {},
   "outputs": [
    {
     "data": {
      "text/plain": [
       "array(['Second Class', 'Standard Class', 'First Class', 'Same Day'],\n",
       "      dtype=object)"
      ]
     },
     "execution_count": 70,
     "metadata": {},
     "output_type": "execute_result"
    }
   ],
   "source": [
    "#in the above we can see 4 Unique Value\n",
    "df[\"Ship Mode\"].unique()"
   ]
  },
  {
   "cell_type": "code",
   "execution_count": 71,
   "metadata": {},
   "outputs": [
    {
     "data": {
      "text/plain": [
       "count           9994\n",
       "unique            49\n",
       "top       California\n",
       "freq            2001\n",
       "Name: State, dtype: object"
      ]
     },
     "execution_count": 71,
     "metadata": {},
     "output_type": "execute_result"
    }
   ],
   "source": [
    "df[\"State\"].describe()"
   ]
  },
  {
   "cell_type": "code",
   "execution_count": 73,
   "metadata": {},
   "outputs": [],
   "source": [
    "#df[\"State\"].unique()"
   ]
  },
  {
   "cell_type": "code",
   "execution_count": 74,
   "metadata": {},
   "outputs": [
    {
     "data": {
      "text/plain": [
       "count           9994\n",
       "unique            49\n",
       "top       California\n",
       "freq            2001\n",
       "Name: State, dtype: object"
      ]
     },
     "execution_count": 74,
     "metadata": {},
     "output_type": "execute_result"
    }
   ],
   "source": [
    "df[\"State\"].describe()"
   ]
  },
  {
   "cell_type": "markdown",
   "metadata": {},
   "source": [
    "# Part 2 Plotting In to graf Using Pandas"
   ]
  },
  {
   "cell_type": "code",
   "execution_count": 75,
   "metadata": {},
   "outputs": [
    {
     "data": {
      "text/plain": [
       "Index(['Category', 'City', 'Customer Name', 'Discount', 'Number of Records',\n",
       "       'Order Date', 'Order ID', 'Postal Code', 'Manufacturer', 'Product Name',\n",
       "       'Profit', 'Quantity', 'Region', 'Sales', 'Segment', 'Ship Date',\n",
       "       'Ship Mode', 'State', 'Sub-Category'],\n",
       "      dtype='object')"
      ]
     },
     "execution_count": 75,
     "metadata": {},
     "output_type": "execute_result"
    }
   ],
   "source": [
    "df.columns"
   ]
  },
  {
   "cell_type": "markdown",
   "metadata": {},
   "source": [
    "### Histogram Table According to Categories"
   ]
  },
  {
   "cell_type": "code",
   "execution_count": 107,
   "metadata": {},
   "outputs": [
    {
     "data": {
      "image/png": "[encoded data removed]",
      "text/plain": [
       "<Figure size 1152x576 with 1 Axes>"
      ]
     },
     "metadata": {
      "needs_background": "light"
     },
     "output_type": "display_data"
    }
   ],
   "source": [
    "plt.figure(figsize=(16,8))\n",
    "df[\"Category\"].value_counts().plot.bar()\n",
    "plt.title(\"Sales According to Categories\")\n",
    "plt.ylabel(\"Count\")\n",
    "plt.xlabel(\"Categories\")\n",
    "plt.show()"
   ]
  },
  {
   "cell_type": "markdown",
   "metadata": {},
   "source": [
    "## According to City Histogram"
   ]
  },
  {
   "cell_type": "code",
   "execution_count": 108,
   "metadata": {},
   "outputs": [
    {
     "data": {
      "image/png": "[encoded data removed]",
      "text/plain": [
       "<Figure size 1296x720 with 1 Axes>"
      ]
     },
     "metadata": {
      "needs_background": "light"
     },
     "output_type": "display_data"
    }
   ],
   "source": [
    "plt.figure(figsize=(18,10))\n",
    "\n",
    "top_city=df.groupby(\"City\")[\"Sales\"].count().sort_values(ascending=False)\n",
    "top_city=top_city[:10]\n",
    "top_city.plot(kind=\"bar\") #plot in Bar ,Other options are pie\n",
    "plt.title(\"Top 10 City according to Sales \")\n",
    "plt.ylabel(\"Sales\")\n",
    "plt.xlabel(\"CIty\")\n",
    "plt.show()"
   ]
  },
  {
   "cell_type": "code",
   "execution_count": 100,
   "metadata": {},
   "outputs": [],
   "source": [
    "#print(top_city)"
   ]
  },
  {
   "cell_type": "code",
   "execution_count": 79,
   "metadata": {},
   "outputs": [
    {
     "data": {
      "text/html": [
       "<div>\n",
       "<style scoped>\n",
       "    .dataframe tbody tr th:only-of-type {\n",
       "        vertical-align: middle;\n",
       "    }\n",
       "\n",
       "    .dataframe tbody tr th {\n",
       "        vertical-align: top;\n",
       "    }\n",
       "\n",
       "    .dataframe thead th {\n",
       "        text-align: right;\n",
       "    }\n",
       "</style>\n",
       "<table border=\"1\" class=\"dataframe\">\n",
       "  <thead>\n",
       "    <tr style=\"text-align: right;\">\n",
       "      <th></th>\n",
       "      <th>Category</th>\n",
       "      <th>City</th>\n",
       "      <th>Customer Name</th>\n",
       "      <th>Discount</th>\n",
       "      <th>Number of Records</th>\n",
       "      <th>Order Date</th>\n",
       "      <th>Order ID</th>\n",
       "      <th>Postal Code</th>\n",
       "      <th>Manufacturer</th>\n",
       "      <th>Product Name</th>\n",
       "      <th>Profit</th>\n",
       "      <th>Quantity</th>\n",
       "      <th>Region</th>\n",
       "      <th>Sales</th>\n",
       "      <th>Segment</th>\n",
       "      <th>Ship Date</th>\n",
       "      <th>Ship Mode</th>\n",
       "      <th>State</th>\n",
       "      <th>Sub-Category</th>\n",
       "    </tr>\n",
       "  </thead>\n",
       "  <tbody>\n",
       "    <tr>\n",
       "      <th>0</th>\n",
       "      <td>Furniture</td>\n",
       "      <td>Henderson</td>\n",
       "      <td>Claire Gute</td>\n",
       "      <td>0.0</td>\n",
       "      <td>1</td>\n",
       "      <td>2017-11-08</td>\n",
       "      <td>CA-2017-152156</td>\n",
       "      <td>42420.0</td>\n",
       "      <td>Bush</td>\n",
       "      <td>Bush Somerset Collection Bookcase</td>\n",
       "      <td>41.9136</td>\n",
       "      <td>2</td>\n",
       "      <td>South</td>\n",
       "      <td>261.96</td>\n",
       "      <td>Consumer</td>\n",
       "      <td>2017-11-11</td>\n",
       "      <td>Second Class</td>\n",
       "      <td>Kentucky</td>\n",
       "      <td>Bookcases</td>\n",
       "    </tr>\n",
       "  </tbody>\n",
       "</table>\n",
       "</div>"
      ],
      "text/plain": [
       "    Category       City Customer Name  Discount  Number of Records Order Date  \\\n",
       "0  Furniture  Henderson   Claire Gute       0.0                  1 2017-11-08   \n",
       "\n",
       "         Order ID  Postal Code Manufacturer  \\\n",
       "0  CA-2017-152156      42420.0         Bush   \n",
       "\n",
       "                        Product Name   Profit  Quantity Region   Sales  \\\n",
       "0  Bush Somerset Collection Bookcase  41.9136         2  South  261.96   \n",
       "\n",
       "    Segment  Ship Date     Ship Mode     State Sub-Category  \n",
       "0  Consumer 2017-11-11  Second Class  Kentucky    Bookcases  "
      ]
     },
     "execution_count": 79,
     "metadata": {},
     "output_type": "execute_result"
    }
   ],
   "source": [
    "df.head(1)"
   ]
  },
  {
   "cell_type": "code",
   "execution_count": 116,
   "metadata": {},
   "outputs": [
    {
     "data": {
      "image/png": "[encoded data removed]",
      "text/plain": [
       "<Figure size 1296x720 with 1 Axes>"
      ]
     },
     "metadata": {
      "needs_background": "light"
     },
     "output_type": "display_data"
    }
   ],
   "source": [
    "plt.figure(figsize=(18,10))\n",
    "manu=df.groupby(\"Manufacturer\")[\"Sales\"].count()\n",
    "manu_top10=manu[:10] #Top 10\n",
    "manu_last10=manu[-10:] #Last 10\n",
    "#top_man=df.groupby(\"manu\").count().plot.bar()\n",
    "manu_top10.plot(kind=\"bar\")\n",
    "plt.show()"
   ]
  },
  {
   "cell_type": "code",
   "execution_count": null,
   "metadata": {},
   "outputs": [],
   "source": [
    "#In the above Table Manufacturer Acco is first in Position and 3D system is in10 Position"
   ]
  },
  {
   "cell_type": "code",
   "execution_count": 122,
   "metadata": {},
   "outputs": [
    {
     "data": {
      "image/png": "[encoded data removed]",
      "text/plain": [
       "<Figure size 720x360 with 1 Axes>"
      ]
     },
     "metadata": {},
     "output_type": "display_data"
    }
   ],
   "source": [
    "plt.figure(figsize=(10,5))\n",
    "manu_last10.plot(kind=\"pie\")\n",
    "plt.\n",
    "plt.show()"
   ]
  },
  {
   "cell_type": "code",
   "execution_count": 124,
   "metadata": {},
   "outputs": [
    {
     "data": {
      "text/html": [
       "<div>\n",
       "<style scoped>\n",
       "    .dataframe tbody tr th:only-of-type {\n",
       "        vertical-align: middle;\n",
       "    }\n",
       "\n",
       "    .dataframe tbody tr th {\n",
       "        vertical-align: top;\n",
       "    }\n",
       "\n",
       "    .dataframe thead th {\n",
       "        text-align: right;\n",
       "    }\n",
       "</style>\n",
       "<table border=\"1\" class=\"dataframe\">\n",
       "  <thead>\n",
       "    <tr style=\"text-align: right;\">\n",
       "      <th></th>\n",
       "      <th>Category</th>\n",
       "      <th>City</th>\n",
       "      <th>Country</th>\n",
       "      <th>Customer Name</th>\n",
       "      <th>Discount</th>\n",
       "      <th>Number of Records</th>\n",
       "      <th>Order Date</th>\n",
       "      <th>Order ID</th>\n",
       "      <th>Postal Code</th>\n",
       "      <th>Manufacturer</th>\n",
       "      <th>Product Name</th>\n",
       "      <th>Profit</th>\n",
       "      <th>Quantity</th>\n",
       "      <th>Region</th>\n",
       "      <th>Sales</th>\n",
       "      <th>Segment</th>\n",
       "      <th>Ship Date</th>\n",
       "      <th>Ship Mode</th>\n",
       "      <th>State</th>\n",
       "      <th>Sub-Category</th>\n",
       "    </tr>\n",
       "  </thead>\n",
       "  <tbody>\n",
       "    <tr>\n",
       "      <th>0</th>\n",
       "      <td>Furniture</td>\n",
       "      <td>Henderson</td>\n",
       "      <td>United States</td>\n",
       "      <td>Claire Gute</td>\n",
       "      <td>0.0</td>\n",
       "      <td>1</td>\n",
       "      <td>11/8/2017</td>\n",
       "      <td>CA-2017-152156</td>\n",
       "      <td>42420.0</td>\n",
       "      <td>Bush</td>\n",
       "      <td>Bush Somerset Collection Bookcase</td>\n",
       "      <td>41.9136</td>\n",
       "      <td>2</td>\n",
       "      <td>South</td>\n",
       "      <td>261.96</td>\n",
       "      <td>Consumer</td>\n",
       "      <td>11/11/2017</td>\n",
       "      <td>Second Class</td>\n",
       "      <td>Kentucky</td>\n",
       "      <td>Bookcases</td>\n",
       "    </tr>\n",
       "  </tbody>\n",
       "</table>\n",
       "</div>"
      ],
      "text/plain": [
       "    Category       City        Country Customer Name  Discount  \\\n",
       "0  Furniture  Henderson  United States   Claire Gute       0.0   \n",
       "\n",
       "   Number of Records Order Date        Order ID  Postal Code Manufacturer  \\\n",
       "0                  1  11/8/2017  CA-2017-152156      42420.0         Bush   \n",
       "\n",
       "                        Product Name   Profit  Quantity Region   Sales  \\\n",
       "0  Bush Somerset Collection Bookcase  41.9136         2  South  261.96   \n",
       "\n",
       "    Segment   Ship Date     Ship Mode     State Sub-Category  \n",
       "0  Consumer  11/11/2017  Second Class  Kentucky    Bookcases  "
      ]
     },
     "execution_count": 124,
     "metadata": {},
     "output_type": "execute_result"
    }
   ],
   "source": [
    "df.head(1)"
   ]
  },
  {
   "cell_type": "code",
   "execution_count": 132,
   "metadata": {},
   "outputs": [
    {
     "data": {
      "image/png": "[encoded data removed]",
      "text/plain": [
       "<Figure size 1152x576 with 1 Axes>"
      ]
     },
     "metadata": {
      "needs_background": "light"
     },
     "output_type": "display_data"
    }
   ],
   "source": [
    "plt.figure(figsize=(16,8))\n",
    "sns.boxplot(\"Ship Mode\",\"Profit\",data=df)\n",
    "plt.title(\"ShipMode with Total Number of Records\")\n",
    "plt.show()"
   ]
  },
  {
   "cell_type": "markdown",
   "metadata": {},
   "source": [
    "# In box plot we can see Standard Class has been sent more in sales"
   ]
  }
 ],
 "metadata": {
  "kernelspec": {
   "display_name": "Python 3",
   "language": "python",
   "name": "python3"
  },
  "language_info": {
   "codemirror_mode": {
    "name": "ipython",
    "version": 3
   },
   "file_extension": ".py",
   "mimetype": "text/x-python",
   "name": "python",
   "nbconvert_exporter": "python",
   "pygments_lexer": "ipython3",
   "version": "3.7.3"
  }
 },
 "nbformat": 4,
 "nbformat_minor": 2
}
